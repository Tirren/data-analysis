{
 "cells": [
  {
   "cell_type": "markdown",
   "metadata": {},
   "source": [
    "# Sklearn"
   ]
  },
  {
   "cell_type": "markdown",
   "metadata": {},
   "source": [
    "## sklearn.liner_model"
   ]
  },
  {
   "cell_type": "markdown",
   "metadata": {},
   "source": [
    "**linear_model:**\n",
    "* RidgeClassifier\n",
    "* SGDClassifier\n",
    "* SGDRegressor\n",
    "* LinearRegression\n",
    "* LogisticRegression\n",
    "* Lasso\n",
    "* etc"
   ]
  },
  {
   "cell_type": "markdown",
   "metadata": {},
   "source": [
    "документация: http://scikit-learn.org/stable/modules/classes.html#module-sklearn.linear_model\n",
    "\n",
    "примеры: http://scikit-learn.org/stable/modules/linear_model.html#linear-model"
   ]
  },
  {
   "cell_type": "code",
   "execution_count": 130,
   "metadata": {},
   "outputs": [],
   "source": [
    "from matplotlib.colors import ListedColormap\n",
    "from sklearn import cross_validation, datasets, linear_model, metrics\n",
    "\n",
    "import numpy as np\n",
    "import pandas as pd"
   ]
  },
  {
   "cell_type": "code",
   "execution_count": 131,
   "metadata": {},
   "outputs": [
    {
     "name": "stdout",
     "output_type": "stream",
     "text": [
      "Populating the interactive namespace from numpy and matplotlib\n"
     ]
    },
    {
     "name": "stderr",
     "output_type": "stream",
     "text": [
      "D:\\Anaconda2\\lib\\site-packages\\IPython\\core\\magics\\pylab.py:161: UserWarning: pylab import has clobbered these variables: ['colors']\n",
      "`%matplotlib` prevents importing * from pylab and numpy\n",
      "  \"\\n`%matplotlib` prevents importing * from pylab and numpy\"\n"
     ]
    }
   ],
   "source": [
    "%pylab inline"
   ]
  },
  {
   "cell_type": "markdown",
   "metadata": {},
   "source": [
    "### Генерация данных"
   ]
  },
  {
   "cell_type": "code",
   "execution_count": 132,
   "metadata": {},
   "outputs": [],
   "source": [
    "blobs = datasets.make_blobs(n_features=3, centers=3, cluster_std=5.5, random_state=1)"
   ]
  },
  {
   "cell_type": "code",
   "execution_count": 133,
   "metadata": {},
   "outputs": [],
   "source": [
    "df = pd.DataFrame(data=blobs[0], index=blobs[1])"
   ]
  },
  {
   "cell_type": "code",
   "execution_count": 134,
   "metadata": {},
   "outputs": [
    {
     "data": {
      "text/plain": [
       "(100, 3)"
      ]
     },
     "execution_count": 134,
     "metadata": {},
     "output_type": "execute_result"
    }
   ],
   "source": [
    "df.shape"
   ]
  },
  {
   "cell_type": "code",
   "execution_count": 135,
   "metadata": {},
   "outputs": [
    {
     "data": {
      "text/plain": [
       "<matplotlib.collections.PathCollection at 0x10132fd0>"
      ]
     },
     "execution_count": 135,
     "metadata": {},
     "output_type": "execute_result"
    },
    {
     "data": {
      "image/png": "[encoded data removed]",
      "text/plain": [
       "<matplotlib.figure.Figure at 0xa3726d0>"
      ]
     },
     "metadata": {},
     "output_type": "display_data"
    }
   ],
   "source": [
    "colors = ListedColormap(['red', 'blue', 'green'])\n",
    "\n",
    "pylab.figure(figsize(8, 8))\n",
    "pylab.scatter([x[0] for x in blobs[0]], [x[1] for x in blobs[0]], c=blobs[1], cmap=colors)"
   ]
  },
  {
   "cell_type": "code",
   "execution_count": 136,
   "metadata": {},
   "outputs": [],
   "source": [
    "train_data, test_data, train_labels, test_labels = cross_validation.train_test_split(blobs[0], blobs[1], \n",
    "                                                                                    test_size = 0.3,\n",
    "                                                                                    random_state = 1)"
   ]
  },
  {
   "cell_type": "markdown",
   "metadata": {},
   "source": [
    "### Линейная классификация"
   ]
  },
  {
   "cell_type": "markdown",
   "metadata": {},
   "source": [
    "#### RidgeClassifier"
   ]
  },
  {
   "cell_type": "code",
   "execution_count": 137,
   "metadata": {
    "collapsed": true
   },
   "outputs": [],
   "source": [
    "#создание объекта - классификатора\n",
    "ridge_classifier = linear_model.RidgeClassifier(random_state = 1)"
   ]
  },
  {
   "cell_type": "code",
   "execution_count": 138,
   "metadata": {},
   "outputs": [
    {
     "data": {
      "text/plain": [
       "RidgeClassifier(alpha=1.0, class_weight=None, copy_X=True, fit_intercept=True,\n",
       "        max_iter=None, normalize=False, random_state=1, solver='auto',\n",
       "        tol=0.001)"
      ]
     },
     "execution_count": 138,
     "metadata": {},
     "output_type": "execute_result"
    }
   ],
   "source": [
    "#обучение классификатора\n",
    "ridge_classifier.fit(train_data, train_labels)"
   ]
  },
  {
   "cell_type": "code",
   "execution_count": 139,
   "metadata": {},
   "outputs": [],
   "source": [
    "#применение обученного классификатора\n",
    "ridge_predictions = ridge_classifier.predict(test_data)"
   ]
  },
  {
   "cell_type": "code",
   "execution_count": 140,
   "metadata": {},
   "outputs": [
    {
     "name": "stdout",
     "output_type": "stream",
     "text": [
      "[0 1 2 1 1 2 1 0 1 0 0 1 2 0 0 1 1 2 2 1 0 2 0 0 0 2 2 1 1 1]\n"
     ]
    }
   ],
   "source": [
    "print test_labels"
   ]
  },
  {
   "cell_type": "code",
   "execution_count": 141,
   "metadata": {},
   "outputs": [
    {
     "name": "stdout",
     "output_type": "stream",
     "text": [
      "[0 1 2 2 1 2 0 0 2 0 0 2 2 0 0 2 1 0 2 2 0 2 2 0 0 1 2 0 1 1]\n"
     ]
    }
   ],
   "source": [
    "print ridge_predictions"
   ]
  },
  {
   "cell_type": "code",
   "execution_count": 142,
   "metadata": {},
   "outputs": [
    {
     "data": {
      "text/plain": [
       "0.66666666666666663"
      ]
     },
     "execution_count": 142,
     "metadata": {},
     "output_type": "execute_result"
    }
   ],
   "source": [
    "#оценка качества классификации\n",
    "metrics.accuracy_score(test_labels, ridge_predictions)"
   ]
  },
  {
   "cell_type": "code",
   "execution_count": 143,
   "metadata": {},
   "outputs": [
    {
     "data": {
      "text/plain": [
       "array([[ 0.04409794,  0.0687245 , -0.02599253],\n",
       "       [ 0.02301994, -0.07716598, -0.02507801],\n",
       "       [-0.06711788,  0.00844148,  0.05107054]])"
      ]
     },
     "execution_count": 143,
     "metadata": {},
     "output_type": "execute_result"
    }
   ],
   "source": [
    "ridge_classifier.coef_"
   ]
  },
  {
   "cell_type": "code",
   "execution_count": 144,
   "metadata": {},
   "outputs": [
    {
     "data": {
      "text/plain": [
       "array([-0.20838063, -0.61587224, -0.17574713])"
      ]
     },
     "execution_count": 144,
     "metadata": {},
     "output_type": "execute_result"
    }
   ],
   "source": [
    "ridge_classifier.intercept_ "
   ]
  },
  {
   "cell_type": "markdown",
   "metadata": {},
   "source": [
    "#### LogisticRegression"
   ]
  },
  {
   "cell_type": "code",
   "execution_count": 145,
   "metadata": {},
   "outputs": [],
   "source": [
    "log_regressor = linear_model.LogisticRegression(random_state = 1)"
   ]
  },
  {
   "cell_type": "code",
   "execution_count": 146,
   "metadata": {},
   "outputs": [
    {
     "data": {
      "text/plain": [
       "LogisticRegression(C=1.0, class_weight=None, dual=False, fit_intercept=True,\n",
       "          intercept_scaling=1, max_iter=100, multi_class='ovr', n_jobs=1,\n",
       "          penalty='l2', random_state=1, solver='liblinear', tol=0.0001,\n",
       "          verbose=0, warm_start=False)"
      ]
     },
     "execution_count": 146,
     "metadata": {},
     "output_type": "execute_result"
    }
   ],
   "source": [
    "log_regressor.fit(train_data, train_labels)"
   ]
  },
  {
   "cell_type": "code",
   "execution_count": 147,
   "metadata": {
    "collapsed": true
   },
   "outputs": [],
   "source": [
    "lr_predictions = log_regressor.predict(test_data)"
   ]
  },
  {
   "cell_type": "code",
   "execution_count": 148,
   "metadata": {
    "collapsed": true
   },
   "outputs": [],
   "source": [
    "lr_proba_predictions = log_regressor.predict_proba(test_data)"
   ]
  },
  {
   "cell_type": "code",
   "execution_count": 149,
   "metadata": {},
   "outputs": [
    {
     "name": "stdout",
     "output_type": "stream",
     "text": [
      "[0 1 2 1 1 2 1 0 1 0 0 1 2 0 0 1 1 2 2 1 0 2 0 0 0 2 2 1 1 1]\n"
     ]
    }
   ],
   "source": [
    "print test_labels"
   ]
  },
  {
   "cell_type": "code",
   "execution_count": 150,
   "metadata": {},
   "outputs": [
    {
     "name": "stdout",
     "output_type": "stream",
     "text": [
      "[0 1 2 2 1 2 0 0 1 0 0 2 2 0 0 1 1 0 2 2 0 2 2 0 0 1 2 0 1 1]\n"
     ]
    }
   ],
   "source": [
    "print lr_predictions"
   ]
  },
  {
   "cell_type": "code",
   "execution_count": 151,
   "metadata": {},
   "outputs": [
    {
     "name": "stdout",
     "output_type": "stream",
     "text": [
      "[[ 0.82918625  0.09565851  0.07515524]\n",
      " [ 0.00897226  0.80840076  0.18262698]\n",
      " [ 0.19269175  0.18305672  0.62425153]\n",
      " [ 0.09465086  0.29221143  0.61313772]\n",
      " [ 0.0793879   0.7170301   0.203582  ]\n",
      " [ 0.0439552   0.40637207  0.54967273]\n",
      " [ 0.62536381  0.2204323   0.15420389]\n",
      " [ 0.82774585  0.07127352  0.10098063]\n",
      " [ 0.06531834  0.48854081  0.44614085]\n",
      " [ 0.58811044  0.00298462  0.40890494]\n",
      " [ 0.78600521  0.01025781  0.20373698]\n",
      " [ 0.01556376  0.06651586  0.91792039]\n",
      " [ 0.13932175  0.19783783  0.66284042]\n",
      " [ 0.58161709  0.0612798   0.35710311]\n",
      " [ 0.68831144  0.01271097  0.29897759]\n",
      " [ 0.02598448  0.49237511  0.48164041]\n",
      " [ 0.00213209  0.59363457  0.40423334]\n",
      " [ 0.61183381  0.08774664  0.30041955]\n",
      " [ 0.00231596  0.18659573  0.8110883 ]\n",
      " [ 0.02229244  0.23611809  0.74158948]\n",
      " [ 0.66232757  0.02723308  0.31043934]\n",
      " [ 0.27454944  0.0227025   0.70274805]\n",
      " [ 0.29810061  0.17325755  0.52864184]\n",
      " [ 0.60602851  0.03189457  0.36207692]\n",
      " [ 0.73416533  0.00878007  0.25705461]\n",
      " [ 0.01479811  0.67813161  0.30707029]\n",
      " [ 0.02685108  0.07831621  0.89483271]\n",
      " [ 0.79941369  0.04586453  0.15472178]\n",
      " [ 0.08627105  0.54879213  0.36493681]\n",
      " [ 0.22286134  0.74506656  0.0320721 ]]\n"
     ]
    }
   ],
   "source": [
    "print lr_proba_predictions"
   ]
  },
  {
   "cell_type": "code",
   "execution_count": 152,
   "metadata": {},
   "outputs": [
    {
     "name": "stdout",
     "output_type": "stream",
     "text": [
      "0.733333333333\n"
     ]
    }
   ],
   "source": [
    "print metrics.accuracy_score(test_labels, lr_predictions)"
   ]
  },
  {
   "cell_type": "code",
   "execution_count": 153,
   "metadata": {},
   "outputs": [
    {
     "name": "stdout",
     "output_type": "stream",
     "text": [
      "0.666666666667\n"
     ]
    }
   ],
   "source": [
    "print metrics.accuracy_score(test_labels, ridge_predictions)"
   ]
  },
  {
   "cell_type": "markdown",
   "metadata": {},
   "source": [
    "### Оценка качества по cross-validation"
   ]
  },
  {
   "cell_type": "markdown",
   "metadata": {},
   "source": [
    "#### cross_val_score"
   ]
  },
  {
   "cell_type": "code",
   "execution_count": 154,
   "metadata": {},
   "outputs": [],
   "source": [
    "ridge_scoring = cross_validation.cross_val_score(ridge_classifier, blobs[0], blobs[1], scoring = 'accuracy', cv = 10)"
   ]
  },
  {
   "cell_type": "code",
   "execution_count": 155,
   "metadata": {},
   "outputs": [],
   "source": [
    "lr_scoring = cross_validation.cross_val_score(log_regressor, blobs[0], blobs[1], scoring = 'accuracy', cv = 10)"
   ]
  },
  {
   "cell_type": "code",
   "execution_count": 156,
   "metadata": {},
   "outputs": [
    {
     "data": {
      "text/plain": [
       "array([ 0.66666667,  0.75      ,  0.58333333,  0.7       ,  0.66666667,\n",
       "        0.77777778,  1.        ,  0.77777778,  0.77777778,  0.77777778])"
      ]
     },
     "execution_count": 156,
     "metadata": {},
     "output_type": "execute_result"
    }
   ],
   "source": [
    "lr_scoring"
   ]
  },
  {
   "cell_type": "code",
   "execution_count": 157,
   "metadata": {},
   "outputs": [
    {
     "name": "stdout",
     "output_type": "stream",
     "text": [
      "Ridge mean:0.77, max:1.0, min:0.583333333333, std:0.108673255878\n"
     ]
    }
   ],
   "source": [
    "print 'Ridge mean:{}, max:{}, min:{}, std:{}'.format(ridge_scoring.mean(), ridge_scoring.max(), \n",
    "                                                     ridge_scoring.min(), ridge_scoring.std())"
   ]
  },
  {
   "cell_type": "code",
   "execution_count": 158,
   "metadata": {},
   "outputs": [
    {
     "name": "stdout",
     "output_type": "stream",
     "text": [
      "Log mean:0.747777777778, max:1.0, min:0.583333333333, std:0.104739535851\n"
     ]
    }
   ],
   "source": [
    "print 'Log mean:{}, max:{}, min:{}, std:{}'.format(lr_scoring.mean(), lr_scoring.max(), \n",
    "                                                   lr_scoring.min(), lr_scoring.std())"
   ]
  },
  {
   "cell_type": "markdown",
   "metadata": {},
   "source": [
    "#### cross_val_score с заданными scorer и cv_strategy"
   ]
  },
  {
   "cell_type": "code",
   "execution_count": 159,
   "metadata": {
    "collapsed": true
   },
   "outputs": [],
   "source": [
    "scorer = metrics.make_scorer(metrics.accuracy_score)"
   ]
  },
  {
   "cell_type": "code",
   "execution_count": 160,
   "metadata": {},
   "outputs": [],
   "source": [
    "cv_strategy = cross_validation.StratifiedShuffleSplit(blobs[1], n_iter = 20 , test_size = 0.3, random_state = 2)"
   ]
  },
  {
   "cell_type": "code",
   "execution_count": 161,
   "metadata": {
    "collapsed": true
   },
   "outputs": [],
   "source": [
    "ridge_scoring = cross_validation.cross_val_score(ridge_classifier, blobs[0], blobs[1], scoring = scorer, cv = cv_strategy)"
   ]
  },
  {
   "cell_type": "code",
   "execution_count": 162,
   "metadata": {
    "collapsed": true
   },
   "outputs": [],
   "source": [
    "lr_scoring = cross_validation.cross_val_score(log_regressor, blobs[0], blobs[1], scoring = scorer, cv = cv_strategy)"
   ]
  },
  {
   "cell_type": "code",
   "execution_count": 163,
   "metadata": {},
   "outputs": [
    {
     "name": "stdout",
     "output_type": "stream",
     "text": [
      "Ridge mean:0.743333333333, max:0.833333333333, min:0.6, std:0.0587839736285\n"
     ]
    }
   ],
   "source": [
    "print 'Ridge mean:{}, max:{}, min:{}, std:{}'.format(ridge_scoring.mean(), ridge_scoring.max(), \n",
    "                                                     ridge_scoring.min(), ridge_scoring.std())"
   ]
  },
  {
   "cell_type": "code",
   "execution_count": 164,
   "metadata": {},
   "outputs": [
    {
     "name": "stdout",
     "output_type": "stream",
     "text": [
      "Log mean:0.728333333333, max:0.833333333333, min:0.6, std:0.0579990421377\n"
     ]
    }
   ],
   "source": [
    "print 'Log mean:{}, max:{}, min:{}, std:{}'.format(lr_scoring.mean(), lr_scoring.max(), \n",
    "                                                   lr_scoring.min(), lr_scoring.std())"
   ]
  },
  {
   "cell_type": "code",
   "execution_count": null,
   "metadata": {
    "collapsed": true
   },
   "outputs": [],
   "source": []
  }
 ],
 "metadata": {
  "kernelspec": {
   "display_name": "Python 2",
   "language": "python",
   "name": "python2"
  },
  "language_info": {
   "codemirror_mode": {
    "name": "ipython",
    "version": 2
   },
   "file_extension": ".py",
   "mimetype": "text/x-python",
   "name": "python",
   "nbconvert_exporter": "python",
   "pygments_lexer": "ipython2",
   "version": "2.7.13"
  }
 },
 "nbformat": 4,
 "nbformat_minor": 1
}
