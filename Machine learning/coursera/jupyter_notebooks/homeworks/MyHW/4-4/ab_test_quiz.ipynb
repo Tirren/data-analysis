{
 "cells": [
  {
   "cell_type": "markdown",
   "metadata": {},
   "source": [
    "# Анализ результатов АБ-теста"
   ]
  },
  {
   "cell_type": "markdown",
   "metadata": {},
   "source": [
    "**В данном задании вам нужно будет:**\n",
    "\n",
    "- проанализировать АБ тест, проведенный на реальных пользователях Яндекса\n",
    "- подтвердить или опровергнуть наличие изменений в пользовательском поведении между контрольной (control) и тестовой (exp) группами\n",
    "- определить характер этих изменений и практическую значимость вводимого изменения\n",
    "- понять, какая из пользовательских групп более всего проигрывает / выигрывает от тестируемого изменения (локализовать изменение)"
   ]
  },
  {
   "cell_type": "code",
   "execution_count": 1,
   "metadata": {},
   "outputs": [
    {
     "name": "stdout",
     "output_type": "stream",
     "text": [
      "Populating the interactive namespace from numpy and matplotlib\n"
     ]
    }
   ],
   "source": [
    "import numpy as np\n",
    "import pandas as pd\n",
    "from scipy import stats\n",
    "from statsmodels.sandbox.stats.multicomp import multipletests\n",
    "%pylab inline"
   ]
  },
  {
   "cell_type": "markdown",
   "metadata": {},
   "source": [
    "**Описание данных:**\n",
    "\n",
    "- userID: уникальный идентификатор пользователя\n",
    "- browser: браузер, который использовал userID\n",
    "- slot: в каком статусе пользователь участвовал в исследовании (exp = видел измененную страницу, control = видел неизменную страницу)\n",
    "- n_clicks: количество кликов, которые пользоваль совершил за n_queries\n",
    "- n_queries: количество запросов, который совершил userID, пользуясь браузером browser\n",
    "- n_nonclk_queries: количество запросов пользователя, в которых им не было совершено ни одного клика\n",
    "\n",
    "Обращаем ваше внимание, что не все люди используют только один браузер, поэтому в столбце userID есть повторяющиеся идентификаторы. В предлагаемых данных уникальным является сочетание userID и browser."
   ]
  },
  {
   "cell_type": "code",
   "execution_count": 2,
   "metadata": {},
   "outputs": [
    {
     "data": {
      "text/html": [
       "<div>\n",
       "<style>\n",
       "    .dataframe thead tr:only-child th {\n",
       "        text-align: right;\n",
       "    }\n",
       "\n",
       "    .dataframe thead th {\n",
       "        text-align: left;\n",
       "    }\n",
       "\n",
       "    .dataframe tbody tr th {\n",
       "        vertical-align: top;\n",
       "    }\n",
       "</style>\n",
       "<table border=\"1\" class=\"dataframe\">\n",
       "  <thead>\n",
       "    <tr style=\"text-align: right;\">\n",
       "      <th></th>\n",
       "      <th>userID</th>\n",
       "      <th>browser</th>\n",
       "      <th>slot</th>\n",
       "      <th>n_clicks</th>\n",
       "      <th>n_queries</th>\n",
       "      <th>n_nonclk_queries</th>\n",
       "    </tr>\n",
       "  </thead>\n",
       "  <tbody>\n",
       "    <tr>\n",
       "      <th>0</th>\n",
       "      <td>1</td>\n",
       "      <td>Browser #2</td>\n",
       "      <td>exp</td>\n",
       "      <td>23</td>\n",
       "      <td>32</td>\n",
       "      <td>19</td>\n",
       "    </tr>\n",
       "    <tr>\n",
       "      <th>1</th>\n",
       "      <td>3</td>\n",
       "      <td>Browser #4</td>\n",
       "      <td>exp</td>\n",
       "      <td>3</td>\n",
       "      <td>4</td>\n",
       "      <td>2</td>\n",
       "    </tr>\n",
       "    <tr>\n",
       "      <th>2</th>\n",
       "      <td>5</td>\n",
       "      <td>Browser #4</td>\n",
       "      <td>exp</td>\n",
       "      <td>29</td>\n",
       "      <td>35</td>\n",
       "      <td>16</td>\n",
       "    </tr>\n",
       "    <tr>\n",
       "      <th>3</th>\n",
       "      <td>6</td>\n",
       "      <td>Browser #4</td>\n",
       "      <td>control</td>\n",
       "      <td>12</td>\n",
       "      <td>6</td>\n",
       "      <td>0</td>\n",
       "    </tr>\n",
       "    <tr>\n",
       "      <th>4</th>\n",
       "      <td>7</td>\n",
       "      <td>Browser #4</td>\n",
       "      <td>exp</td>\n",
       "      <td>54</td>\n",
       "      <td>68</td>\n",
       "      <td>30</td>\n",
       "    </tr>\n",
       "  </tbody>\n",
       "</table>\n",
       "</div>"
      ],
      "text/plain": [
       "   userID     browser     slot  n_clicks  n_queries  n_nonclk_queries\n",
       "0       1  Browser #2      exp        23         32                19\n",
       "1       3  Browser #4      exp         3          4                 2\n",
       "2       5  Browser #4      exp        29         35                16\n",
       "3       6  Browser #4  control        12          6                 0\n",
       "4       7  Browser #4      exp        54         68                30"
      ]
     },
     "execution_count": 2,
     "metadata": {},
     "output_type": "execute_result"
    }
   ],
   "source": [
    "data = pd.read_csv('ab_browser_test.csv')\n",
    "data.head()"
   ]
  },
  {
   "cell_type": "markdown",
   "metadata": {},
   "source": [
    "Основная метрика, на которой мы сосредоточимся в этой работе, — это количество пользовательских кликов на web-странице в зависимости от тестируемого изменения этой страницы.\n",
    "\n",
    "Посчитайте, насколько в группе exp больше пользовательских кликов по сравнению с группой control в **процентах** от числа кликов в контрольной группе.\n",
    "\n",
    "Полученный процент округлите до третьего знака после точки."
   ]
  },
  {
   "cell_type": "code",
   "execution_count": 3,
   "metadata": {},
   "outputs": [
    {
     "data": {
      "text/plain": [
       "1.614"
      ]
     },
     "execution_count": 3,
     "metadata": {},
     "output_type": "execute_result"
    }
   ],
   "source": [
    "expected_clicks = data[data['slot'] == 'exp']['n_clicks'].values\n",
    "control_clicks = data[data['slot'] == 'control']['n_clicks'].values\n",
    "round(((expected_clicks.sum() - control_clicks.sum()) * 100. / control_clicks.sum()), 3)"
   ]
  },
  {
   "cell_type": "markdown",
   "metadata": {},
   "source": [
    "Давайте попробуем посмотреть более внимательно на разницу между двумя группами (control и exp) относительно количества пользовательских кликов.\n",
    "\n",
    "Для этого постройте с помощью бутстрепа 95% доверительный интервал для средних значений и медиан количества кликов в каждой из двух групп."
   ]
  },
  {
   "cell_type": "code",
   "execution_count": 4,
   "metadata": {
    "collapsed": true
   },
   "outputs": [],
   "source": [
    "def iter_bootstrap_samples(data, n_samples):\n",
    "    i = 0\n",
    "    while i < n_samples:\n",
    "        indices = np.random.randint(0, len(data), len(data))\n",
    "        sample = data[indices]\n",
    "        yield sample\n",
    "        i += 1"
   ]
  },
  {
   "cell_type": "code",
   "execution_count": 5,
   "metadata": {
    "collapsed": true
   },
   "outputs": [],
   "source": [
    "def stat_intervals(stat, alpha):\n",
    "    boundaries = np.percentile(stat, [100 * alpha / 2., 100 * (1 - alpha / 2.)])\n",
    "    return boundaries"
   ]
  },
  {
   "cell_type": "code",
   "execution_count": 6,
   "metadata": {},
   "outputs": [
    {
     "name": "stdout",
     "output_type": "stream",
     "text": [
      "95% confidence interval for the expected median clicks: [ 5.  5.]\n",
      "95% confidence interval for the control median clicks: [ 4.  4.]\n",
      "95% confidence interval for the difference between medians [-1. -1.]\n"
     ]
    }
   ],
   "source": [
    "np.random.seed(0)\n",
    "\n",
    "expected_median_scores = map(np.median, iter_bootstrap_samples(expected_clicks, 1000))\n",
    "control_median_scores = map(np.median, iter_bootstrap_samples(control_clicks, 1000))\n",
    "delta_median_scores = map(lambda x: x[1] - x[0], zip(expected_median_scores, control_median_scores))\n",
    "\n",
    "print \"95% confidence interval for the expected median clicks:\", stat_intervals(expected_median_scores, 0.05)\n",
    "print \"95% confidence interval for the control median clicks:\", stat_intervals(control_median_scores, 0.05)\n",
    "print \"95% confidence interval for the difference between medians\", stat_intervals(delta_median_scores, 0.05)"
   ]
  },
  {
   "cell_type": "code",
   "execution_count": 7,
   "metadata": {},
   "outputs": [
    {
     "name": "stdout",
     "output_type": "stream",
     "text": [
      "95% confidence interval for the expected mean clicks: [ 11.5086867   11.66089388]\n",
      "95% confidence interval for the control mean clicks: [ 11.20795095  11.35742732]\n",
      "95% confidence interval for the difference between means [-0.40475697 -0.19172563]\n"
     ]
    }
   ],
   "source": [
    "np.random.seed(0)\n",
    "\n",
    "expected_mean_scores = map(np.mean, iter_bootstrap_samples(expected_clicks, 1000))\n",
    "control_mean_scores = map(np.mean, iter_bootstrap_samples(control_clicks, 1000))\n",
    "delta_mean_scores = map(lambda x: x[1] - x[0], zip(expected_mean_scores, control_mean_scores))\n",
    "\n",
    "print \"95% confidence interval for the expected mean clicks:\", stat_intervals(expected_mean_scores, 0.05)\n",
    "print \"95% confidence interval for the control mean clicks:\", stat_intervals(control_mean_scores, 0.05)\n",
    "print \"95% confidence interval for the difference between means\", stat_intervals(delta_mean_scores, 0.05)"
   ]
  },
  {
   "cell_type": "markdown",
   "metadata": {},
   "source": [
    "t-критерий Стьюдента имеет множество достоинств, и потому его достаточно часто применяют в AB экспериментах. Иногда его применение может быть необоснованно из-за сильной скошенности распределения данных.\n",
    "\n",
    "Давайте постараемся понять, когда t-критерий можно применять и как это проверить на реальных данных.\n",
    "\n",
    "Для простоты рассмотрим одновыборочный t-критерий. Его статистика имеет вид $\\frac{\\bar{X} - \\mu}{ \\sqrt {S^2 / n}} $, то есть чтобы действительно предположения t-критерия выполнялись необходимо, чтобы:\n",
    "- $\\bar{X}$ — среднее значение в выборке было распределено нормально $\\mathcal{N}(\\mu, \\frac{\\sigma^2}{n})$\n",
    "- $\\frac{n}{\\sigma^2} S^2$ — несмещенная оценка дисперсии c масштабирующим коэффициентом была распределена по хи-квадрат c $n−1$ степенями свободы $\\chi^2  (n-1)$\n",
    "\n",
    "*Простое доказательство необходимости и достаточности этого требования можно посмотреть в самом последнем абзаце этого вопроса. Усвоение этого доказательства не обязательно для выполнения задания.*\n",
    "\n",
    "Оба этих предположения можно проверить с помощью бутстрепа. Ограничимся сейчас только контрольной группой, в которой распределение кликов будем называть данными в рамках данного вопроса.\n",
    "\n",
    "Поскольку мы не знаем истинного распределения генеральной совокупности, мы можем применить бутстреп, чтобы понять, как распределены среднее значение и выборочная дисперсия. Для этого\n",
    "\n",
    "1. Получите из данных n_boot_samples псевдовыборок.\n",
    "2. По каждой из этих выборок посчитайте среднее и сумму квадратов отклонения от выборочного среднего (control_boot_chi_squared)\n",
    "3. Для получившегося вектора средних значений из n_boot_samples постройте q-q plot с помощью scipy.stats.probplot для нормального распределения\n",
    "4. Для получившегося вектора сумм квадратов отклонения от выборочного среднего постройте qq-plot с помощью scipy.stats.probplot для хи-квадрат распределения с помощью команды *scipy.stats.probplot(control_boot_chi_squared, dist=\"chi2\", sparams=(n-1), plot=plt)*\n",
    "\n",
    "Где sparams=(n-1) означают число степеней свободы = длине выборки - 1.\n",
    "\n",
    "Чтобы получить такой же ответ, как у нас, зафиксируйте seed и количество псевдовыборок:\n",
    "- np.random.seed(0)\n",
    "- n_boot_samples = 500\n",
    "\n",
    "В качестве ответа отметьте верные утвердения о значениях $R^2$, которые генерирует *scipy.stats.probplot* при отображении qq-графиков: одно c графика для среднего и одно с графика для выборочной суммы квадратов отклонения от выборочной суммы."
   ]
  },
  {
   "cell_type": "code",
   "execution_count": 8,
   "metadata": {},
   "outputs": [
    {
     "data": {
      "image/png": "[encoded data removed]",
      "text/plain": [
       "<matplotlib.figure.Figure at 0x31bee10>"
      ]
     },
     "metadata": {},
     "output_type": "display_data"
    }
   ],
   "source": [
    "np.random.seed(0)\n",
    "\n",
    "n_boot_mean_samples = map(np.mean, iter_bootstrap_samples(control_clicks, 500))\n",
    "control_boot_chi_squared = map(lambda x: np.sum((x - x.mean())**2), iter_bootstrap_samples(control_clicks, 500))\n",
    "\n",
    "plt.figure(figsize=(14, 10))\n",
    "plt.subplot(2, 2, 1)\n",
    "stats.probplot(n_boot_mean_samples, dist='norm', plot=plt, rvalue=True)\n",
    "plt.subplot(2, 2, 2)\n",
    "stats.probplot(control_boot_chi_squared, dist='chi2', plot=plt, sparams=(len(control_boot_chi_squared) - 1), rvalue=True)\n",
    "plt.show()"
   ]
  },
  {
   "cell_type": "markdown",
   "metadata": {},
   "source": [
    "**Почему мы проверяем именно такие условия?**\n",
    "\n",
    "В исходной постановке t-критерий требует нормальности распределения $X_i$. Именно из-за этого предположения мы имеем, что $\\sum_i X_i  \\sim  \\mathcal{N}(n \\mu, n\\sigma^2 )$ в силу линейности матожидания, независимости всех $X_i$ между собой и того факта, что сумма нескольких нормальных случайных величин также нормальна.\n",
    "\n",
    "Поэтому, пользуясь опять формальными свойствами матожидания и дисперсии можем записать, что $\\frac{1}{n} \\sum_i X_i  - \\mu ~\\sim~ \\mathcal{N}(0,  \\frac{\\sigma^2}{n} )$\n",
    "\n",
    "Заметим теперь, что следующие распределения эквивалентны $\\mathcal{N} (0, \\frac{\\sigma^2}{n}) \\sim \\sqrt{\\frac{\\sigma^2}{n}} \\mathcal{N}(0, 1)$\n",
    "То есть другими словами мы получили, что исходная статистика $\\frac{\\bar{X} - \\mu}{ \\sqrt {S^2 / n}}$ распределена как $\\frac{ \\mathcal{N}(0, 1) } { \\sqrt {  \\frac{S^2n} { n  \\sigma^2} } }   ~\\sim~  \\frac{ \\mathcal{N}(0, 1) } { \\sqrt { \\frac{S^2} { \\sigma^2} } }$\n",
    "Вспомним, что распределение Стьюдента с $n−1$ степенями свободы определяется как $\\frac{ \\mathcal{N}(0, 1) } { \\sqrt { \\chi^2 / (n-1)  } }$. Поэтому и требования, которые накладываются, имеют вид, указанный в начале этого вопроса.\n",
    "\n",
    "Полезно, однако, заметить, что можно подставить в числитель и знаменатель любые случайные величины, распределенные по нормальному закону и по Хи-квадрат соответственно, для этого необязательно, чтобы именно $X_i$ были распределены нормально. Поэтому, если мы убедимся в том, что, действительно, числитель и знаменатель распределены образом, указанным выше, то можно смело использовать t-критерий Стьюдента."
   ]
  },
  {
   "cell_type": "markdown",
   "metadata": {},
   "source": [
    "Одним из возможных аналогов t-критерия, которым можно воспрользоваться, является тест Манна-Уитни. На достаточно обширном классе распределений он является асимптотически более эффективным, чем t-критерий, и при этом не требует параметрических предположений о характере распределения.\n",
    "\n",
    "Разделите выборку на две части, соответствующие control и exp группам. Преобразуйте данные к виду, чтобы каждому пользователю соответствовало суммарное значение его кликов. С помощью критерия Манна-Уитни проверьте гипотезу о равенстве средних. Что можно сказать о получившемся значении достигаемого уровня значимости?"
   ]
  },
  {
   "cell_type": "code",
   "execution_count": 9,
   "metadata": {
    "collapsed": true
   },
   "outputs": [],
   "source": [
    "control = data[data['slot'] == 'control']\n",
    "expected = data[data['slot'] == 'exp']\n",
    "\n",
    "control_sum = pd.pivot_table(control, index=['userID'], aggfunc='sum')\n",
    "expected_sum = pd.pivot_table(expected, index=['userID'], aggfunc='sum')"
   ]
  },
  {
   "cell_type": "code",
   "execution_count": 10,
   "metadata": {},
   "outputs": [
    {
     "data": {
      "text/plain": [
       "MannwhitneyuResult(statistic=38901259929.0, pvalue=4.3471471887604393e-75)"
      ]
     },
     "execution_count": 10,
     "metadata": {},
     "output_type": "execute_result"
    }
   ],
   "source": [
    "stats.mannwhitneyu(control_sum['n_clicks'], expected_sum['n_clicks'])"
   ]
  },
  {
   "cell_type": "markdown",
   "metadata": {},
   "source": [
    "Проверьте, для какого из браузеров наиболее сильно выражено отличие между количеством кликов в контрольной и экспериментальной группах.\n",
    "\n",
    "Для этого примените для каждого из срезов (по каждому из уникальных значений столбца browser) критерий Манна-Уитни между control и exp группами и сделайте поправку Холма-Бонферрони на множественную проверку с $\\alpha=0.05$.\n",
    "\n",
    "Какое заключение можно сделать исходя из полученных результатов ?"
   ]
  },
  {
   "cell_type": "code",
   "execution_count": 11,
   "metadata": {
    "collapsed": true
   },
   "outputs": [],
   "source": [
    "stats_data = []\n",
    "for browser in np.unique(data['browser']):\n",
    "    stat, p = stats.mannwhitneyu(control[control['browser'] == browser]['n_clicks'],\n",
    "                                 expected[expected['browser'] == browser]['n_clicks'])\n",
    "    stats_data.append([browser, stat, p])\n",
    "    \n",
    "statistics_df = pd.DataFrame.from_records(stats_data)\n",
    "statistics_df.columns = ['browser', 'statistics', 'p-value']"
   ]
  },
  {
   "cell_type": "code",
   "execution_count": 12,
   "metadata": {},
   "outputs": [
    {
     "data": {
      "text/html": [
       "<div>\n",
       "<style>\n",
       "    .dataframe thead tr:only-child th {\n",
       "        text-align: right;\n",
       "    }\n",
       "\n",
       "    .dataframe thead th {\n",
       "        text-align: left;\n",
       "    }\n",
       "\n",
       "    .dataframe tbody tr th {\n",
       "        vertical-align: top;\n",
       "    }\n",
       "</style>\n",
       "<table border=\"1\" class=\"dataframe\">\n",
       "  <thead>\n",
       "    <tr style=\"text-align: right;\">\n",
       "      <th></th>\n",
       "      <th>browser</th>\n",
       "      <th>statistics</th>\n",
       "      <th>p-value</th>\n",
       "      <th>holm reject</th>\n",
       "      <th>holm p-value</th>\n",
       "    </tr>\n",
       "  </thead>\n",
       "  <tbody>\n",
       "    <tr>\n",
       "      <th>0</th>\n",
       "      <td>Browser #14</td>\n",
       "      <td>8.069847e+08</td>\n",
       "      <td>0.000000</td>\n",
       "      <td>True</td>\n",
       "      <td>0.000000</td>\n",
       "    </tr>\n",
       "    <tr>\n",
       "      <th>1</th>\n",
       "      <td>Browser #17</td>\n",
       "      <td>1.313897e+08</td>\n",
       "      <td>0.037401</td>\n",
       "      <td>False</td>\n",
       "      <td>0.149602</td>\n",
       "    </tr>\n",
       "    <tr>\n",
       "      <th>2</th>\n",
       "      <td>Browser #2</td>\n",
       "      <td>1.522573e+09</td>\n",
       "      <td>0.027244</td>\n",
       "      <td>False</td>\n",
       "      <td>0.136219</td>\n",
       "    </tr>\n",
       "    <tr>\n",
       "      <th>3</th>\n",
       "      <td>Browser #20</td>\n",
       "      <td>1.437918e+08</td>\n",
       "      <td>0.453667</td>\n",
       "      <td>False</td>\n",
       "      <td>0.815212</td>\n",
       "    </tr>\n",
       "    <tr>\n",
       "      <th>4</th>\n",
       "      <td>Browser #22</td>\n",
       "      <td>2.547598e+09</td>\n",
       "      <td>0.257406</td>\n",
       "      <td>False</td>\n",
       "      <td>0.772217</td>\n",
       "    </tr>\n",
       "    <tr>\n",
       "      <th>5</th>\n",
       "      <td>Browser #4</td>\n",
       "      <td>3.072448e+09</td>\n",
       "      <td>0.407606</td>\n",
       "      <td>False</td>\n",
       "      <td>0.815212</td>\n",
       "    </tr>\n",
       "  </tbody>\n",
       "</table>\n",
       "</div>"
      ],
      "text/plain": [
       "       browser    statistics   p-value  holm reject  holm p-value\n",
       "0  Browser #14  8.069847e+08  0.000000         True      0.000000\n",
       "1  Browser #17  1.313897e+08  0.037401        False      0.149602\n",
       "2   Browser #2  1.522573e+09  0.027244        False      0.136219\n",
       "3  Browser #20  1.437918e+08  0.453667        False      0.815212\n",
       "4  Browser #22  2.547598e+09  0.257406        False      0.772217\n",
       "5   Browser #4  3.072448e+09  0.407606        False      0.815212"
      ]
     },
     "execution_count": 12,
     "metadata": {},
     "output_type": "execute_result"
    }
   ],
   "source": [
    "reject, p_corrected, a1, a2 = multipletests(statistics_df['p-value'], alpha=0.05, method='holm')\n",
    "\n",
    "statistics_df['holm reject'] = reject\n",
    "statistics_df['holm p-value'] = p_corrected\n",
    "\n",
    "statistics_df"
   ]
  },
  {
   "cell_type": "markdown",
   "metadata": {},
   "source": [
    "Для каждого браузера в каждой из двух групп (control и exp) посчитайте долю запросов, в которых пользователь не кликнул ни разу. Это можно сделать, поделив сумму значений n_nonclk_queries на сумму значений n_queries. Умножив это значение на 100, получим процент некликнутых запросов, который можно легче проинтерпретировать.\n",
    "\n",
    "Сходятся ли результаты проведенного Вами анализа с показателем процента некликнутых запросов?"
   ]
  },
  {
   "cell_type": "code",
   "execution_count": 13,
   "metadata": {
    "collapsed": true
   },
   "outputs": [],
   "source": [
    "prop_data = []\n",
    "\n",
    "for browser in np.unique(data['browser']):\n",
    "    control_res = (100 * control[control['browser'] == browser]['n_nonclk_queries'].sum() / \n",
    "                   control[control['browser'] == browser]['n_queries'].sum())\n",
    "    exp_res = (100 * expected[expected['browser'] == browser]['n_nonclk_queries'].sum() / \n",
    "               expected[expected['browser'] == browser]['n_queries'].sum())\n",
    "    prop_data.append([browser, control_res, exp_res, (control_res - exp_res)])\n",
    "    \n",
    "proportion_df = pd.DataFrame.from_records(prop_data)\n",
    "proportion_df.columns = ['browser', 'control non click %', 'expected non click %', 'diff %']"
   ]
  },
  {
   "cell_type": "code",
   "execution_count": 14,
   "metadata": {},
   "outputs": [
    {
     "data": {
      "text/html": [
       "<div>\n",
       "<style>\n",
       "    .dataframe thead tr:only-child th {\n",
       "        text-align: right;\n",
       "    }\n",
       "\n",
       "    .dataframe thead th {\n",
       "        text-align: left;\n",
       "    }\n",
       "\n",
       "    .dataframe tbody tr th {\n",
       "        vertical-align: top;\n",
       "    }\n",
       "</style>\n",
       "<table border=\"1\" class=\"dataframe\">\n",
       "  <thead>\n",
       "    <tr style=\"text-align: right;\">\n",
       "      <th></th>\n",
       "      <th>browser</th>\n",
       "      <th>control non click %</th>\n",
       "      <th>expected non click %</th>\n",
       "      <th>diff %</th>\n",
       "    </tr>\n",
       "  </thead>\n",
       "  <tbody>\n",
       "    <tr>\n",
       "      <th>0</th>\n",
       "      <td>Browser #14</td>\n",
       "      <td>57</td>\n",
       "      <td>43</td>\n",
       "      <td>14</td>\n",
       "    </tr>\n",
       "    <tr>\n",
       "      <th>1</th>\n",
       "      <td>Browser #17</td>\n",
       "      <td>36</td>\n",
       "      <td>36</td>\n",
       "      <td>0</td>\n",
       "    </tr>\n",
       "    <tr>\n",
       "      <th>2</th>\n",
       "      <td>Browser #2</td>\n",
       "      <td>45</td>\n",
       "      <td>44</td>\n",
       "      <td>1</td>\n",
       "    </tr>\n",
       "    <tr>\n",
       "      <th>3</th>\n",
       "      <td>Browser #20</td>\n",
       "      <td>40</td>\n",
       "      <td>38</td>\n",
       "      <td>2</td>\n",
       "    </tr>\n",
       "    <tr>\n",
       "      <th>4</th>\n",
       "      <td>Browser #22</td>\n",
       "      <td>40</td>\n",
       "      <td>39</td>\n",
       "      <td>1</td>\n",
       "    </tr>\n",
       "    <tr>\n",
       "      <th>5</th>\n",
       "      <td>Browser #4</td>\n",
       "      <td>46</td>\n",
       "      <td>45</td>\n",
       "      <td>1</td>\n",
       "    </tr>\n",
       "  </tbody>\n",
       "</table>\n",
       "</div>"
      ],
      "text/plain": [
       "       browser  control non click %  expected non click %  diff %\n",
       "0  Browser #14                   57                    43      14\n",
       "1  Browser #17                   36                    36       0\n",
       "2   Browser #2                   45                    44       1\n",
       "3  Browser #20                   40                    38       2\n",
       "4  Browser #22                   40                    39       1\n",
       "5   Browser #4                   46                    45       1"
      ]
     },
     "execution_count": 14,
     "metadata": {},
     "output_type": "execute_result"
    }
   ],
   "source": [
    "proportion_df"
   ]
  }
 ],
 "metadata": {
  "kernelspec": {
   "display_name": "Python 2",
   "language": "python",
   "name": "python2"
  },
  "language_info": {
   "codemirror_mode": {
    "name": "ipython",
    "version": 2
   },
   "file_extension": ".py",
   "mimetype": "text/x-python",
   "name": "python",
   "nbconvert_exporter": "python",
   "pygments_lexer": "ipython2",
   "version": "2.7.13"
  }
 },
 "nbformat": 4,
 "nbformat_minor": 2
}
