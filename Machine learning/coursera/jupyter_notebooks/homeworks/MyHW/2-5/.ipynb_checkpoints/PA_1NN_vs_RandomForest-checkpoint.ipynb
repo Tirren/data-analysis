{
 "cells": [
  {
   "cell_type": "markdown",
   "metadata": {},
   "source": [
    "# 1NN против RandomForest\n",
    "## Programming assignment"
   ]
  },
  {
   "cell_type": "markdown",
   "metadata": {},
   "source": [
    "В этом задании будет использоваться датасет digits из sklearn.datasets. Оставьте последние 25% объектов для контроля качества, разделив X и y на X_train, y_train и X_test, y_test."
   ]
  },
  {
   "cell_type": "code",
   "execution_count": 27,
   "metadata": {},
   "outputs": [],
   "source": [
    "from sklearn import datasets, metrics, ensemble\n",
    "from scipy.spatial.distance import euclidean\n",
    "\n",
    "\n",
    "def write_answer_to_file(answer, filename):\n",
    "    with open(filename, 'w') as f_out:\n",
    "        f_out.write(str(answer))\n",
    "        \n",
    "digits = datasets.load_digits()\n",
    "amount_of_data = digits.data.shape[0]\n",
    "\n",
    "X_train, X_test = digits['data'][:int(amount_of_data * 0.75), :], digits['data'][int(amount_of_data * 0.75):, :]\n",
    "y_train, y_test = digits['target'][:int(amount_of_data * 0.75)], digits['target'][int(amount_of_data * 0.75):]"
   ]
  },
  {
   "cell_type": "markdown",
   "metadata": {},
   "source": [
    "Целью задания будет реализовать самый простой метрический классификатор — метод ближайшего соседа, а также сравнить качество работы реализованного вами 1NN с RandomForestClassifier из sklearn на 1000 деревьях."
   ]
  },
  {
   "cell_type": "markdown",
   "metadata": {},
   "source": [
    "**Задание 1.** Реализуйте самостоятельно метод одного ближайшего соседа с евклидовой метрикой для задачи классификации. Можно не извлекать корень из суммы квадратов отклонений, т.к. корень — монотонное преобразование и не влияет на результат работы алгоритма.\n",
    "\n",
    "Никакой дополнительной работы с признаками в этом задании делать не нужно — мы еще успеем этим заняться в других курсах. Ваша реализация может быть устроена следующим образом: можно для каждого классифицируемого объекта составлять список пар (расстояние до точки из обучающей выборки, метка класса в этой точке), затем сортировать этот список (по умолчанию сортировка будет сначала по первому элементу пары, затем по второму), а затем брать первый элемент (с наименьшим расстоянием).\n",
    "\n",
    "Сортировка массива длиной N требует порядка N log N сравнений (строже говоря, она работает за O(N log N)). Подумайте, как можно легко улучшить получившееся время работы. Кроме простого способа найти ближайший объект всего за N сравнений, можно попробовать придумать, как разбить пространство признаков на части и сделать структуру данных, которая позволит быстро искать соседей каждой точки. За выбор метода поиска ближайших соседей в KNeighborsClassifier из sklearn отвечает параметр algorithm — если у вас уже есть некоторый бэкграунд в алгоритмах и структурах данных, вам может быть интересно познакомиться со структурами данных ball tree и kd tree.\n",
    "\n",
    "Доля ошибок, допускаемых 1NN на тестовой выборке, — ответ в задании 1."
   ]
  },
  {
   "cell_type": "code",
   "execution_count": 17,
   "metadata": {},
   "outputs": [],
   "source": [
    "def one_nearest_neighbors(X_test, X_train, y_train):\n",
    "    predictions = []\n",
    "    for i in range(X_test.shape[0]):\n",
    "        distances = []\n",
    "        for j in range(X_train.shape[0]):\n",
    "            distances.append((euclidean(X_test[i], X_train[j]), y_train[j]))\n",
    "        predictions.append(sorted(distances)[0][1])\n",
    "    return predictions"
   ]
  },
  {
   "cell_type": "code",
   "execution_count": 25,
   "metadata": {},
   "outputs": [],
   "source": [
    "y_pred = one_nearest_neighbors(X_test, X_train, y_train)\n",
    "answer_1 = metrics.zero_one_loss(y_test, y_pred)  # 1 - accuracy_score(y_test, y_pred)  \n",
    "write_answer_to_file(answer_1, '1NN_vs_RandomForest_answer_1.txt')"
   ]
  },
  {
   "cell_type": "markdown",
   "metadata": {},
   "source": [
    "**Задание 2.** Теперь обучите на обучающей выборке RandomForestClassifier(n_estimators=1000) из sklearn. Сделайте прогнозы на тестовой выборке и оцените долю ошибок классификации на ней. Эта доля — ответ в задании 2. Обратите внимание на то, как соотносится качество работы случайного леса с качеством работы, пожалуй, одного из самых простых методов — 1NN. Такое различие — особенность данного датасета, но нужно всегда помнить, что такая ситуация тоже может иметь место, и не забывать про простые методы."
   ]
  },
  {
   "cell_type": "code",
   "execution_count": 28,
   "metadata": {
    "collapsed": true
   },
   "outputs": [],
   "source": [
    "rf_clf = ensemble.RandomForestClassifier(n_estimators=1000)\n",
    "rf_clf.fit(X_train, y_train)\n",
    "\n",
    "answer_2 = metrics.zero_one_loss(y_test, rf_clf.predict(X_test))\n",
    "write_answer_to_file(answer_2, '1NN_vs_RandomForest_answer_2.txt')"
   ]
  },
  {
   "cell_type": "code",
   "execution_count": 37,
   "metadata": {},
   "outputs": [
    {
     "name": "stdout",
     "output_type": "stream",
     "text": [
      "One nearest neighbors quality: 0.96\n",
      "Random Forest with 1000 trees quality: 0.93\n"
     ]
    }
   ],
   "source": [
    "print('One nearest neighbors quality: {:.2f}'.format(1 - answer_1))\n",
    "print('Random Forest with 1000 trees quality: {:.2f}'.format(1 - answer_2))"
   ]
  }
 ],
 "metadata": {
  "kernelspec": {
   "display_name": "Python 2",
   "language": "python",
   "name": "python2"
  },
  "language_info": {
   "codemirror_mode": {
    "name": "ipython",
    "version": 2
   },
   "file_extension": ".py",
   "mimetype": "text/x-python",
   "name": "python",
   "nbconvert_exporter": "python",
   "pygments_lexer": "ipython2",
   "version": "2.7.13"
  }
 },
 "nbformat": 4,
 "nbformat_minor": 2
}
