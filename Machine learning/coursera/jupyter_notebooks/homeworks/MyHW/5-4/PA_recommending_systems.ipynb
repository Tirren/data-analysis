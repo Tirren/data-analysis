{
 "cells": [
  {
   "cell_type": "code",
   "execution_count": 1,
   "metadata": {
    "collapsed": false
   },
   "outputs": [],
   "source": [
    "import pandas as pd\n",
    "import numpy as np\n",
    "import itertools\n",
    "import copy\n",
    "\n",
    "from collections import OrderedDict\n",
    "from operator import itemgetter"
   ]
  },
  {
   "cell_type": "markdown",
   "metadata": {},
   "source": [
    "# Programming Assignment: Рекомендательные системы\n",
    "\n",
    "#### https://www.coursera.org/learn/data-analysis-applications/programming/OSjrS/riekomiendatiel-nyie-sistiemy\n",
    "\n",
    "### Описание задачи\n",
    "\n",
    "Небольшой интернет-магазин попросил вас добавить ранжирование товаров в блок \"Смотрели ранее\" - в нем теперь надо показывать не последние просмотренные пользователем товары, а те товары из просмотренных, которые он наиболее вероятно купит. Качество вашего решения будет оцениваться по количеству покупок в сравнении с прошлым решением в ходе А/В теста, т.к. по доходу от продаж статзначимость будет достигаться дольше из-за разброса цен. Таким образом, ничего заранее не зная про корреляцию оффлайновых и онлайновых метрик качества, в начале проекта вы можете лишь постараться оптимизировать __recall@k__ и __precision@k__.\n",
    "\n",
    "Это задание посвящено построению простых бейзлайнов для этой задачи: ранжирование просмотренных товаров по частоте просмотров и по частоте покупок. Эти бейзлайны, с одной стороны, могут помочь вам грубо оценить возможный эффект от ранжирования товаров в блоке - например, чтобы вписать какие-то числа в коммерческое предложение заказчику, а с другой стороны, могут оказаться самым хорошим вариантом, если данных очень мало (недостаточно для обучения даже простых моделей).\n",
    "\n",
    "#### Входные данные\n",
    "\n",
    "Вам дается две выборки с пользовательскими сессиями - __id__-шниками просмотренных и __id__-шниками купленных товаров. Одна выборка будет использоваться для обучения (оценки популярностей товаров), а другая - для теста.\n",
    "\n",
    "В файлах записаны сессии по одной в каждой строке. Формат сессии: __id__ просмотренных товаров через , затем идёт ; после чего следуют __id__ купленных товаров (если такие имеются), разделённые запятой. Например, __1,2,3,4__; или __1,2,3,4;5,6__.\n",
    "\n",
    "Гарантируется, что среди __id__ купленных товаров все различные.\n",
    "\n",
    "#### Важно:\n",
    "\n",
    "* Сессии, в которых пользователь ничего не купил, исключаем из оценки качества.\n",
    "* Если товар не встречался в обучающей выборке, его популярность равна 0.\n",
    "* Рекомендуем разные товары. И их число должно быть не больше, чем количество различных просмотренных пользователем товаров.\n",
    "* комендаций всегда не больше, чем минимум из двух чисел: количество просмотренных пользователем товаров и __k__ в __recall@k / precision@k__.\n",
    "\n",
    "#### Задание\n",
    "\n",
    "1. На обучении постройте частоты появления __id__ в просмотренных и в купленных (__id__ может несколько раз появляться в просмотренных, все появления надо учитывать)\n",
    "2. Реализуйте два алгоритма рекомендаций:\n",
    "    * сортировка просмотренных __id__ по популярности (частота появления в просмотренных),\n",
    "    * сортировка просмотренных __id__ по покупаемости (частота появления в покупках).\n",
    "3. Для данных алгоритмов выпишите через пробел __AverageRecall@1, AveragePrecision@1, AverageRecall@5, AveragePrecision@5__ на обучающей и тестовых выборках, округляя до 2 знака после запятой. Это будут ваши ответы в этом задании. Посмотрите, как они соотносятся друг с другом. Где качество получилось выше? Значимо ли это различие? Обратите внимание на различие качества на обучающей и тестовой выборке в случае рекомендаций по частотам покупки.\n",
    "\n",
    "Если частота одинаковая, то сортировать нужно по возрастанию момента просмотра (чем раньше появился в просмотренных, тем больше приоритет)\n",
    "\n",
    "#### Дополнительные вопросы\n",
    "\n",
    "1. Обратите внимание, что при сортировке по покупаемости возникает много товаров с одинаковым рангом - это означает, что значение метрик будет зависеть от того, как мы будем сортировать товары с одинаковым рангом. Попробуйте убедиться, что при изменении сортировки таких товаров __recall@k__ меняется. Подумайте, как оценить минимальное и максимальное значение __recall@k__ в зависимости от правила сортировки.\n",
    "2. Мы обучаемся и тестируемся на полных сессиях (в которых есть все просмотренные за сессию товары). Подумайте, почему полученная нами оценка качества рекомендаций в этом случае несколько завышена."
   ]
  },
  {
   "cell_type": "code",
   "execution_count": 2,
   "metadata": {
    "collapsed": true
   },
   "outputs": [],
   "source": [
    "def process_line(line, dic):\n",
    "    items = [int(x) for x in line.split(',') if x != '']\n",
    "    \n",
    "    # assign value to the row\n",
    "    for item in items:\n",
    "        if item not in dic:\n",
    "            dic[item] = 0.0\n",
    "        dic[item] += 1.0\n",
    "\n",
    "def process_data(file_name):\n",
    "    observed_data = dict()\n",
    "    bought_data = dict()\n",
    "    \n",
    "    with open(file_name) as file_obj:\n",
    "        for line in file_obj:\n",
    "            (watch, buy) = zip(line.replace('\\n', '').split(';'))\n",
    "            \n",
    "            process_line(watch[0], observed_data)\n",
    "            process_line(buy[0], bought_data)\n",
    "\n",
    "    return (observed_data, bought_data)"
   ]
  },
  {
   "cell_type": "code",
   "execution_count": 3,
   "metadata": {
    "collapsed": false
   },
   "outputs": [],
   "source": [
    "#(train_observed, train_bought) = process_data('test.txt')\n",
    "(train_observed, train_bought) = process_data('coursera_sessions_train.txt')"
   ]
  },
  {
   "cell_type": "code",
   "execution_count": 4,
   "metadata": {
    "collapsed": false
   },
   "outputs": [
    {
     "data": {
      "text/plain": [
       "77064"
      ]
     },
     "execution_count": 4,
     "metadata": {},
     "output_type": "execute_result"
    }
   ],
   "source": [
    "len(train_observed)\n",
    "#train_observed"
   ]
  },
  {
   "cell_type": "code",
   "execution_count": 5,
   "metadata": {
    "collapsed": false
   },
   "outputs": [
    {
     "data": {
      "text/plain": [
       "4479"
      ]
     },
     "execution_count": 5,
     "metadata": {},
     "output_type": "execute_result"
    }
   ],
   "source": [
    "len(train_bought)"
   ]
  },
  {
   "cell_type": "code",
   "execution_count": 24,
   "metadata": {
    "collapsed": true
   },
   "outputs": [],
   "source": [
    "STEP_WEIGHT = 0.01\n",
    "def get_recommendations(popularity_dict, observed, k):\n",
    "    watch = list()\n",
    "    for obs in observed:\n",
    "        if obs not in watch:\n",
    "            watch.append(obs)\n",
    "    \n",
    "    recommended = dict()\n",
    "    for obs in watch:\n",
    "        if obs in popularity_dict:\n",
    "            recommended[obs] = popularity_dict[obs]\n",
    "        else:\n",
    "            recommended[obs] = 0.0\n",
    "    # iterate over reversed observed items to add weight for first seen items\n",
    "    for i, item_id in enumerate(watch[::-1]):\n",
    "        if item_id in recommended:\n",
    "            recommended[item_id] += (i * STEP_WEIGHT)\n",
    "    \n",
    "    recommended = sorted(recommended.items(), key=itemgetter(1), reverse=True)\n",
    "    items_to_recommend = min(len(observed), k)\n",
    "    ids_to_recommend = [t[0] for t in recommended[:items_to_recommend]]\n",
    "    return (ids_to_recommend, recommended)"
   ]
  },
  {
   "cell_type": "code",
   "execution_count": 41,
   "metadata": {
    "collapsed": false
   },
   "outputs": [
    {
     "name": "stdout",
     "output_type": "stream",
     "text": [
      "[11, 9, 0]\n",
      "[(11, 2.03), (9, 2.02), (0, 1.01), (21, 1.0)]\n",
      "{0: 1.0, 1: 1.0, 2: 1.0, 3: 1.0, 9: 2.0, 10: 1.0, 11: 2.0, 16: 1.0, 17: 1.0, 18: 1.0, 19: 1.0, 20: 1.0, 21: 1.0}\n"
     ]
    }
   ],
   "source": [
    "recommended, details = get_recommendations(train_observed, [11, 9, 0, 21], 3)\n",
    "\n",
    "print recommended\n",
    "print details\n",
    "print train_observed"
   ]
  },
  {
   "cell_type": "code",
   "execution_count": 27,
   "metadata": {
    "collapsed": true
   },
   "outputs": [],
   "source": [
    "def quality(recommended, bought, k, metrics):\n",
    "    if metrics not in ['precision', 'recall']:\n",
    "        raise ValueError('%s is wrong, use \"precision\" or \"recall\"' % metrics) \n",
    "    \n",
    "    correct_count = 0\n",
    "    precision = 0.0\n",
    "    for step,rec in enumerate(recommended, start=1):\n",
    "        corr = 1 if rec in bought else 0\n",
    "        correct_count += corr\n",
    "        \n",
    "    divider = k if metrics == 'precision' else len(bought)\n",
    "    quality = correct_count / float(divider)\n",
    "    \n",
    "    return quality"
   ]
  },
  {
   "cell_type": "code",
   "execution_count": 8,
   "metadata": {
    "collapsed": false
   },
   "outputs": [
    {
     "name": "stdout",
     "output_type": "stream",
     "text": [
      "0.5\n",
      "0.5\n",
      "0.5\n",
      "0.5\n"
     ]
    }
   ],
   "source": [
    "print quality([9, 12, 13, 10], [9, 10, 2, 3], 4, 'precision')\n",
    "print quality([9, 10, 12, 13], [9, 10, 2, 3], 4, 'precision')\n",
    "\n",
    "print quality([9, 12, 13, 10], [9, 10, 2, 3], 4, 'recall')\n",
    "print quality([9, 10, 12, 13], [9, 10, 2, 3], 4, 'recall')"
   ]
  },
  {
   "cell_type": "code",
   "execution_count": 25,
   "metadata": {
    "collapsed": false
   },
   "outputs": [],
   "source": [
    "def collect_metrics(file_name, popular_dict, debug=False):\n",
    "    av_precision_1 = list()\n",
    "    av_precision_5 = list()\n",
    "    \n",
    "    av_recall_1 = list()\n",
    "    av_recall_5 = list()\n",
    "    \n",
    "    count = 0\n",
    "    \n",
    "    with open(file_name) as file_obj:\n",
    "        for line in file_obj:\n",
    "            (watch, buy) = zip(line.replace('\\n', '').split(';'))\n",
    "            \n",
    "            watched_items = [int(x) for x in watch[0].split(',') if x != '']\n",
    "            bought_items = [int(x) for x in buy[0].split(',') if x != '']\n",
    "            \n",
    "            if len(bought_items) == 0:\n",
    "                continue\n",
    "            \n",
    "            recommend_watch_1 = get_recommendations(popular_dict, watched_items, 1)[0]\n",
    "            recommend_watch_5 = get_recommendations(popular_dict, watched_items, 5)[0]\n",
    "            \n",
    "            precision_1 = quality(recommend_watch_1, bought_items, 1, 'precision')\n",
    "            precision_5 = quality(recommend_watch_5, bought_items, 5, 'precision')\n",
    "            \n",
    "            recall_1 = quality(recommend_watch_1, bought_items, 1, 'recall')\n",
    "            recall_5 = quality(recommend_watch_5, bought_items, 5, 'recall')\n",
    "            \n",
    "            av_precision_1.append(precision_1)\n",
    "            av_precision_5.append(precision_5)\n",
    "            \n",
    "            av_recall_1.append(recall_1)\n",
    "            av_recall_5.append(recall_5)\n",
    "            \n",
    "            count += 1\n",
    "            \n",
    "            \n",
    "            if debug == True:\n",
    "                print '----------------'\n",
    "                print 'watched: %s' % watched_items\n",
    "                print 'recommend_watch_1: %s' % recommend_watch_1\n",
    "                print 'recommend_watch_5: %s' % recommend_watch_5\n",
    "                print 'bought_items: %s' % bought_items\n",
    "                print 'recall_1: %f' % recall_1\n",
    "                print 'precision_1: %f' % precision_1\n",
    "                print 'recall_5: %f' % recall_5\n",
    "                print 'precision_5: %f' % precision_5\n",
    "                print '----------------'\n",
    "            \n",
    "                if count >= 2:\n",
    "                    break\n",
    "            \n",
    "    return (av_precision_1, av_precision_5, av_recall_1, av_recall_5)"
   ]
  },
  {
   "cell_type": "code",
   "execution_count": 26,
   "metadata": {
    "collapsed": false
   },
   "outputs": [
    {
     "name": "stdout",
     "output_type": "stream",
     "text": [
      "av_recall_1: 0.46\n",
      "av_precision_1: 0.53\n",
      "av_recall_5: 0.82\n",
      "av_precision_5: 0.21\n"
     ]
    }
   ],
   "source": [
    "#(av_precision_1, av_precision_5, av_recall_1, av_recall_5) = collect_metrics('coursera_sessions_train.txt', train_observed, debug=False)\n",
    "#(av_precision_1, av_precision_5, av_recall_1, av_recall_5) = collect_metrics('coursera_sessions_test.txt', train_observed, debug=False)\n",
    "#(av_precision_1, av_precision_5, av_recall_1, av_recall_5) = collect_metrics('coursera_sessions_train.txt', train_bought, debug=False)\n",
    "(av_precision_1, av_precision_5, av_recall_1, av_recall_5) = collect_metrics('coursera_sessions_test.txt', train_bought, debug=False)\n",
    "\n",
    "print 'av_recall_1: %.2f' % np.mean(av_recall_1)\n",
    "print 'av_precision_1: %.2f' % np.mean(av_precision_1)\n",
    "\n",
    "print 'av_recall_5: %.2f' % np.mean(av_recall_5)\n",
    "print 'av_precision_5: %.2f' % np.mean(av_precision_5)"
   ]
  }
 ],
 "metadata": {
  "kernelspec": {
   "display_name": "Python 2",
   "language": "python",
   "name": "python2"
  },
  "language_info": {
   "codemirror_mode": {
    "name": "ipython",
    "version": 2
   },
   "file_extension": ".py",
   "mimetype": "text/x-python",
   "name": "python",
   "nbconvert_exporter": "python",
   "pygments_lexer": "ipython2",
   "version": "2.7.13"
  }
 },
 "nbformat": 4,
 "nbformat_minor": 2
}
