{
 "cells": [
  {
   "cell_type": "markdown",
   "metadata": {},
   "source": [
    "# Тематическая модель [Постнауки](http://postnauka.ru)\n",
    "## Peer Review (optional)"
   ]
  },
  {
   "cell_type": "markdown",
   "metadata": {},
   "source": [
    "В этом задании мы применим аппарат тематического моделирования к коллекции текстовых записей видеолекций, скачанных с сайта Постнаука. Мы будем визуализировать модель и создавать прототип тематического навигатора по коллекции. В коллекции 1728 документов, размер словаря - 38467 слов. Слова лемматизированы, то есть приведены к начальной форме, с помощью программы [mystem](https://tech.yandex.ru/mystem/), коллекция сохранена в [формате vowpal wabbit](http://docs.bigartm.org/en/latest/formats.html). В каждой строке до первой черты записана информация о документе (ссылка на страницу с лекцией), после первой черты следует описание документа. Используются две модальности - текстовая (\"text\") и модальность авторов (\"author\"); у каждого документа один автор."
   ]
  },
  {
   "cell_type": "markdown",
   "metadata": {},
   "source": [
    "Для выполнения задания понадобится библиотека [BigARTM](http://docs.bigartm.org). В демонстрации показан пример использования библиотеки версии 0.7.4, на сайте предлагается скачивать версию 0.8.0. В новой версии изменены принципы работы со словарями: они вынесены в отдельный класс (пример в [Release Notes](http://docs.bigartm.org/en/stable/release_notes/python.html)). Строить модель и извлекать ее параметры нужно так же, как показано в демонстрации. Вы можете использовать [предыдущий релиз](http://bigartm.readthedocs.io/en/v0.7.6/download.html) или [новый релиз](http://docs.bigartm.org/en/latest/download.html) на ваше усмотрение.\n",
    "\n",
    "Спецификации всех функций вы можете смотреть на странице [Python API](http://bigartm.readthedocs.io/en/stable/python_interface.html)."
   ]
  },
  {
   "cell_type": "code",
   "execution_count": 1,
   "metadata": {
    "collapsed": true
   },
   "outputs": [],
   "source": [
    "import artm"
   ]
  },
  {
   "cell_type": "code",
   "execution_count": 2,
   "metadata": {
    "collapsed": true
   },
   "outputs": [],
   "source": [
    "from matplotlib import pyplot as plt\n",
    "import seaborn\n",
    "%matplotlib inline\n",
    "seaborn.set_style(\"whitegrid\", {'axes.grid' : False})"
   ]
  },
  {
   "cell_type": "code",
   "execution_count": 3,
   "metadata": {
    "collapsed": true
   },
   "outputs": [],
   "source": [
    "import numpy as np\n",
    "import pandas as pd"
   ]
  },
  {
   "cell_type": "markdown",
   "metadata": {},
   "source": [
    "##### Считывание данных"
   ]
  },
  {
   "cell_type": "markdown",
   "metadata": {},
   "source": [
    "Создайте объект класса artm.BatchVectorizer, который будет ссылаться на директорию с пакетами данных (батчами). Чтобы библиотека могла преобразовать текстовый файл в батчи, создайте пустую директорию и укажите ее название в параметре target_folder. Размер батча для небольших коллекций (как наша) не важен, вы можете указать любой."
   ]
  },
  {
   "cell_type": "code",
   "execution_count": 4,
   "metadata": {
    "collapsed": true
   },
   "outputs": [],
   "source": [
    "batch_vectorizer = artm.BatchVectorizer(data_path=\"lectures.txt\", data_format=\"vowpal_wabbit\", target_folder=\"lectures_batches\", \n",
    "                                       batch_size=100)"
   ]
  },
  {
   "cell_type": "markdown",
   "metadata": {},
   "source": [
    "##### Инициализация модели"
   ]
  },
  {
   "cell_type": "markdown",
   "metadata": {},
   "source": [
    "Создайте объект класса artm.Model с 30 темами, именами тем, указанными ниже и единичными весами обеих модальностей. Количество тем выбрано не очень большим, чтобы вам было удобнее работать с темами. На этой коллекции можно строить и большее число тем, тогда они будут более узко специализированы."
   ]
  },
  {
   "cell_type": "code",
   "execution_count": 5,
   "metadata": {
    "collapsed": true
   },
   "outputs": [],
   "source": [
    "T = 30   # количество тем\n",
    "topic_names=[\"sbj\"+str(i) for i in range(T-1)]+[\"bcg\"]\n",
    "\n",
    "model_artm = artm.ARTM(num_topics=T, topic_names=topic_names, class_ids={\"text\":1,\"author\":2}, \n",
    "                       num_document_passes=1, reuse_theta=True, cache_theta=True, seed=1)"
   ]
  },
  {
   "cell_type": "markdown",
   "metadata": {},
   "source": [
    "Мы будем строить 29 предметных тем и одну фоновую. \n",
    "\n",
    "Соберите словарь с помощью метода gather_dictionary и инициализируйте модель, указав random_seed=1. Обязательно укажите свое название словаря, оно понадобится при добавлении регуляризаторов."
   ]
  },
  {
   "cell_type": "code",
   "execution_count": 6,
   "metadata": {
    "collapsed": true
   },
   "outputs": [],
   "source": [
    "dictionary = artm.Dictionary('dictionary')\n",
    "dictionary.gather(batch_vectorizer.data_path)"
   ]
  },
  {
   "cell_type": "code",
   "execution_count": 7,
   "metadata": {},
   "outputs": [],
   "source": [
    "model_artm.initialize('dictionary')"
   ]
  },
  {
   "cell_type": "markdown",
   "metadata": {},
   "source": [
    "##### Добавление score"
   ]
  },
  {
   "cell_type": "markdown",
   "metadata": {},
   "source": [
    "Создайте два измерителя качества artm.TopTokensScore - по одному для каждой модальности; количество токенов 15. Названия для score придумайте самостоятельно."
   ]
  },
  {
   "cell_type": "code",
   "execution_count": 8,
   "metadata": {
    "collapsed": true
   },
   "outputs": [],
   "source": [
    "model_artm.scores.add(artm.TopTokensScore(name=\"text_score\", num_tokens=15, class_id=\"text\"))\n",
    "model_artm.scores.add(artm.TopTokensScore(name=\"authors_score\", num_tokens=15, class_id=\"author\"))"
   ]
  },
  {
   "cell_type": "markdown",
   "metadata": {},
   "source": [
    "##### Построение модели"
   ]
  },
  {
   "cell_type": "markdown",
   "metadata": {},
   "source": [
    "Мы будем строить модель в два этапа: сначала добавим сглаживающий регуляризатор фоновой темы и настроим параметры модели, затем - добавим разреживающий регуляризатор предметрых тем и выполним еще несколько итераций. Так мы сможем получить наиболее чистые от фоновых слов предметные темы. Сглаживающий и разреживающий регуляризаторы задаются одним и тем же классом artm.SmoothSparsePhiRegularizer: если коэффициент tau положительный, то регуляризатор будет сглаживающий, если отрицательный - разреживающий.\n",
    "\n",
    "Если вы хотите подробнее разобраться, как выполняется регуляризация тематической модели в BigARTM, вы можете прочитать [статью](https://s3-eu-west-1.amazonaws.com/artm/voron-potap14artm-rus.pdf), раздел 4."
   ]
  },
  {
   "cell_type": "markdown",
   "metadata": {},
   "source": [
    "Добавьте сглаживающий регуляризатор с коэффициентом tau = 1e5, указав название своего словаря в dictionary, модальность текста в class_ids и тему \"bcg\" в topic_names."
   ]
  },
  {
   "cell_type": "code",
   "execution_count": 9,
   "metadata": {
    "collapsed": true
   },
   "outputs": [],
   "source": [
    "model_artm.regularizers.add(\n",
    "    artm.SmoothSparsePhiRegularizer(\n",
    "        dictionary=dictionary, topic_names=[\"bcg\"], class_ids=[\"text\"], tau=1e5\n",
    "    )\n",
    ")"
   ]
  },
  {
   "cell_type": "markdown",
   "metadata": {},
   "source": [
    "Выполните 30 итераций по коллекции (num_collection_passes), количество внутренних итераций установите равным 1. Используйте метод fit_offline модели."
   ]
  },
  {
   "cell_type": "code",
   "execution_count": 10,
   "metadata": {
    "collapsed": true
   },
   "outputs": [],
   "source": [
    "model_artm.fit_offline(batch_vectorizer=batch_vectorizer, num_collection_passes=30)"
   ]
  },
  {
   "cell_type": "markdown",
   "metadata": {},
   "source": [
    "Добавьте разреживающий регуляризатор с коэффициентом tau=-1e5, указав название своего словаря, модальность текста в class_ids и все темы \"sbjX\" в topic_names."
   ]
  },
  {
   "cell_type": "code",
   "execution_count": 11,
   "metadata": {},
   "outputs": [],
   "source": [
    "model_artm.regularizers.add(\n",
    "    artm.SmoothSparsePhiRegularizer(\n",
    "        dictionary=dictionary, topic_names=topic_names[:-1], class_ids=[\"text\"], tau=-1e5\n",
    "    )\n",
    ")"
   ]
  },
  {
   "cell_type": "markdown",
   "metadata": {},
   "source": [
    "Выполните еще 15 проходов по коллекции."
   ]
  },
  {
   "cell_type": "code",
   "execution_count": 12,
   "metadata": {
    "collapsed": true
   },
   "outputs": [],
   "source": [
    "model_artm.fit_offline(batch_vectorizer=batch_vectorizer, num_collection_passes=15)"
   ]
  },
  {
   "cell_type": "markdown",
   "metadata": {},
   "source": [
    "##### Интерпретация тем"
   ]
  },
  {
   "cell_type": "markdown",
   "metadata": {},
   "source": [
    "Используя созданные score, выведите топы слов и топы авторов в темах. Удобнее всего выводить топ слов каждой темы с новой строки, указывая название темы в начале строки, и аналогично с авторами."
   ]
  },
  {
   "cell_type": "code",
   "execution_count": 13,
   "metadata": {},
   "outputs": [
    {
     "name": "stdout",
     "output_type": "stream",
     "text": [
      "sbj0: частица,взаимодействие,физика,кварк,симметрия,элементарный,нейтрино,стандартный,материя,протон,бозон,масса,заряд,ускоритель,слабый\n",
      "sbj1: материал,температура,структура,вещество,химический,соединение,свойство,поверхность,химия,давление,углерод,сверхпроводимость,металл,применение,полимер\n",
      "sbj2: политический,государство,политика,царь,партия,власть,правитель,враг,сага,кризис,ритуал,шмитт,государь,средневековый,египетский\n",
      "sbj3: университет,школа,образование,предмет,познание,знание,факультет,аргумент,студент,логика,кафедра,восприятие,концепт,учитель,прикладной\n",
      "sbj4: мозг,ребенок,нейрон,мышление,предложение,категория,взрослый,чтение,лицо,синтаксический,синтаксис,обезьяна,детство,словосочетание,шимпанзе\n",
      "sbj5: бог,миф,греческий,герой,море,мифология,грек,мифологический,гусейнов,божество,персонаж,шумерский,гасан,генеалогия,сущность\n",
      "sbj6: русский,город,текст,городской,перевод,корпус,гласный,говор,москва,пьеса,горожанин,документ,немецкий,древнерусский,метро\n",
      "sbj7: раса,трудность,праздник,шаман,станислав,америка,тест,нос,монголоид,дробышевский,шаманский,индеец,сакральный,задание,европеоид\n",
      "sbj8: право,римский,правовой,юрист,суд,юридический,сон,должник,закон,собственность,обязательство,владение,собственник,исполнение,имущество\n",
      "sbj9: болезнь,заболевание,пациент,лечение,медицина,врач,боль,препарат,медицинский,иммунный,операция,озеро,сердце,диагностика,нарушение\n",
      "sbj10: животное,робот,растение,вода,организм,микроорганизм,нервный,рецептор,биологический,эволюция,отбор,мембрана,метан,кислород,популяция\n",
      "sbj11: память,информация,когнитивный,психолог,сознание,зрительный,психический,запоминать,восприятие,линзовидный,воспроизводить,картинка,катастрофа,мария,храниться\n",
      "sbj12: империя,германия,историк,церковь,государственный,русь,святой,военный,великий,российский,князь,немецкий,нация,культ,андрей\n",
      "sbj13: наука,социальный,рассказывать,общество,понятие,кандидат,история,социология,исторический,каков,культурный,сегодня,знание,научный,сообщество\n",
      "sbj14: галактика,планета,земля,звезда,черный,дыра,масса,газ,атмосфера,диск,солнце,солнечный,космический,скопление,расстояние\n",
      "sbj15: решение,экономический,экономика,деньги,оценка,компания,принятие,ценность,выбор,международный,рынок,ресурс,экономист,безопасность,эффективность\n",
      "sbj16: человек,поведение,психология,психологический,эмоция,конфликт,мужчина,личность,коллективный,способность,женщина,родитель,идентичность,травма,мотивация\n",
      "sbj17: задача,данные,компьютер,сеть,программа,компьютерный,алгоритм,интеллект,интернет,искусственный,ошибка,обучение,вычислительный,пользователь,разработка\n",
      "sbj18: территория,словарь,восток,письменность,народ,древний,китай,северный,памятник,восточный,китайский,южный,письмо,население,регион\n",
      "sbj19: клетка,ген,днк,белок,молекула,организм,генетический,геном,бактерия,рнк,мутация,молекулярный,ткань,вирус,биологический\n",
      "sbj20: энергия,квантовый,поле,магнитный,атом,электрон,свет,волна,эффект,фотон,измерение,оптический,ток,физико-математический,частота\n",
      "sbj21: культура,философия,философский,философ,женщина,произведение,платон,роман,религиозный,идеология,жанр,мысль,анекдот,мать,поэт\n",
      "sbj22: революция,власть,король,французский,реформа,петр,франция,против,сталин,император,смерть,народ,крестьянин,террор,диктатура\n",
      "sbj23: война,россия,советский,мировой,союз,гражданский,песня,обряд,екатерина,самка,армия,ссср,самец,эмиграция,большевик\n",
      "sbj24: язык,христианский,литературный,литература,лингвист,христианство,глагол,филологический,лингвистика,языковой,грамматика,христианин,арабский,падеж,английский\n",
      "sbj25: теория,пространство,математический,описывать,уравнение,матрица,теоретический,математика,описание,эйнштейн,относительность,линейный,механика,геометрия,парадокс\n",
      "sbj26: внимание,костюм,коллективизация,фразеологизм,скелет,банк,сочетание,финансовый,термоэлектрический,порнография,актер,воображение,фрейм,долг,чувствительность\n",
      "sbj27: звезда,вселенная,излучение,объект,белый,нейтронный,карлик,спектр,вещество,измерять,рентгеновский,небо,телескоп,реликтовый,сверхновый\n",
      "sbj28: фильм,свобода,книга,кино,кинематограф,культовый,академия,профессор,академический,бердяев,отделение,классика,вечный,актер,автор\n",
      "bcg: быть,что,это,который,этот,как,они,мочь,такой,очень,для,или,тот,один,весь\n"
     ]
    }
   ],
   "source": [
    "for topic_name in model_artm.topic_names:\n",
    "    print '%s: %s' % (topic_name, ','.join( model_artm.score_tracker['text_score'].last_tokens[topic_name] ) )"
   ]
  },
  {
   "cell_type": "markdown",
   "metadata": {},
   "source": [
    "В последней теме \"bcg\" должны находиться общеупотребительные слова.\n",
    "\n",
    "Важный шаг в работе с тематической моделью, когда речь идет о визуализации или создании тематического навигатора, это именование тем. Понять, о чем каждая тема, можно по списку ее топовых слов. Например, тему\n",
    "    \n",
    "    частица взаимодействие физика кварк симметрия элементарный нейтрино стандартный материя протон бозон заряд масса ускоритель слабый\n",
    "    \n",
    "можно назвать \"Физика элементарных частиц\". \n",
    "\n",
    "Дайте названия 29 предметным темам. Если вы не знаете, как назвать тему, назовите ее первым встретившимся в ней существительным, хотя при таком подходе навигатор будет менее информативным. Из названий тем составьте список из 29 строк и запишите го в переменную sbj_topic_labels. В переменной topic_labels будут храниться названия всех тем, включая фоновую."
   ]
  },
  {
   "cell_type": "code",
   "execution_count": 14,
   "metadata": {
    "collapsed": true
   },
   "outputs": [],
   "source": [
    "sbj_topic_labels = [\n",
    "    \"Физика элементарных частиц\",\n",
    "    \"Химия\",\n",
    "    \"История\",\n",
    "    \"Образование\",\n",
    "    \"Мозг\",\n",
    "    \"Мифология\",\n",
    "    \"Россия\",\n",
    "    \"Антропогенез\",\n",
    "    \"Юриспруденция\",\n",
    "    \"Медицина\",\n",
    "    \"Биология\",\n",
    "    \"Нейробиология\",\n",
    "    \"История России\",\n",
    "    \"Социология\",\n",
    "    \"Астрономия\",\n",
    "    \"Экономика\",\n",
    "    \"Психология\",\n",
    "    \"Информатика\",\n",
    "    \"История Востока\",\n",
    "    \"Генетика\",\n",
    "    \"Физика\",\n",
    "    \"Философия\",\n",
    "    \"Всемирная история\",\n",
    "    \"Советский Союз\",\n",
    "    \"Лингвистика\",\n",
    "    \"Математика\",\n",
    "    \"Актерское мастерство\",\n",
    "    \"Астрофизика\",\n",
    "    \"Культура\"\n",
    "]\n",
    "topic_labels = sbj_topic_labels + [\"Фоновая тема\"]"
   ]
  },
  {
   "cell_type": "markdown",
   "metadata": {},
   "source": [
    "##### Анализ тем"
   ]
  },
  {
   "cell_type": "markdown",
   "metadata": {},
   "source": [
    "Далее мы будем работать с распределениями тем в документах (матрица $\\Theta$) и авторов в темах (одна из двух матриц $\\Phi$, соответствующая модальности авторов). \n",
    "Создайте переменные, содержащие две этих матрицы, с помощью методов get_phi и get_theta модели. Назовите переменные theta и phi_a. Выведите формы обеих матриц, чтобы понять, по каким осям стоят темы."
   ]
  },
  {
   "cell_type": "code",
   "execution_count": 15,
   "metadata": {},
   "outputs": [
    {
     "data": {
      "text/plain": [
       "((30, 1728), (539, 30))"
      ]
     },
     "execution_count": 15,
     "metadata": {},
     "output_type": "execute_result"
    }
   ],
   "source": [
    "model_artm.theta_columns_naming = \"title\" # включает именование столбцов Theta их названиями-ссылками, а не внутренними id \n",
    "\n",
    "theta = model_artm.get_theta()\n",
    "phi_a = model_artm.get_phi(class_ids=['author'])\n",
    "\n",
    "theta.shape, phi_a.shape"
   ]
  },
  {
   "cell_type": "markdown",
   "metadata": {},
   "source": [
    "Визуализируем фрагмент матрицы $\\Theta$ - первые 100 документов (это наиболее простой способ визуально оценить, как темы распределяются в документах). С помощью метода seaborn.heatmap выведите фрагмент theta как изображение. Рекомендация: создайте фигуру pyplot размера (20, 10)."
   ]
  },
  {
   "cell_type": "code",
   "execution_count": 16,
   "metadata": {},
   "outputs": [
    {
     "data": {
      "text/plain": [
       "<matplotlib.axes._subplots.AxesSubplot at 0x11073b70>"
      ]
     },
     "execution_count": 16,
     "metadata": {},
     "output_type": "execute_result"
    },
    {
     "data": {
      "image/png": "[encoded data removed]",
      "text/plain": [
       "<matplotlib.figure.Figure at 0x11073670>"
      ]
     },
     "metadata": {},
     "output_type": "display_data"
    }
   ],
   "source": [
    "plt.figure(figsize=(20,10))\n",
    "seaborn.heatmap(theta.as_matrix()[:, :100])"
   ]
  },
  {
   "cell_type": "markdown",
   "metadata": {},
   "source": [
    "Вы должны увидеть, что фоновая тема имеет большую вероятность в почти каждом документе, и это логично. Кроме того, есть еще одна тема, которая чаще других встречается в документах. Судя по всему, это тема содержит много слов по науку в целом, а каждый документ (видео) в нашей коллекции связан с наукой. Можно (необязательно) дать этой теме название \"Наука\".\n",
    "\n",
    "Помимо этих двух тем, фоновой и общенаучной, каждый документ характеризуется малым числом других тем."
   ]
  },
  {
   "cell_type": "markdown",
   "metadata": {},
   "source": [
    "Оценим $p(t)$ - долю каждой темы во всей коллекции. По формуле полной вероятности вычислять эти величины нужно как\n",
    "$p(t) = \\sum_d p(t|d) p(d)$. Согласно вероятностной модели, $p(d)$ пропорционально длине документа d. Поступим проще: будем полагать, что все документы равновероятны. Тогда оценить $p(t)$ можно, просуммировав $p(t|d)$ по всем документам, а затем разделив полученный вектор на его сумму. \n",
    "\n",
    "Создайте переменную-датафрейм с T строками, индексированными названиями тем, и 1 столбцом, содержащим оценки $p(t)$. Выведите датафрейм на печать."
   ]
  },
  {
   "cell_type": "code",
   "execution_count": null,
   "metadata": {},
   "outputs": [
    {
     "name": "stdout",
     "output_type": "stream",
     "text": [
      "                                   P\n",
      "Физика элементарных частиц  0.009890\n",
      "Химия                       0.015111\n",
      "История                     0.009473\n",
      "Образование                 0.006068\n",
      "Мозг                        0.006580\n",
      "Мифология                   0.007071\n",
      "Россия                      0.007723\n",
      "Антропогенез                0.004847\n",
      "Юриспруденция               0.008321\n",
      "Медицина                    0.011158\n",
      "Биология                    0.015278\n",
      "Нейробиология               0.006900\n",
      "История России              0.014948\n",
      "Социология                  0.045560\n",
      "Астрономия                  0.015070\n",
      "Экономика                   0.008806\n",
      "Психология                  0.011108\n",
      "Информатика                 0.009825\n",
      "История Востока             0.014995\n",
      "Генетика                    0.021931\n",
      "Физика                      0.016981\n",
      "Философия                   0.014241\n",
      "Всемирная история           0.008902\n",
      "Советский Союз              0.006405\n",
      "Лингвистика                 0.015080\n",
      "Математика                  0.009296\n",
      "Актерское мастерство        0.003137\n",
      "Астрофизика                 0.008274\n",
      "Культура                    0.006627\n",
      "Фоновая тема                0.660395\n"
     ]
    }
   ],
   "source": [
    "pt_d = np.sum(theta, axis=1)\n",
    "pt = pt_d / np.sum(pt_d)\n",
    "dataframe = pd.DataFrame(data=pt.as_matrix(), index=topic_labels, columns=['P'], dtype=float)\n",
    "print dataframe"
   ]
  },
  {
   "cell_type": "markdown",
   "metadata": {},
   "source": [
    "Найдите 5 самых распространенных и 3 наименее освещенных темы в коллекции (наибольшие и наименьшие $p(t)$ соответственно), не считая фоновую и общенаучную. Укажите названия, которые вы дали этим темам."
   ]
  },
  {
   "cell_type": "code",
   "execution_count": null,
   "metadata": {},
   "outputs": [],
   "source": [
    "sorted_dataframe = dataframe.sort_values(by='P')\n",
    "print sorted_dataframe[:3]\n",
    "print sorted_dataframe[-6:-1]"
   ]
  },
  {
   "cell_type": "raw",
   "metadata": {},
   "source": [
    "Ваш ответ:\n",
    "5 тем с max p(t): Актерское мастерство, Антропогенез, Образование\n",
    "3 темы с min p(t): Химия, Биология, Физика, Генетика, Социология"
   ]
  },
  {
   "cell_type": "markdown",
   "metadata": {},
   "source": [
    "Визуализируйте матрицу $\\Phi$ модальности авторов в виде изображения. Рекомендация: установите yticklabels=False в heatmap."
   ]
  },
  {
   "cell_type": "code",
   "execution_count": null,
   "metadata": {},
   "outputs": [],
   "source": [
    "plt.figure(figsize=(20, 10))\n",
    "seaborn.heatmap(phi_a, yticklabels=False)"
   ]
  },
  {
   "cell_type": "markdown",
   "metadata": {},
   "source": [
    "Каждой теме соответствует не очень большое число авторов - матрица достаточно разреженная. Кроме того, некоторые темы имеют доминирующего автора $a$, имеющего большую вероятность $p(a|t)$ - этот автор записал больше всего лекций по теме. "
   ]
  },
  {
   "cell_type": "markdown",
   "metadata": {},
   "source": [
    "Будем считать, что автор $a$ значим в теме, если $p(a|t) > 0.01$. Для каждого автора посчитайте, в скольких темах он значим. Найдите авторов-рекордсменов, которые значимы (а значит, читали лекции) в >= 3 темах."
   ]
  },
  {
   "cell_type": "code",
   "execution_count": null,
   "metadata": {},
   "outputs": [],
   "source": [
    "most_popular_authors = np.sum(phi_a > 0.01, axis=1)\n",
    "print \"Самые популярные авторы:\"\n",
    "most_popular_authors[most_popular_authors >= 3]"
   ]
  },
  {
   "cell_type": "markdown",
   "metadata": {},
   "source": [
    "Большинство авторов значимы в 1 теме, что логично."
   ]
  },
  {
   "cell_type": "markdown",
   "metadata": {},
   "source": [
    "##### Построение тематической карты авторов"
   ]
  },
  {
   "cell_type": "markdown",
   "metadata": {},
   "source": [
    "По сути, в матрице $\\Phi$, соответствующей модальности авторов, записаны тематические кластеры авторов. Для любого автора мы можем составить его тематический круг - авторов, разбирающихся в той же теме, что и данный. Интересующиеся слушатели могут попробовать выполнить эту процедуру для ученых, читающих лекции на Постнауке, которых они знают (например, на Постнауке есть лекции с К. В. Воронцовым - лектором текущего модуля :)\n",
    "\n",
    "Составим карту близости авторов по тематике их исследований. Для этого применим метод понижения размерности MDS к тематическим профилям авторов.\n",
    "\n",
    "Чтобы получить тематический профиль автора, распределение $p(t|a)$, нужно воспользоваться формулой Байеса: \n",
    "$p(t|a) = \\frac {p(a|t) p(t)} {\\sum_t' p(a|t') p(t')}$. Все необходимые для этого величины у вас есть и записаны в переменных phi и pt. \n",
    "\n",
    "Передайте матрицу тематических профилей авторов, записанных по строкам, в метод MDS с n_components=2. Используйте косинусную метрику (она хорошо подходит для поиска расстояний между векторами, имеющими фиксированную сумму компонент)."
   ]
  },
  {
   "cell_type": "code",
   "execution_count": null,
   "metadata": {
    "collapsed": true
   },
   "outputs": [],
   "source": [
    "from sklearn.manifold import MDS\n",
    "from sklearn.metrics import pairwise_distances"
   ]
  },
  {
   "cell_type": "code",
   "execution_count": null,
   "metadata": {},
   "outputs": [],
   "source": [
    "profiles = phi_a.values * pt_d.values.T\n",
    "profiles /= np.sum(profiles)\n",
    "\n",
    "mds = MDS(dissimilarity=\"precomputed\", n_components=2)\n",
    "distances = pairwise_distances(profiles, metric = \"cosine\")\n",
    "mds_transformed = mds.fit_transform(distances)"
   ]
  },
  {
   "cell_type": "markdown",
   "metadata": {},
   "source": [
    "Визуализируйте найденные двумерные представления с помощью функции scatter. "
   ]
  },
  {
   "cell_type": "code",
   "execution_count": null,
   "metadata": {},
   "outputs": [],
   "source": [
    "plt.scatter(mds_transformed[0:, 0], mds_transformed[0:, 1])"
   ]
  },
  {
   "cell_type": "markdown",
   "metadata": {},
   "source": [
    "Должно получиться, что некоторые грппы авторов формируют сгустки, которые можно считать тематическими группами авторов.\n",
    "\n",
    "Раскрасим точки следующим образом: для каждого автора выберем наиболее вероятную для него тему ($\\max_t p(t|a)$), и каждой теме сопоставим цвет. Кроме того, добавим на карту имена и фамилии авторов, это можно сделать в цикле по всем точкам с помощью функции plt.annotate, указывая метку точки первым аргументом и ее координаты в аргументе xy. Рекомендуется сделать размер изображения большим, тогда маркеры точек тоже придется увеличить (s=100 в plt.scatter). Изобразите карту авторов и сохраните в pdf-файл с помощью функции plt.savefig. \n",
    "\n",
    "Метки авторов будут пересекаться. Будет очень хорошо, если вы найдете способ, как этого можно избежать."
   ]
  },
  {
   "cell_type": "code",
   "execution_count": null,
   "metadata": {},
   "outputs": [],
   "source": [
    "import matplotlib.cm as cm\n",
    "colors = cm.rainbow(np.linspace(0, 1, T)) # цвета для тем\n",
    "figure = plt.figure(figsize=(20, 20))\n",
    "\n",
    "max_indexes = profiles.argmax(axis=1)\n",
    "unique_max_indexes = set(max_indexes)\n",
    "\n",
    "for i, color in zip(unique_max_indexes, colors):\n",
    "    coord = (i==max_indexes)\n",
    "    \n",
    "    plt.scatter(mds_transformed[coord, 0], mds_transformed[coord, 1], c=color, s=100)\n",
    "    \n",
    "    for i, (name, xy) in enumerate(zip(phi_a[coord].index, mds_transformed[coord])):\n",
    "        plt.annotate(name, xy=xy, xytext=(0, i * 10),\n",
    "                     textcoords='offset points',\n",
    "                     arrowprops={\n",
    "                         'arrowstyle' : '-',\n",
    "                         'connectionstyle' : 'bar, angle=-90, fraction=.1'\n",
    "                     }\n",
    "        )\n",
    "\n",
    "plt.savefig('authors.pdf')"
   ]
  },
  {
   "cell_type": "markdown",
   "metadata": {},
   "source": [
    "##### Создание простого тематического навигатора по Постнауке"
   ]
  },
  {
   "cell_type": "markdown",
   "metadata": {},
   "source": [
    "Наш тематический навигатор будет для каждой темы показывать ее список слов, а также список релевантных теме документов. \n",
    "\n",
    "Нам понадобятся распределения $p(d|t)$. По формуле Байеса $p(d|t) = \\frac{p(t|d)p(d)}{\\sum_{d'}p(t|d')p(d')}$, но поскольку мы считаем документы равновероятными, достаточно разделить каждую строку $\\Theta$ на ее сумму, чтобы оценить распределение. \n",
    "\n",
    "Отсортируйте матрицу $p(d|t)$ по убыванию $p(d|t)$ в каждой теме (то есть построчно). Нам понадобятся индексы наиболее вероятных документов в каждой теме, поэтому используйте функцию argmax."
   ]
  },
  {
   "cell_type": "code",
   "execution_count": null,
   "metadata": {
    "collapsed": true
   },
   "outputs": [],
   "source": [
    "pdt = np.zeros(theta.shape)\n",
    "\n",
    "for i in range(theta.shape[0]):\n",
    "    pdt[i] = theta.iloc[i] / sum(theta.iloc[i])\n",
    "pdt_sorted = pdt.argsort(axis = 1)[:, ::-1][:,:10]"
   ]
  },
  {
   "cell_type": "markdown",
   "metadata": {},
   "source": [
    "Создавать навигатор мы будем прямо в jupiter notebook: это возможно благодаря тому факту, что при печати ссылки она автоматически превращается в гиперссылку."
   ]
  },
  {
   "cell_type": "code",
   "execution_count": null,
   "metadata": {},
   "outputs": [],
   "source": [
    "print \"http://yandex.ru\"   # получится кликабельная ссылка"
   ]
  },
  {
   "cell_type": "markdown",
   "metadata": {},
   "source": [
    "Кроме того, подключив модуль [ipython.core.display](https://ipython.org/ipython-doc/2/api/generated/IPython.core.display.html), можно использовать html-разметку в выводе. Например:"
   ]
  },
  {
   "cell_type": "code",
   "execution_count": null,
   "metadata": {},
   "outputs": [],
   "source": [
    "from IPython.core.display import display, HTML\n",
    "display(HTML(u\"<h1>Заголовок</h1>\"))   # также <h2>, <h3>\n",
    "display(HTML(u\"<ul><li>Пункт 1</li><li>Пункт 2</li></ul>\"))\n",
    "display(HTML(u'<font color=\"green\">Зеленый!</font>'))\n",
    "display(HTML(u'<a href=\"http://yandex.ru\">Еще один вариант вывода ссылки</a>'))"
   ]
  },
  {
   "cell_type": "markdown",
   "metadata": {},
   "source": [
    "В цикле для каждой темы выведите ее заголовок, в следующей строке - топ-10 слов темы, затем в виде списка ссылки на 10 наиболее релевантных (по $p(d|t)$) теме документов. Используйте html-разметку. Творчество приветствуется :)"
   ]
  },
  {
   "cell_type": "code",
   "execution_count": null,
   "metadata": {},
   "outputs": [],
   "source": [
    "display(HTML(u'<h2>Тематический навигатор по \"Постнауке\"</h2>'))\n",
    "\n",
    "for topic_name, i in zip(model_artm.topic_names[:-1], xrange(T-1)):\n",
    "    \n",
    "    display(HTML(u\"<h4>%s</h4>\" % topic_labels[i].decode('utf-8')))\n",
    "    display(HTML(u\"<h6>Топ-10 слов темы: </h6>\"))\n",
    "\n",
    "    display(HTML(\n",
    "        ','.join( model_artm.score_tracker[\"text_score\"].last_tokens[topic_name] )\n",
    "    ))\n",
    "    \n",
    "    print '\\n'.join(\n",
    "            map( lambda j: \"%s - %.4f\" % (theta.columns.values[pdt_sorted[i][j]], pdt[i, pdt_sorted[i][j]]), range(10) )\n",
    "    )\n",
    "    "
   ]
  },
  {
   "cell_type": "markdown",
   "metadata": {},
   "source": [
    "##### Заключение"
   ]
  },
  {
   "cell_type": "markdown",
   "metadata": {},
   "source": [
    "В этом Peer Review мы познакомились с базовыми возможностями библиотеки BigARTM и с методами визуализации тематических моделей. Визуализация тематических моделей - это широкая и активно развивающаяся область научных исследований. Мы рассмотрели только самые простые приемы. Желающие могут попробовать применить [Serendip](http://vep.cs.wisc.edu/serendip/#serendipHero), разработанный в  University of Wisconsin-Madison, к построенной модели. Эта библиотека позволяет максимально полно охарактеризовать темы и написана для языка python. \n",
    "\n",
    "Сделав задание, вы можете выбрать в навигаторе наиболее интересную для вас тему и посмотреть видеолекции :) На Постнауке очень много интересных материалов. "
   ]
  }
 ],
 "metadata": {
  "kernelspec": {
   "display_name": "Python 2",
   "language": "python",
   "name": "python2"
  },
  "language_info": {
   "codemirror_mode": {
    "name": "ipython",
    "version": 2
   },
   "file_extension": ".py",
   "mimetype": "text/x-python",
   "name": "python",
   "nbconvert_exporter": "python",
   "pygments_lexer": "ipython2",
   "version": "2.7.13"
  }
 },
 "nbformat": 4,
 "nbformat_minor": 1
}
