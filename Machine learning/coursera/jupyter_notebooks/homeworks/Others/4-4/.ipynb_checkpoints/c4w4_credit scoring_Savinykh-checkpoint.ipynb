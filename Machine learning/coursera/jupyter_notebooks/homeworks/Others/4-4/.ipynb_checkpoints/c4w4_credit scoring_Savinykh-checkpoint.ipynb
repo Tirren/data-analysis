{
 "cells": [
  {
   "cell_type": "markdown",
   "metadata": {},
   "source": [
    "# Задача кредитного скоринга\n",
    "## С4W4"
   ]
  },
  {
   "cell_type": "markdown",
   "metadata": {},
   "source": [
    "Для выполнения этого задания вам понадобятся данные о кредитных историях клиентов одного из банков. Поля в предоставляемых данных имеют следующий смысл:\n",
    "\n",
    "- LIMIT_BAL: размер кредитного лимита (в том числе и на семью клиента)\n",
    "- SEX: пол клиента (1 = мужской, 2 = женский )\n",
    "- EDUCATION: образование (0 = доктор, 1 = магистр; 2 = бакалавр; 3 = выпускник школы; 4 = начальное образование; 5= прочее; 6 = нет данных ).\n",
    "- MARRIAGE: (0 = отказываюсь отвечать; 1 = замужем/женат; 2 = холост; 3 = нет данных).\n",
    "- AGE: возраст в годах\n",
    "- PAY_0 - PAY_6 : История прошлых платежей по кредиту. PAY_6 - платеж в апреле, ... Pay_0 - платеж в сентябре. Платеж = (0 = исправный платеж, 1=задержка в один месяц, 2=задержка в 2 месяца ...)\n",
    "- BILL_AMT1 - BILL_AMT6: задолженность, BILL_AMT6 - на апрель, BILL_AMT1 - на сентябрь\n",
    "- PAY_AMT1 - PAY_AMT6: сумма уплаченная в PAY_AMT6 - апреле, ..., PAY_AMT1 - сентябре\n",
    "- default - индикатор невозврата денежных средств\n",
    "\n",
    "\n",
    "### Задание\n",
    "\n",
    "1. Размер кредитного лимита (LIMIT_BAL). В двух группах, тех людей, кто вернул кредит (default = 0) и тех, кто его не вернул (default = 1) проверьте гипотезы: a) о равенстве медианных значений кредитного лимита с помощью подходящей интервальной оценки b) о равенстве распределений с помощью одного из подходящих непараметрических критериев проверки равенства средних. Значимы ли полученные результаты с практической точки зрения ?\n",
    "2. Пол (SEX): Проверьте гипотезу о том, что гендерный состав группы людей вернувших и не вернувших кредит отличается. Хорошо, если вы предоставите несколько различных решений этой задачи (с помощью доверительного интервала и подходящего статистического критерия)\n",
    "3. Образование (EDUCATION): Проверьте гипотезу о том, что образование не влияет на то, вернет ли человек долг. Предложите способ наглядного представления разницы в ожидаемых и наблюдаемых значениях количества человек вернувших и не вернувших долг. Например, составьте таблицу сопряженности \"образование\" на \"возврат долга\", где значением ячейки была бы разность между наблюдаемым и ожидаемым количеством человек. Как бы вы предложили модифицировать таблицу так, чтобы привести значения ячеек к одному масштабу не потеряв в интерпретируемости ? Наличие какого образования является наилучшим индикатором того, что человек отдаст долг ? наоборт, не отдаст долг ?\n",
    "4. Семейное положение (MARRIAGE): Проверьте, как связан семейный статус с индикатором дефолта: нужно предложить меру, по которой можно измерить возможную связь этих переменных и посчитать ее значение.\n",
    "5. Возраст (AGE): Относительно двух групп людей вернувших и не вернувших кредит проверьте следующие гипотезы: a) о равенстве медианных значений возрастов людей b) о равенстве распределений с помощью одного из подходящих непараметрических критериев проверки равенства средних. Значимы ли полученные результаты с практической точки зрения ?\n",
    "\n",
    "### Данные\n",
    "\n",
    "credit_card_default_analysis.csv\n",
    "\n",
    "\n",
    "### Review criteria\n",
    "\n",
    "1. Выполнение каждого пункта задания должно начинаться с графика с данными, которые вы собираетесь анализировать. Еще лучше, если вы разложите графики анализируемого фактора по переменной (default), на которую хотите изучить влияние этого фактора, и проинтерпретируете отличия в полученных распределениях.\n",
    "2. При использовании статистических критериев необходимо убедиться в том, что условия их применимости выполняются. Например, если вы видите, что данные бинарные, то не нужно применять критерий Стьюдента.\n",
    "3. При каждом использовании любого критерия необходимо указать, какая проверяется гипотеза, против какой альтернативы, чему равен достигаемый уровень значимости, принимается или отвергается нулевая гипотеза на уровне значимости 0.05. Если задача позволяет, нужно оценить размер эффекта и предположить, имеет ли этот результат практическую значимость.\n",
    "4. Выполненное задание необходимо представить в ipython-ноутбуке."
   ]
  },
  {
   "cell_type": "code",
   "execution_count": 1,
   "metadata": {
    "collapsed": true
   },
   "outputs": [],
   "source": [
    "# загружаем библиотеки\n",
    "import numpy as np\n",
    "import pandas as pd\n",
    "import scipy\n",
    "from statsmodels.stats.weightstats import *"
   ]
  },
  {
   "cell_type": "code",
   "execution_count": 2,
   "metadata": {},
   "outputs": [
    {
     "name": "stdout",
     "output_type": "stream",
     "text": [
      "Populating the interactive namespace from numpy and matplotlib\n"
     ]
    }
   ],
   "source": [
    "%pylab inline"
   ]
  },
  {
   "cell_type": "code",
   "execution_count": 3,
   "metadata": {},
   "outputs": [
    {
     "data": {
      "text/html": [
       "<div>\n",
       "<style>\n",
       "    .dataframe thead tr:only-child th {\n",
       "        text-align: right;\n",
       "    }\n",
       "\n",
       "    .dataframe thead th {\n",
       "        text-align: left;\n",
       "    }\n",
       "\n",
       "    .dataframe tbody tr th {\n",
       "        vertical-align: top;\n",
       "    }\n",
       "</style>\n",
       "<table border=\"1\" class=\"dataframe\">\n",
       "  <thead>\n",
       "    <tr style=\"text-align: right;\">\n",
       "      <th></th>\n",
       "      <th>ID</th>\n",
       "      <th>LIMIT_BAL</th>\n",
       "      <th>SEX</th>\n",
       "      <th>EDUCATION</th>\n",
       "      <th>MARRIAGE</th>\n",
       "      <th>AGE</th>\n",
       "      <th>PAY_0</th>\n",
       "      <th>PAY_2</th>\n",
       "      <th>PAY_3</th>\n",
       "      <th>PAY_4</th>\n",
       "      <th>...</th>\n",
       "      <th>BILL_AMT4</th>\n",
       "      <th>BILL_AMT5</th>\n",
       "      <th>BILL_AMT6</th>\n",
       "      <th>PAY_AMT1</th>\n",
       "      <th>PAY_AMT2</th>\n",
       "      <th>PAY_AMT3</th>\n",
       "      <th>PAY_AMT4</th>\n",
       "      <th>PAY_AMT5</th>\n",
       "      <th>PAY_AMT6</th>\n",
       "      <th>default</th>\n",
       "    </tr>\n",
       "  </thead>\n",
       "  <tbody>\n",
       "    <tr>\n",
       "      <th>0</th>\n",
       "      <td>1</td>\n",
       "      <td>20000</td>\n",
       "      <td>2</td>\n",
       "      <td>2</td>\n",
       "      <td>1</td>\n",
       "      <td>24</td>\n",
       "      <td>2</td>\n",
       "      <td>2</td>\n",
       "      <td>0</td>\n",
       "      <td>0</td>\n",
       "      <td>...</td>\n",
       "      <td>0</td>\n",
       "      <td>0</td>\n",
       "      <td>0</td>\n",
       "      <td>0</td>\n",
       "      <td>689</td>\n",
       "      <td>0</td>\n",
       "      <td>0</td>\n",
       "      <td>0</td>\n",
       "      <td>0</td>\n",
       "      <td>1</td>\n",
       "    </tr>\n",
       "    <tr>\n",
       "      <th>1</th>\n",
       "      <td>2</td>\n",
       "      <td>120000</td>\n",
       "      <td>2</td>\n",
       "      <td>2</td>\n",
       "      <td>2</td>\n",
       "      <td>26</td>\n",
       "      <td>0</td>\n",
       "      <td>2</td>\n",
       "      <td>0</td>\n",
       "      <td>0</td>\n",
       "      <td>...</td>\n",
       "      <td>3272</td>\n",
       "      <td>3455</td>\n",
       "      <td>3261</td>\n",
       "      <td>0</td>\n",
       "      <td>1000</td>\n",
       "      <td>1000</td>\n",
       "      <td>1000</td>\n",
       "      <td>0</td>\n",
       "      <td>2000</td>\n",
       "      <td>1</td>\n",
       "    </tr>\n",
       "    <tr>\n",
       "      <th>2</th>\n",
       "      <td>3</td>\n",
       "      <td>90000</td>\n",
       "      <td>2</td>\n",
       "      <td>2</td>\n",
       "      <td>2</td>\n",
       "      <td>34</td>\n",
       "      <td>0</td>\n",
       "      <td>0</td>\n",
       "      <td>0</td>\n",
       "      <td>0</td>\n",
       "      <td>...</td>\n",
       "      <td>14331</td>\n",
       "      <td>14948</td>\n",
       "      <td>15549</td>\n",
       "      <td>1518</td>\n",
       "      <td>1500</td>\n",
       "      <td>1000</td>\n",
       "      <td>1000</td>\n",
       "      <td>1000</td>\n",
       "      <td>5000</td>\n",
       "      <td>0</td>\n",
       "    </tr>\n",
       "    <tr>\n",
       "      <th>3</th>\n",
       "      <td>4</td>\n",
       "      <td>50000</td>\n",
       "      <td>2</td>\n",
       "      <td>2</td>\n",
       "      <td>1</td>\n",
       "      <td>37</td>\n",
       "      <td>0</td>\n",
       "      <td>0</td>\n",
       "      <td>0</td>\n",
       "      <td>0</td>\n",
       "      <td>...</td>\n",
       "      <td>28314</td>\n",
       "      <td>28959</td>\n",
       "      <td>29547</td>\n",
       "      <td>2000</td>\n",
       "      <td>2019</td>\n",
       "      <td>1200</td>\n",
       "      <td>1100</td>\n",
       "      <td>1069</td>\n",
       "      <td>1000</td>\n",
       "      <td>0</td>\n",
       "    </tr>\n",
       "    <tr>\n",
       "      <th>4</th>\n",
       "      <td>5</td>\n",
       "      <td>50000</td>\n",
       "      <td>1</td>\n",
       "      <td>2</td>\n",
       "      <td>1</td>\n",
       "      <td>57</td>\n",
       "      <td>0</td>\n",
       "      <td>0</td>\n",
       "      <td>0</td>\n",
       "      <td>0</td>\n",
       "      <td>...</td>\n",
       "      <td>20940</td>\n",
       "      <td>19146</td>\n",
       "      <td>19131</td>\n",
       "      <td>2000</td>\n",
       "      <td>36681</td>\n",
       "      <td>10000</td>\n",
       "      <td>9000</td>\n",
       "      <td>689</td>\n",
       "      <td>679</td>\n",
       "      <td>0</td>\n",
       "    </tr>\n",
       "  </tbody>\n",
       "</table>\n",
       "<p>5 rows × 25 columns</p>\n",
       "</div>"
      ],
      "text/plain": [
       "   ID  LIMIT_BAL  SEX  EDUCATION  MARRIAGE  AGE  PAY_0  PAY_2  PAY_3  PAY_4  \\\n",
       "0   1      20000    2          2         1   24      2      2      0      0   \n",
       "1   2     120000    2          2         2   26      0      2      0      0   \n",
       "2   3      90000    2          2         2   34      0      0      0      0   \n",
       "3   4      50000    2          2         1   37      0      0      0      0   \n",
       "4   5      50000    1          2         1   57      0      0      0      0   \n",
       "\n",
       "    ...     BILL_AMT4  BILL_AMT5  BILL_AMT6  PAY_AMT1  PAY_AMT2  PAY_AMT3  \\\n",
       "0   ...             0          0          0         0       689         0   \n",
       "1   ...          3272       3455       3261         0      1000      1000   \n",
       "2   ...         14331      14948      15549      1518      1500      1000   \n",
       "3   ...         28314      28959      29547      2000      2019      1200   \n",
       "4   ...         20940      19146      19131      2000     36681     10000   \n",
       "\n",
       "   PAY_AMT4  PAY_AMT5  PAY_AMT6  default  \n",
       "0         0         0         0        1  \n",
       "1      1000         0      2000        1  \n",
       "2      1000      1000      5000        0  \n",
       "3      1100      1069      1000        0  \n",
       "4      9000       689       679        0  \n",
       "\n",
       "[5 rows x 25 columns]"
      ]
     },
     "execution_count": 3,
     "metadata": {},
     "output_type": "execute_result"
    }
   ],
   "source": [
    "# загружаем данные\n",
    "raw = pd.read_csv('credit_card_default_analysis.csv', sep=',', header=0)\n",
    "\n",
    "# смотрим на данные\n",
    "raw.head()"
   ]
  },
  {
   "cell_type": "markdown",
   "metadata": {},
   "source": [
    "## Задание 1. Размер кредитного лимита (LIMIT_BAL)"
   ]
  },
  {
   "cell_type": "markdown",
   "metadata": {},
   "source": [
    "Размер кредитного лимита (LIMIT_BAL). В двух группах, тех людей, кто вернул кредит (default = 0) и тех, кто его не вернул (default = 1) \n",
    "\n",
    "проверьте гипотезы: \n",
    "\n",
    "a) о равенстве медианных значений кредитного лимита с помощью подходящей интервальной оценки \n",
    "\n",
    "b) о равенстве распределений с помощью одного из подходящих непараметрических критериев проверки равенства средних. Значимы ли полученные результаты с практической точки зрения ?"
   ]
  },
  {
   "cell_type": "markdown",
   "metadata": {},
   "source": [
    "### 1.0 Визуализация данных"
   ]
  },
  {
   "cell_type": "code",
   "execution_count": 4,
   "metadata": {},
   "outputs": [
    {
     "data": {
      "image/png": "[encoded data removed]",
      "text/plain": [
       "<matplotlib.figure.Figure at 0xaf7e330>"
      ]
     },
     "metadata": {},
     "output_type": "display_data"
    }
   ],
   "source": [
    "# разобъём данные о кредитном лимите на две подгруппы по признаку default\n",
    "lim_0 = raw['LIMIT_BAL'][raw['default'] == 0]\n",
    "lim_1 = raw['LIMIT_BAL'][raw['default'] == 1]\n",
    "\n",
    "# визуализируем данные\n",
    "plt.plot(np.sort(lim_0), 'g', label = 'default = 0')\n",
    "plt.plot(np.sort(lim_1), 'r', label = 'default = 1')\n",
    "plt.xlabel(u'количество выданных кредитов, ед.')\n",
    "plt.ylabel(u'кредитный лимит, руб.')\n",
    "plt.title(u'\\nВзаимосвязь количества выданных кредитов с размером кредитного лимита\\n по критерию default\\n', fontsize=14)\n",
    "plt.legend()\n",
    "plt.show()"
   ]
  },
  {
   "cell_type": "code",
   "execution_count": 31,
   "metadata": {},
   "outputs": [
    {
     "data": {
      "image/png": "[encoded data removed]",
      "text/plain": [
       "<matplotlib.figure.Figure at 0x1d332860>"
      ]
     },
     "metadata": {},
     "output_type": "display_data"
    }
   ],
   "source": [
    "# построим гистограммы признака credit_bal по критерию default\n",
    "pylab.hist(lim_0, bins=20, color='g', label = 'default = 0')\n",
    "pylab.xlabel('default = 0')\n",
    "pylab.hist(lim_1, bins=20, color='r', label = 'default = 1')\n",
    "pylab.xlabel('default = 1')\n",
    "plt.xlabel(u'количество выданных кредитов, ед.')\n",
    "plt.ylabel(u'кредитный лимит, руб.')\n",
    "plt.title(u'\\nВзаимосвязь количества выданных кредитов с размером кредитного лимита\\n по критерию default\\n', fontsize=14)\n",
    "plt.legend()\n",
    "plt.show()"
   ]
  },
  {
   "cell_type": "code",
   "execution_count": 29,
   "metadata": {
    "scrolled": false
   },
   "outputs": [
    {
     "name": "stdout",
     "output_type": "stream",
     "text": [
      "\n",
      "Основные статистики кредитного лимита по вернувшим кредит (default = 0)\n",
      "\n",
      "count      23364.000000\n",
      "mean      178099.726074\n",
      "std       131628.359660\n",
      "min        10000.000000\n",
      "25%        70000.000000\n",
      "50%       150000.000000\n",
      "75%       250000.000000\n",
      "max      1000000.000000\n",
      "Name: LIMIT_BAL, dtype: float64\n",
      "\n",
      "Основные статистики кредитного лимита по невернувшим кредит (default = 1)\n",
      "\n",
      "count      6636.000000\n",
      "mean     130109.656420\n",
      "std      115378.540571\n",
      "min       10000.000000\n",
      "25%       50000.000000\n",
      "50%       90000.000000\n",
      "75%      200000.000000\n",
      "max      740000.000000\n",
      "Name: LIMIT_BAL, dtype: float64\n"
     ]
    }
   ],
   "source": [
    "# выведем основные статистики по подгруппам вернувших и невернувших кредиты\n",
    "print '\\nОсновные статистики кредитного лимита по вернувшим кредит (default = 0)\\n'.format(fontsize=14)\n",
    "print(lim_0.describe())\n",
    "print '\\nОсновные статистики кредитного лимита по невернувшим кредит (default = 1)\\n'.format(fontsize=14)\n",
    "print(lim_1.describe())"
   ]
  },
  {
   "cell_type": "markdown",
   "metadata": {},
   "source": [
    "### Интерпретация визуализации данных:\n",
    "Изучив графики и статистики, можно сказать, что две подгруппы имеют заметные отличия. Подргуппа, не вернувшая кредиты, меньше по численности. Также меньше все основные статистики: средний (матожидание), максимальный (мода) и медианный размер кредитного лимита.\n",
    "\n",
    "Однако, обе группы включают большой диапазон значений кредитного лимита, хотя и смещённый в меньшую сторону для группы, не вернувшей кредит. "
   ]
  },
  {
   "cell_type": "markdown",
   "metadata": {},
   "source": [
    "### 1.1. Проверяем гипотезу о равенстве медианных значений."
   ]
  },
  {
   "cell_type": "markdown",
   "metadata": {
    "collapsed": true
   },
   "source": [
    "проверим нормальность распределений в выборках, чтобы определить, можем ли мы использовать критерий Стьюдента"
   ]
  },
  {
   "cell_type": "code",
   "execution_count": 72,
   "metadata": {
    "scrolled": true
   },
   "outputs": [
    {
     "data": {
      "image/png": "[encoded data removed]",
      "text/plain": [
       "<matplotlib.figure.Figure at 0x1d647eb8>"
      ]
     },
     "metadata": {},
     "output_type": "display_data"
    }
   ],
   "source": [
    "pylab.figure(figsize=(12,8))\n",
    "pylab.suptitle(u'Проверка нормальности распределений кредитного лимита',\n",
    "              fontsize=16)\n",
    "pylab.subplot(2,2,1)\n",
    "stats.probplot(lim_0, dist='norm', plot=pylab)\n",
    "pylab.subplot(2,2,2)\n",
    "stats.probplot(lim_1, dist='norm', plot=pylab)\n",
    "pylab.show()"
   ]
  },
  {
   "cell_type": "markdown",
   "metadata": {},
   "source": [
    "в обоих подгруппах распределения отличаются от нормального. Проверим критерием Шапиро-Уилка:\n",
    "\n",
    "$H_0\\colon$ распределение размеров кредитных лимитов получено из нормального распределения\n",
    "\n",
    "$H_1\\colon$ не из нормального"
   ]
  },
  {
   "cell_type": "code",
   "execution_count": 10,
   "metadata": {},
   "outputs": [
    {
     "name": "stdout",
     "output_type": "stream",
     "text": [
      "Результаты теста Шапиро-Уилка для подгрупп по уровню кредитного лимита:\n",
      "\n",
      "default=0, W-stat: 0.919726, p-value: 0.000000\n",
      "default=1, W-stat: 0.854983, p-value: 0.000000\n"
     ]
    }
   ],
   "source": [
    "print u'Результаты теста Шапиро-Уилка для подгрупп по уровню кредитного лимита:\\n'\n",
    "print u'default=0, W-stat: %f, p-value: %f' % stats.shapiro(lim_0)\n",
    "print u'default=1, W-stat: %f, p-value: %f' % stats.shapiro(lim_1)\n",
    " "
   ]
  },
  {
   "cell_type": "markdown",
   "metadata": {},
   "source": [
    "Гипотеза о нормальности распределения подвыборок отвергается в пользу альтернативы об отличии распределенй от нормального, с очень низким значением p-value.\n",
    "\n",
    "Следовательно, мы не можем применять криерий Стьюдента. Так как мы ничего не знаем о распределении, будем применять непараметрические критерии."
   ]
  },
  {
   "cell_type": "markdown",
   "metadata": {},
   "source": [
    "Выполним интервальную оценку средних"
   ]
  },
  {
   "cell_type": "markdown",
   "metadata": {},
   "source": [
    "### a. Интервальная оценка разности медиан"
   ]
  },
  {
   "cell_type": "code",
   "execution_count": 5,
   "metadata": {
    "collapsed": true
   },
   "outputs": [],
   "source": [
    "def get_bootstrap_samples(data, n_samples):\n",
    "    indices = np.random.randint(0, len(data), (n_samples, len(data)))\n",
    "    samples = data[indices]\n",
    "    return samples\n",
    "\n",
    "def stat_intervals(stat, alpha):\n",
    "    boundaries = np.percentile(stat, [100 * alpha / 2., 100 * (1 - alpha / 2.)])\n",
    "    return boundaries"
   ]
  },
  {
   "cell_type": "code",
   "execution_count": 6,
   "metadata": {
    "scrolled": true
   },
   "outputs": [
    {
     "name": "stdout",
     "output_type": "stream",
     "text": [
      "\n",
      "95% доверительный интервал для медианы кредитного лимита при def=0:\n",
      "[ 150000.  150000.]\n",
      "\n",
      "95% доверительный интервал для медианы кредитного лимита при def=1:\n",
      "[ 80000.  90000.]\n",
      "95% доверительный интервал для разности медиан:  [ 60000.  70000.]\n"
     ]
    }
   ],
   "source": [
    "np.random.seed(0)\n",
    "\n",
    "lim_0_median = map(np.median, get_bootstrap_samples(lim_0.values, 1000))\n",
    "lim_1_median = map(np.median, get_bootstrap_samples(lim_1.values, 1000))\n",
    "\n",
    "print '\\n95% доверительный интервал для медианы кредитного лимита при def=0:'\n",
    "print stat_intervals(lim_0_median, 0.05)\n",
    "print '\\n95% доверительный интервал для медианы кредитного лимита при def=1:'\n",
    "print stat_intervals(lim_1_median, 0.05)\n",
    "\n",
    "delta_median_score = map(lambda x: x[0] - x[1], zip(lim_0_median,\n",
    "                                                   lim_1_median))\n",
    "\n",
    "print '95% доверительный интервал для разности медиан: ', stat_intervals(delta_median_score,\n",
    "                                                                        0.05)"
   ]
  },
  {
   "cell_type": "markdown",
   "metadata": {},
   "source": [
    "Интервальная оценка разности медиан не содержит ноль. Так что гипотеза о равенстве медиан отвергается на уровнезначимости 0.05"
   ]
  },
  {
   "cell_type": "markdown",
   "metadata": {},
   "source": [
    "### b. Оценка разности медиан непараметрическим критерием\n",
    "\n",
    "так как выборки независимые, будем использовать непараметрический критерий Манна-Уитни и перестановочный критерий для независимых выборок"
   ]
  },
  {
   "cell_type": "markdown",
   "metadata": {},
   "source": [
    "#### критерий Манна-Уитни"
   ]
  },
  {
   "cell_type": "markdown",
   "metadata": {},
   "source": [
    "$H_0\\colon F_{X_1}(x) = F_{X_2}(x)$\n",
    "\n",
    "$H_1\\colon F_{X_1}(x) = F_{X_2}(x + \\Delta), \\Delta\\neq 0$"
   ]
  },
  {
   "cell_type": "code",
   "execution_count": 17,
   "metadata": {
    "scrolled": true
   },
   "outputs": [
    {
     "data": {
      "text/plain": [
       "MannwhitneyuResult(statistic=59257217.5, pvalue=6.1277429091116516e-190)"
      ]
     },
     "execution_count": 17,
     "metadata": {},
     "output_type": "execute_result"
    }
   ],
   "source": [
    "stats.mannwhitneyu(lim_0.values, lim_1.values)"
   ]
  },
  {
   "cell_type": "markdown",
   "metadata": {},
   "source": [
    "Критерием Манна-Уитни гипотеза о равенстве распределений на уровне значимости $\\alpha = 0.05$ не отвергается.\n",
    "Однако, данный результат вряд ли значим с практической точки зрения."
   ]
  },
  {
   "cell_type": "markdown",
   "metadata": {},
   "source": [
    "#### Перестановочный критерий для независимых выборок"
   ]
  },
  {
   "cell_type": "markdown",
   "metadata": {},
   "source": [
    "$H_0\\colon F_{X_1}(x) = F_{X_2}(x)$\n",
    "\n",
    "$H_0\\colon F_{X_2}(x) = F_{X_2}(x + \\Delta),  \\Delta\\neq 0$\n",
    "\n",
    "Рассматриваем против двусторонней альтернативы, так как уже видели данные."
   ]
  },
  {
   "cell_type": "code",
   "execution_count": 20,
   "metadata": {
    "collapsed": true
   },
   "outputs": [],
   "source": [
    "def permutation_t_stat_ind(sample1, sample2):\n",
    "    return np.mean(sample1) - np.mean(sample2)\n",
    "\n",
    "def get_random_combinations(n1, n2, max_combinations):\n",
    "    index = range(n1 + n2)\n",
    "    indices = set([tuple(index)])\n",
    "    for i in range(max_combinations - 1):\n",
    "        np.random.shuffle(index)\n",
    "        indices.add(tuple(index))\n",
    "    return [(index[:n1], index[n1:]) for index in indices]\n",
    "\n",
    "def permutation_zero_dist_ind(sample1, sample2, max_combinations = None):\n",
    "    joined_sample = np.hstack((sample1, sample2))\n",
    "    n1 = len(sample1)\n",
    "    n = len(joined_sample)\n",
    "    \n",
    "    if max_combinations:\n",
    "        indices = get_random_combinations(n1, len(sample2), max_combinations)\n",
    "    else:\n",
    "        indices = [(list(index), filter(lambda i: i not in index, range(n))) \\\n",
    "                    for index in itertools.combinations(range(n), n1)]\n",
    "    \n",
    "    distr = [joined_sample[list(i[0])].mean() - joined_sample[list(i[1])].mean() \\\n",
    "             for i in indices]\n",
    "    return distr\n",
    "\n",
    "def permutation_test(sample, mean, max_permutations = None, alternative = 'two-sided'):\n",
    "    if alternative not in ('two-sided', 'less', 'greater'):\n",
    "        raise ValueError(\"alternative not recognized\\n\"\n",
    "                         \"should be 'two-sided', 'less' or 'greater'\")\n",
    "    \n",
    "    t_stat = permutation_t_stat_ind(sample, mean)\n",
    "    \n",
    "    zero_distr = permutation_zero_dist_ind(sample, mean, max_permutations)\n",
    "    \n",
    "    if alternative == 'two-sided':\n",
    "        return sum([1. if abs(x) >= abs(t_stat) else 0. for x in zero_distr]) / len(zero_distr)\n",
    "    \n",
    "    if alternative == 'less':\n",
    "        return sum([1. if x <= t_stat else 0. for x in zero_distr]) / len(zero_distr)\n",
    "\n",
    "    if alternative == 'greater':\n",
    "        return sum([1. if x >= t_stat else 0. for x in zero_distr]) / len(zero_distr)"
   ]
  },
  {
   "cell_type": "code",
   "execution_count": 21,
   "metadata": {
    "scrolled": true
   },
   "outputs": [
    {
     "name": "stdout",
     "output_type": "stream",
     "text": [
      "p-value: 0.000100\n"
     ]
    }
   ],
   "source": [
    "print 'p-value: %f' % permutation_test(lim_0.values, lim_1.values,\n",
    "                                      max_permutations = 10000)"
   ]
  },
  {
   "cell_type": "markdown",
   "metadata": {},
   "source": [
    "Гипотеза о равенстве распределений перестановочным критерием уверенно отвергается на уровне значимости $\\alpha = 0.05$, с достигаемым уровнем значимости $p = 0.0001$"
   ]
  },
  {
   "cell_type": "markdown",
   "metadata": {},
   "source": [
    "### Выводы по 1 заданию:\n",
    "\n",
    "Интервальная оценка и перестановочный критерий опровергли гипотезу о равенстве медиан распределений, отражающих размер кредитного лимита для людей, вернувших кредит и не вернувших кредит.\n",
    "\n",
    "Медиана кредитного лимита для людей, не возвращающих кредит, меньше на 60-70 тысяч."
   ]
  },
  {
   "cell_type": "markdown",
   "metadata": {},
   "source": [
    "# Задание 2. Пол (SEX) \n",
    "\n",
    "Пол (SEX): Проверьте гипотезу о том, что гендерный состав группы людей вернувших и не вернувших кредит отличается. Хорошо, если вы предоставите несколько различных решений этой задачи (с помощью доверительного интервала и подходящего статистического критерия)"
   ]
  },
  {
   "cell_type": "code",
   "execution_count": 43,
   "metadata": {},
   "outputs": [
    {
     "data": {
      "image/png": "[encoded data removed]",
      "text/plain": [
       "<matplotlib.figure.Figure at 0x1baed550>"
      ]
     },
     "metadata": {},
     "output_type": "display_data"
    }
   ],
   "source": [
    "# получим данные\n",
    "sex_0 = raw.SEX[raw.default == 0].values # пол вернувших кредит\n",
    "sex_1 = raw.SEX[raw.default == 1].values # пол невернувших кредит\n",
    "\n",
    "# посмотрим на данные\n",
    "plt.title(u'Статус кредита в зависимости от пола\\n')\n",
    "plt.hist(sex_0, color = 'g', label = 'default = 0')\n",
    "plt.hist(sex_1, color = 'r', label = 'default = 1')\n",
    "plt.xlabel(u'1 - муж., 2 - жен.')\n",
    "plt.ylabel(u'Кол-во кредитов')\n",
    "plt.legend()\n",
    "plt.show()"
   ]
  },
  {
   "cell_type": "markdown",
   "metadata": {},
   "source": [
    "Основываясь на гистограммах можно сделать вывод, что мужчины вцелом либо реже берут кредиты, либо им их реже одобряют, и вероятность невозврата для них несколько выше. Примерно 30%. Для женщин примерно 25%\n",
    "\n",
    "Проверим это программно."
   ]
  },
  {
   "cell_type": "markdown",
   "metadata": {},
   "source": [
    "## a. Проверка на основе доверительных интервалов"
   ]
  },
  {
   "cell_type": "markdown",
   "metadata": {},
   "source": [
    "Гипотеза $H_0\\colon$ гендерный состав в подгруппах отличается\n",
    "\n",
    "Альтернатива $H_1\\colon$ гендерный состав не отличается\n",
    "\n",
    "Критерий: доверительный интервал для разности долей в независимых выборках\n",
    "\n",
    "Условия применимости критерия: бинарные независимые выборки"
   ]
  },
  {
   "cell_type": "markdown",
   "metadata": {},
   "source": [
    "для реализации доверительного интервала для двух долей преобразуем данные в бинарные:\n",
    "    \n",
    "1 в 0; 2 в 1"
   ]
  },
  {
   "cell_type": "code",
   "execution_count": 44,
   "metadata": {
    "scrolled": true
   },
   "outputs": [
    {
     "name": "stdout",
     "output_type": "stream",
     "text": [
      "доверительный интервал: [0.033635, 0.060548]\n"
     ]
    }
   ],
   "source": [
    "# преобразуем данные в бинарные\n",
    "sex_0 = raw.SEX[raw.default == 0].values - 1\n",
    "sex_1 = raw.SEX[raw.default == 1].values - 1\n",
    "\n",
    "# рассчитаем доверительный интервал для разности долей в независимых выборках\n",
    "def proportions_confint_diff_ind(sample1, sample2, alpha = 0.05):    \n",
    "    z = scipy.stats.norm.ppf(1 - alpha / 2.)   \n",
    "    p1 = float(sum(sample1)) / len(sample1)\n",
    "    p2 = float(sum(sample2)) / len(sample2)\n",
    "    \n",
    "    left_boundary = (p1 - p2) - z * np.sqrt(p1 * (1 - p1)/ len(sample1) + p2 * (1 - p2)/ len(sample2))\n",
    "    right_boundary = (p1 - p2) + z * np.sqrt(p1 * (1 - p1)/ len(sample1) + p2 * (1 - p2)/ len(sample2))\n",
    "    \n",
    "    return (left_boundary, right_boundary)\n",
    "\n",
    "print u'доверительный интервал: [%f, %f]' % proportions_confint_diff_ind(sex_0,\n",
    "                                                                        sex_1,\n",
    "                                                                        alpha=0.05)"
   ]
  },
  {
   "cell_type": "markdown",
   "metadata": {},
   "source": [
    "Доверительный интервал для разности долей не содержит 0, следовательно гипотеза об отличиях в гендерных группах не отвергается на уровне значимости 0.05\n",
    "\n",
    "Однако, не ясно является ли это отличие практически значимым."
   ]
  },
  {
   "cell_type": "markdown",
   "metadata": {},
   "source": [
    "# b. Проверка с помощью z-критерия для двух независимых выборок"
   ]
  },
  {
   "cell_type": "markdown",
   "metadata": {},
   "source": [
    "Гипотеза $H_0\\colon$ гендерное распределение одинаково в группах вернувших и невернувших кредит\n",
    "\n",
    "Альтернатива $H_1\\colon$ гендерное распределение отличается (двусторонняя альтернатива).\n",
    "\n",
    "Критерий: Z-критерий для доли для двух независимых выборок\n",
    "\n",
    "Условия применимости критерия: бинарные независимые выборки"
   ]
  },
  {
   "cell_type": "code",
   "execution_count": 49,
   "metadata": {
    "collapsed": true
   },
   "outputs": [],
   "source": [
    "def proportions_diff_confint_ind(sample1, sample2, alpha = 0.05):    \n",
    "    z = scipy.stats.norm.ppf(1 - alpha / 2.)\n",
    "    \n",
    "    p1 = float(sum(sample1)) / len(sample1)\n",
    "    p2 = float(sum(sample2)) / len(sample2)\n",
    "    \n",
    "    left_boundary = (p1 - p2) - z * np.sqrt(p1 * (1 - p1)/ len(sample1) + p2 * (1 - p2)/ len(sample2))\n",
    "    right_boundary = (p1 - p2) + z * np.sqrt(p1 * (1 - p1)/ len(sample1) + p2 * (1 - p2)/ len(sample2))\n",
    "    \n",
    "    return (left_boundary, right_boundary)\n",
    "\n",
    "def proportions_diff_z_stat_ind(sample1, sample2):\n",
    "    n1 = len(sample1)\n",
    "    n2 = len(sample2)\n",
    "    \n",
    "    p1 = float(sum(sample1)) / n1\n",
    "    p2 = float(sum(sample2)) / n2 \n",
    "    P = float(p1*n1 + p2*n2) / (n1 + n2)\n",
    "    \n",
    "    return (p1 - p2) / np.sqrt(P * (1 - P) * (1. / n1 + 1. / n2))\n",
    "\n",
    "def proportions_diff_z_test(z_stat, alternative = 'two-sided'):\n",
    "    if alternative not in ('two-sided', 'less', 'greater'):\n",
    "        raise ValueError(\"alternative not recognized\\n\"\n",
    "                         \"should be 'two-sided', 'less' or 'greater'\")\n",
    "    \n",
    "    if alternative == 'two-sided':\n",
    "        return 2 * (1 - scipy.stats.norm.cdf(np.abs(z_stat)))\n",
    "    \n",
    "    if alternative == 'less':\n",
    "        return scipy.stats.norm.cdf(z_stat)\n",
    "\n",
    "    if alternative == 'greater':\n",
    "        return 1 - scipy.stats.norm.cdf(z_stat)"
   ]
  },
  {
   "cell_type": "code",
   "execution_count": 50,
   "metadata": {
    "scrolled": true
   },
   "outputs": [
    {
     "name": "stdout",
     "output_type": "stream",
     "text": [
      "95% доверительный интервал для разности долей:\n",
      "(0.033634932749628671, 0.060548077974896725)\n",
      "\n",
      "p-value для двусторонней альтернативы:\n",
      "4.47286652161e-12\n"
     ]
    }
   ],
   "source": [
    "print '95% доверительный интервал для разности долей:' \n",
    "print proportions_diff_confint_ind(sex_0, sex_1)\n",
    "print '\\np-value для двусторонней альтернативы:'\n",
    "print proportions_diff_z_test(proportions_diff_z_stat_ind(sex_0, sex_1))"
   ]
  },
  {
   "cell_type": "markdown",
   "metadata": {},
   "source": [
    "Нулевая гипотеза о равенстве распределений уверенно отвергается в пользу альтернативы о не равенстве"
   ]
  },
  {
   "cell_type": "markdown",
   "metadata": {},
   "source": [
    "# с. Проверка корреляции между полом и возвратом кредита"
   ]
  },
  {
   "cell_type": "markdown",
   "metadata": {},
   "source": [
    "Проверим с помощью корреляции Мэтьюса связаны ли пол и возврат кредита.\n",
    "Корреляция Мэтьюса имеет ряд ограничений на применение:\n",
    "- объём выборки $n \\geq 40$\n",
    "- ожидаемое количество элементов в каждой ячейке таблицы сопряженности\n",
    "меньше $5 \\big( \\frac{n_{i+}n_{+j}}{n} < 5 \\big)$, не более чем в 20% ячеек.\n",
    "\n",
    "Первое условие выполнено: мы знаем, что объём выборки значительно больше 40.\n",
    "Второе условие проверим программно в следующей ячейке."
   ]
  },
  {
   "cell_type": "code",
   "execution_count": 52,
   "metadata": {},
   "outputs": [
    {
     "name": "stdout",
     "output_type": "stream",
     "text": [
      "Второе условие применения корреляции Мэтьюса выполнено\n",
      "Коэффициент корреляции Мэтьюса между полом и возвратом кредита: 0.039961\n"
     ]
    }
   ],
   "source": [
    "# заполним таблицу сопряженности\n",
    "# после преобразования данных 0 - муж., 1 - жен.\n",
    "\n",
    "a = float(sum(sex_0)) # - женщины, вернувшие кредит\n",
    "b = float(sum(sex_1)) # - женщины, не вернувшие кредит\n",
    "c = float(len(sex_0) - sum(sex_0)) # - мужчины, верувшие кредит\n",
    "d = float(len(sex_1) - sum(sex_1)) # - мужчины, не вернувшие кредит\n",
    "\n",
    "# проверим выполнение второго условия применения корреляции Мэтьюса:\n",
    "ct = [a, b, c, d]\n",
    "\n",
    "er = 0\n",
    "for x in ct:\n",
    "    if x < 5:\n",
    "        er += 1\n",
    "    else:\n",
    "        pass\n",
    "if er > 0.2 * (len(ct)):\n",
    "    raise ValueError('violation of second reqirement to use MCC')\n",
    "else:\n",
    "    print 'Второе условие применения корреляции Мэтьюса выполнено'\n",
    "    \n",
    "# рассчитаем корреляцию Мэтьюса\n",
    "mcc = ((a*d)-(b*c)) / np.sqrt((a+b)*(a+c)*(d+b)*(d+c))\n",
    "print 'Коэффициент корреляции Мэтьюса между полом и возвратом кредита: %f' % mcc"
   ]
  },
  {
   "cell_type": "markdown",
   "metadata": {},
   "source": [
    "Коэффициент Мэтьюса показывает корреляцию около 4% между полом и возвратом либо не возвратом кредита"
   ]
  },
  {
   "cell_type": "markdown",
   "metadata": {},
   "source": [
    "### Вывод по 2 заданию:\n",
    "\n",
    "Ни один из проведённых тестов не опроверг гипотезу о гендерном различии между группой, вернувшией кредит, и группой, невернувшей кредит.\n",
    "\n",
    "Следовательно, пол оказывает влияние на вероятность возврата кредита"
   ]
  },
  {
   "cell_type": "markdown",
   "metadata": {},
   "source": [
    "# Задание 3. Образование (EDUCATION)\n",
    "\n",
    "Проверьте гипотезу о том, что образование не влияет на то, вернет ли человек долг. Предложите способ наглядного представления разницы в ожидаемых и наблюдаемых значениях количества человек вернувших и не вернувших долг. Например, составьте таблицу сопряженности \"образование\" на \"возврат долга\", где значением ячейки была бы разность между наблюдаемым и ожидаемым количеством человек. Как бы вы предложили модифицировать таблицу так, чтобы привести значения ячеек к одному масштабу не потеряв в интерпретируемости ? Наличие какого образования является наилучшим индикатором того, что человек отдаст долг ? наоборт, не отдаст долг ?"
   ]
  },
  {
   "cell_type": "code",
   "execution_count": 37,
   "metadata": {},
   "outputs": [
    {
     "data": {
      "image/png": "[encoded data removed]",
      "text/plain": [
       "<matplotlib.figure.Figure at 0x1daac940>"
      ]
     },
     "metadata": {},
     "output_type": "display_data"
    },
    {
     "data": {
      "image/png": "[encoded data removed]",
      "text/plain": [
       "<matplotlib.figure.Figure at 0x1d7b05f8>"
      ]
     },
     "metadata": {},
     "output_type": "display_data"
    },
    {
     "data": {
      "image/png": "[encoded data removed]",
      "text/plain": [
       "<matplotlib.figure.Figure at 0x1da9ef98>"
      ]
     },
     "metadata": {},
     "output_type": "display_data"
    }
   ],
   "source": [
    "# загрузим данные\n",
    "\n",
    "edu_0 = raw.EDUCATION[raw.default == 0].values\n",
    "edu_1 = raw.EDUCATION[raw.default == 1].values\n",
    "\n",
    "\n",
    "# посмотрим на данные\n",
    "\n",
    "plt.hist(edu_0, color='g')\n",
    "plt.title(u'Количество возвращенных кредитов по критерию образования\\n')\n",
    "plt.show()\n",
    "\n",
    "plt.hist(edu_1, color='r')\n",
    "plt.title(u'Количество невозвращенных кредитов по критерию образования\\n')\n",
    "plt.show()\n",
    "\n",
    "plt.hist(edu_0, color='g', label = 'default = 0')\n",
    "plt.hist(edu_1, color='r', label = 'default = 1')\n",
    "plt.title(u'Отношение возврат\\невозврат по типам образования\\n')\n",
    "plt.legend()\n",
    "plt.xlabel(u'Значение критерия \"образование\"')\n",
    "plt.ylabel(u'Кол-во кредитов')\n",
    "plt.show()"
   ]
  },
  {
   "cell_type": "markdown",
   "metadata": {},
   "source": [
    "Интересно, распределения в обеих группах очень похожи. Определённо, больше всего кредитов возвращается и не возвращается людьми с уровнем образования \"бакалавр\". Однако, визуальный анализ графиков не даёт представления о том, связан ли уровень образования с вероятностью невозврата кредита. Определённо можно сказать, что все люди с уровнем образования \"доктор\" вернули кредиты, так как столбец 0 отсутствует в графике невозвращенных кредитов."
   ]
  },
  {
   "cell_type": "markdown",
   "metadata": {},
   "source": [
    "Проверим гипотезу.\n",
    "\n",
    "Гипотеза $Н_0\\colon$ образование не влияет на верноятность возврата/невозврата кредита. Разница средних равна 0\n",
    "\n",
    "Альтернатива $H_1\\colon$ образование влияет на возврат/невозврат кредита.\n",
    "\n",
    "Критерий: хи-квадрат, коэффициент V Крамера.\n",
    "\n",
    "Условия применимости критерия:\n",
    "\n",
    "- объём выборки $n \\geq 40$\n",
    "- ожидаемое количество элементов в каждой ячейке таблицы сопряженности\n",
    "меньше $5 \\big( \\frac{n_{i+}n_{+j}}{n} < 5 \\big)$, не более чем в 20% ячеек.\n",
    "\n",
    "Для проверки корректности применения критерия V Крамера построим таблицу сопряженности признаков EDUCATION/default"
   ]
  },
  {
   "cell_type": "code",
   "execution_count": 98,
   "metadata": {},
   "outputs": [
    {
     "data": {
      "text/html": [
       "<div>\n",
       "<style>\n",
       "    .dataframe thead tr:only-child th {\n",
       "        text-align: right;\n",
       "    }\n",
       "\n",
       "    .dataframe thead th {\n",
       "        text-align: left;\n",
       "    }\n",
       "\n",
       "    .dataframe tbody tr th {\n",
       "        vertical-align: top;\n",
       "    }\n",
       "</style>\n",
       "<table border=\"1\" class=\"dataframe\">\n",
       "  <thead>\n",
       "    <tr style=\"text-align: right;\">\n",
       "      <th></th>\n",
       "      <th>edu_lvl</th>\n",
       "      <th>def_0_observ</th>\n",
       "      <th>def_1_observ</th>\n",
       "    </tr>\n",
       "  </thead>\n",
       "  <tbody>\n",
       "    <tr>\n",
       "      <th>0</th>\n",
       "      <td>PhD</td>\n",
       "      <td>14.0</td>\n",
       "      <td>0.0</td>\n",
       "    </tr>\n",
       "    <tr>\n",
       "      <th>1</th>\n",
       "      <td>MS</td>\n",
       "      <td>8549.0</td>\n",
       "      <td>2036.0</td>\n",
       "    </tr>\n",
       "    <tr>\n",
       "      <th>2</th>\n",
       "      <td>Ba</td>\n",
       "      <td>10700.0</td>\n",
       "      <td>3330.0</td>\n",
       "    </tr>\n",
       "    <tr>\n",
       "      <th>3</th>\n",
       "      <td>Sch</td>\n",
       "      <td>3680.0</td>\n",
       "      <td>1237.0</td>\n",
       "    </tr>\n",
       "    <tr>\n",
       "      <th>4</th>\n",
       "      <td>basic</td>\n",
       "      <td>116.0</td>\n",
       "      <td>7.0</td>\n",
       "    </tr>\n",
       "    <tr>\n",
       "      <th>5</th>\n",
       "      <td>other</td>\n",
       "      <td>262.0</td>\n",
       "      <td>18.0</td>\n",
       "    </tr>\n",
       "    <tr>\n",
       "      <th>6</th>\n",
       "      <td>NaN</td>\n",
       "      <td>43.0</td>\n",
       "      <td>8.0</td>\n",
       "    </tr>\n",
       "  </tbody>\n",
       "</table>\n",
       "</div>"
      ],
      "text/plain": [
       "  edu_lvl  def_0_observ  def_1_observ\n",
       "0     PhD          14.0           0.0\n",
       "1      MS        8549.0        2036.0\n",
       "2      Ba       10700.0        3330.0\n",
       "3     Sch        3680.0        1237.0\n",
       "4   basic         116.0           7.0\n",
       "5   other         262.0          18.0\n",
       "6     NaN          43.0           8.0"
      ]
     },
     "execution_count": 98,
     "metadata": {},
     "output_type": "execute_result"
    }
   ],
   "source": [
    "# cоздадим таблицу сопряженности тип образования/возврат кредита\n",
    "edu = pd.DataFrame()\n",
    "# значения критерия образование\n",
    "edu['edu_lvl'] = ['PhD', 'MS', 'Ba', 'Sch', 'basic', 'other', 'NaN']\n",
    "\n",
    "edu['def_0_observ'] = map(lambda x: float(len(edu_0[edu_0 == x])),\n",
    "                          range(7)) # вернули кредит, наблюдаемые значения\n",
    "edu['def_1_observ'] = map(lambda x: float(len(edu_1[edu_1 == x])),\n",
    "                          range(7)) # невернули кредит, наблюдаемые значения\n",
    "\n",
    "edu # посмотрим на таблицу на предмет количества ячеек со значениями меньше 5"
   ]
  },
  {
   "cell_type": "code",
   "execution_count": 96,
   "metadata": {},
   "outputs": [
    {
     "name": "stdout",
     "output_type": "stream",
     "text": [
      "(163.21655786997073, 1.2332626245415605e-32, 6L, array([[  1.09032000e+01,   3.09680000e+00],\n",
      "       [  8.24359800e+03,   2.34140200e+03],\n",
      "       [  1.09265640e+04,   3.10343600e+03],\n",
      "       [  3.82935960e+03,   1.08764040e+03],\n",
      "       [  9.57924000e+01,   2.72076000e+01],\n",
      "       [  2.18064000e+02,   6.19360000e+01],\n",
      "       [  3.97188000e+01,   1.12812000e+01]]))\n",
      "\n",
      "Коэффициент корреляции V Крамера для признаков education / default: 0.073760\n"
     ]
    }
   ],
   "source": [
    "# выделим данные для расчета критерия\n",
    "data = map(lambda x: [edu['def_0_observ'].values[x], edu['def_1_observ'].values[x]],\n",
    "                      range(len(edu)))\n",
    "\n",
    "# создадим распределение хи-квадрат\n",
    "res = stats.chi2_contingency(data)\n",
    "\n",
    "# посмотрим на параметры полученного распределения\n",
    "print res\n",
    "\n",
    "chi2 = res[0] # значение статистики хи-квадрат для таблицы сопряженности\n",
    "\n",
    "# рассчитаем критерий\n",
    "phi_c = np.sqrt(chi2 / (np.sum(data) * (np.min([len(data), len(data[0])]) - 1)))\n",
    "\n",
    "print u'\\nКоэффициент корреляции V Крамера для признаков education / default: %f' % phi_c"
   ]
  },
  {
   "cell_type": "code",
   "execution_count": 99,
   "metadata": {},
   "outputs": [
    {
     "data": {
      "text/html": [
       "<div>\n",
       "<style>\n",
       "    .dataframe thead tr:only-child th {\n",
       "        text-align: right;\n",
       "    }\n",
       "\n",
       "    .dataframe thead th {\n",
       "        text-align: left;\n",
       "    }\n",
       "\n",
       "    .dataframe tbody tr th {\n",
       "        vertical-align: top;\n",
       "    }\n",
       "</style>\n",
       "<table border=\"1\" class=\"dataframe\">\n",
       "  <thead>\n",
       "    <tr style=\"text-align: right;\">\n",
       "      <th></th>\n",
       "      <th>edu_lvl</th>\n",
       "      <th>def_0_observ</th>\n",
       "      <th>def_1_observ</th>\n",
       "      <th>def_0_exp</th>\n",
       "      <th>def_1_exp</th>\n",
       "    </tr>\n",
       "  </thead>\n",
       "  <tbody>\n",
       "    <tr>\n",
       "      <th>0</th>\n",
       "      <td>PhD</td>\n",
       "      <td>14.0</td>\n",
       "      <td>0.0</td>\n",
       "      <td>10.9032</td>\n",
       "      <td>3.0968</td>\n",
       "    </tr>\n",
       "    <tr>\n",
       "      <th>1</th>\n",
       "      <td>MS</td>\n",
       "      <td>8549.0</td>\n",
       "      <td>2036.0</td>\n",
       "      <td>8243.5980</td>\n",
       "      <td>2341.4020</td>\n",
       "    </tr>\n",
       "    <tr>\n",
       "      <th>2</th>\n",
       "      <td>Ba</td>\n",
       "      <td>10700.0</td>\n",
       "      <td>3330.0</td>\n",
       "      <td>10926.5640</td>\n",
       "      <td>3103.4360</td>\n",
       "    </tr>\n",
       "    <tr>\n",
       "      <th>3</th>\n",
       "      <td>Sch</td>\n",
       "      <td>3680.0</td>\n",
       "      <td>1237.0</td>\n",
       "      <td>3829.3596</td>\n",
       "      <td>1087.6404</td>\n",
       "    </tr>\n",
       "    <tr>\n",
       "      <th>4</th>\n",
       "      <td>basic</td>\n",
       "      <td>116.0</td>\n",
       "      <td>7.0</td>\n",
       "      <td>95.7924</td>\n",
       "      <td>27.2076</td>\n",
       "    </tr>\n",
       "    <tr>\n",
       "      <th>5</th>\n",
       "      <td>other</td>\n",
       "      <td>262.0</td>\n",
       "      <td>18.0</td>\n",
       "      <td>218.0640</td>\n",
       "      <td>61.9360</td>\n",
       "    </tr>\n",
       "    <tr>\n",
       "      <th>6</th>\n",
       "      <td>NaN</td>\n",
       "      <td>43.0</td>\n",
       "      <td>8.0</td>\n",
       "      <td>39.7188</td>\n",
       "      <td>11.2812</td>\n",
       "    </tr>\n",
       "  </tbody>\n",
       "</table>\n",
       "</div>"
      ],
      "text/plain": [
       "  edu_lvl  def_0_observ  def_1_observ   def_0_exp  def_1_exp\n",
       "0     PhD          14.0           0.0     10.9032     3.0968\n",
       "1      MS        8549.0        2036.0   8243.5980  2341.4020\n",
       "2      Ba       10700.0        3330.0  10926.5640  3103.4360\n",
       "3     Sch        3680.0        1237.0   3829.3596  1087.6404\n",
       "4   basic         116.0           7.0     95.7924    27.2076\n",
       "5   other         262.0          18.0    218.0640    61.9360\n",
       "6     NaN          43.0           8.0     39.7188    11.2812"
      ]
     },
     "execution_count": 99,
     "metadata": {},
     "output_type": "execute_result"
    }
   ],
   "source": [
    "# заполним предсказанные значения таблицы сопряженности\n",
    "edu['def_0_exp'] = map(lambda x: res[3][x][0],\n",
    "                       range(len(res[3])))\n",
    "\n",
    "edu['def_1_exp'] = map(lambda x: res[3][x][1],\n",
    "                       range(len(res[3])))\n",
    "edu"
   ]
  },
  {
   "cell_type": "code",
   "execution_count": 102,
   "metadata": {
    "scrolled": true
   },
   "outputs": [
    {
     "data": {
      "text/html": [
       "<div>\n",
       "<style>\n",
       "    .dataframe thead tr:only-child th {\n",
       "        text-align: right;\n",
       "    }\n",
       "\n",
       "    .dataframe thead th {\n",
       "        text-align: left;\n",
       "    }\n",
       "\n",
       "    .dataframe tbody tr th {\n",
       "        vertical-align: top;\n",
       "    }\n",
       "</style>\n",
       "<table border=\"1\" class=\"dataframe\">\n",
       "  <thead>\n",
       "    <tr style=\"text-align: right;\">\n",
       "      <th></th>\n",
       "      <th>edu_lvl</th>\n",
       "      <th>def_0_obs-exp</th>\n",
       "      <th>def_1_obs-exp</th>\n",
       "    </tr>\n",
       "  </thead>\n",
       "  <tbody>\n",
       "    <tr>\n",
       "      <th>0</th>\n",
       "      <td>PhD</td>\n",
       "      <td>3.0968</td>\n",
       "      <td>-3.0968</td>\n",
       "    </tr>\n",
       "    <tr>\n",
       "      <th>1</th>\n",
       "      <td>MS</td>\n",
       "      <td>305.4020</td>\n",
       "      <td>-305.4020</td>\n",
       "    </tr>\n",
       "    <tr>\n",
       "      <th>2</th>\n",
       "      <td>Ba</td>\n",
       "      <td>-226.5640</td>\n",
       "      <td>226.5640</td>\n",
       "    </tr>\n",
       "    <tr>\n",
       "      <th>3</th>\n",
       "      <td>Sch</td>\n",
       "      <td>-149.3596</td>\n",
       "      <td>149.3596</td>\n",
       "    </tr>\n",
       "    <tr>\n",
       "      <th>4</th>\n",
       "      <td>basic</td>\n",
       "      <td>20.2076</td>\n",
       "      <td>-20.2076</td>\n",
       "    </tr>\n",
       "    <tr>\n",
       "      <th>5</th>\n",
       "      <td>other</td>\n",
       "      <td>43.9360</td>\n",
       "      <td>-43.9360</td>\n",
       "    </tr>\n",
       "    <tr>\n",
       "      <th>6</th>\n",
       "      <td>NaN</td>\n",
       "      <td>3.2812</td>\n",
       "      <td>-3.2812</td>\n",
       "    </tr>\n",
       "  </tbody>\n",
       "</table>\n",
       "</div>"
      ],
      "text/plain": [
       "  edu_lvl  def_0_obs-exp  def_1_obs-exp\n",
       "0     PhD         3.0968        -3.0968\n",
       "1      MS       305.4020      -305.4020\n",
       "2      Ba      -226.5640       226.5640\n",
       "3     Sch      -149.3596       149.3596\n",
       "4   basic        20.2076       -20.2076\n",
       "5   other        43.9360       -43.9360\n",
       "6     NaN         3.2812        -3.2812"
      ]
     },
     "execution_count": 102,
     "metadata": {},
     "output_type": "execute_result"
    }
   ],
   "source": [
    "# создадим таблицу для интерпретирования резульатов\n",
    "edu['def_0_obs-exp'] = edu['def_0_observ'] - edu['def_0_exp']\n",
    "\n",
    "edu['def_1_obs-exp'] = edu['def_1_observ'] - edu['def_1_exp']\n",
    "\n",
    "edu[['edu_lvl', 'def_0_obs-exp', 'def_1_obs-exp']]"
   ]
  },
  {
   "cell_type": "code",
   "execution_count": 109,
   "metadata": {
    "scrolled": true
   },
   "outputs": [
    {
     "data": {
      "text/html": [
       "<div>\n",
       "<style>\n",
       "    .dataframe thead tr:only-child th {\n",
       "        text-align: right;\n",
       "    }\n",
       "\n",
       "    .dataframe thead th {\n",
       "        text-align: left;\n",
       "    }\n",
       "\n",
       "    .dataframe tbody tr th {\n",
       "        vertical-align: top;\n",
       "    }\n",
       "</style>\n",
       "<table border=\"1\" class=\"dataframe\">\n",
       "  <thead>\n",
       "    <tr style=\"text-align: right;\">\n",
       "      <th></th>\n",
       "      <th>edu_lvl</th>\n",
       "      <th>diff_0</th>\n",
       "    </tr>\n",
       "  </thead>\n",
       "  <tbody>\n",
       "    <tr>\n",
       "      <th>0</th>\n",
       "      <td>PhD</td>\n",
       "      <td>0.221200</td>\n",
       "    </tr>\n",
       "    <tr>\n",
       "      <th>1</th>\n",
       "      <td>MS</td>\n",
       "      <td>0.035724</td>\n",
       "    </tr>\n",
       "    <tr>\n",
       "      <th>2</th>\n",
       "      <td>Ba</td>\n",
       "      <td>-0.021174</td>\n",
       "    </tr>\n",
       "    <tr>\n",
       "      <th>3</th>\n",
       "      <td>Sch</td>\n",
       "      <td>-0.040587</td>\n",
       "    </tr>\n",
       "    <tr>\n",
       "      <th>4</th>\n",
       "      <td>basic</td>\n",
       "      <td>0.174203</td>\n",
       "    </tr>\n",
       "    <tr>\n",
       "      <th>5</th>\n",
       "      <td>other</td>\n",
       "      <td>0.167695</td>\n",
       "    </tr>\n",
       "    <tr>\n",
       "      <th>6</th>\n",
       "      <td>NaN</td>\n",
       "      <td>0.076307</td>\n",
       "    </tr>\n",
       "  </tbody>\n",
       "</table>\n",
       "</div>"
      ],
      "text/plain": [
       "  edu_lvl    diff_0\n",
       "0     PhD  0.221200\n",
       "1      MS  0.035724\n",
       "2      Ba -0.021174\n",
       "3     Sch -0.040587\n",
       "4   basic  0.174203\n",
       "5   other  0.167695\n",
       "6     NaN  0.076307"
      ]
     },
     "execution_count": 109,
     "metadata": {},
     "output_type": "execute_result"
    }
   ],
   "source": [
    "# выразим отклонение ожидания от наблюдения для default=0 в процентах\n",
    "\n",
    "# значение diff_0 можно интерпретировать, как повышение вероятности возврата кредита \n",
    "# при соответствующем значении критерия \"образование\"\n",
    "edu['diff_0'] = edu['def_0_obs-exp'] / edu['def_0_observ']\n",
    "edu[['edu_lvl', 'diff_0']]"
   ]
  },
  {
   "cell_type": "markdown",
   "metadata": {},
   "source": [
    "В таблице продемонстрирована оценка разности ожидаемых и наблюдаемых значений количества возвращенных кредитов по признаку \"уровень образования\", выраженная в процентах. \n",
    "\n",
    "Можно видеть, что для всех значений образования разница не равна нулю, тоесть можно сказать, что образование влияет на вероятность возврата кредита.\n",
    "\n",
    "Причем, вероятность возврата кредита наиболее повышается при значении образования \"доктор\", и наиболее значительно понижается при уровне образования \"школа\".\n",
    "\n",
    "Коэффициент V Крамера подтверждает наличие корреляции между образованием и значением признака default на уровне 0.07%."
   ]
  },
  {
   "cell_type": "markdown",
   "metadata": {},
   "source": [
    "# Задание 4. Семейное положение (MARRIAGE)\n",
    "Проверьте, как связан семейный статус с индикатором дефолта: нужно предложить меру, по которой можно измерить возможную связь этих переменных и посчитать ее значение."
   ]
  },
  {
   "cell_type": "code",
   "execution_count": 38,
   "metadata": {
    "scrolled": true
   },
   "outputs": [
    {
     "data": {
      "image/png": "[encoded data removed]",
      "text/plain": [
       "<matplotlib.figure.Figure at 0x1d748e80>"
      ]
     },
     "metadata": {},
     "output_type": "display_data"
    }
   ],
   "source": [
    "# загружаем данные\n",
    "marr_0 = raw.MARRIAGE[raw.default == 0]\n",
    "marr_1 = raw.MARRIAGE[raw.default == 1]\n",
    "\n",
    "# посмотрим на данные\n",
    "plt.figure(figsize=(12, 8))\n",
    "plt.subplot(1,2,1)\n",
    "plt.title(u'\\nСвязь семейного положения\\n и возврата\\невозврата кредита\\n', \n",
    "             fontsize=14)\n",
    "plt.hist(marr_0, color='g', label = 'default = 0')\n",
    "plt.xlabel(u'Семейное положение')\n",
    "plt.ylabel(u'Кол-во кредитов')\n",
    "plt.legend()\n",
    "#plt.subplot(1,2,2)\n",
    "plt.hist(marr_1, color='r', label = 'default = 1')\n",
    "#plt.xlabel(u'Семейное положение')\n",
    "#plt.ylabel(u'Количество невозвращенных кредитов')\n",
    "plt.legend()\n",
    "plt.show()"
   ]
  },
  {
   "cell_type": "markdown",
   "metadata": {},
   "source": [
    "Значения признака MARRIAGE: (0 = отказываюсь отвечать; 1 = замужем/женат; 2 = холост; 3 = нет данных).\n",
    "\n",
    "Визуальный анализ показывает, что холостые чаще возвращают кредиты. При явно меньшем количестве кредитов, выданных семейным, количество невозвратов примерно равно количеству невозвратов в группе холостых.\n",
    "\n",
    "Связь категориальной переменной (семейное положение) и бинарной переменной (статус дефолта) можно измерить с помощью коэффициента V Крамера $\\phi_c$.\n",
    "\n",
    "нулевая гипотеза: $H_0\\colon$ $X_1$ и $X_2$ независимы;\n",
    "\n",
    "альтернатива: $H_1\\colon H_0$ неверна;\n",
    "\n",
    "критерий: $\\phi_c$ коэффициент V Крамера"
   ]
  },
  {
   "cell_type": "markdown",
   "metadata": {},
   "source": [
    "Условия корректной работы критерия V Крамера:\n",
    "- объём выборки $n \\geq 40$\n",
    "- ожидаемое количество элементов в каждой ячейке таблицы сопряженности\n",
    "меньше $5 \\big( \\frac{n_{i+}n_{+j}}{n} < 5 \\big)$, не более чем в 20% ячеек.\n",
    "\n",
    "Для проверки корректности применения критерия V Крамера построим таблицу сопряженности признаков MARRIAGE/default"
   ]
  },
  {
   "cell_type": "code",
   "execution_count": 14,
   "metadata": {},
   "outputs": [
    {
     "name": "stdout",
     "output_type": "stream",
     "text": [
      "\n",
      "Таблица сопряженности для признаков marriage / default\n"
     ]
    },
    {
     "data": {
      "text/html": [
       "<div>\n",
       "<style>\n",
       "    .dataframe thead tr:only-child th {\n",
       "        text-align: right;\n",
       "    }\n",
       "\n",
       "    .dataframe thead th {\n",
       "        text-align: left;\n",
       "    }\n",
       "\n",
       "    .dataframe tbody tr th {\n",
       "        vertical-align: top;\n",
       "    }\n",
       "</style>\n",
       "<table border=\"1\" class=\"dataframe\">\n",
       "  <thead>\n",
       "    <tr style=\"text-align: right;\">\n",
       "      <th></th>\n",
       "      <th>marr</th>\n",
       "      <th>def_0</th>\n",
       "      <th>def_1</th>\n",
       "    </tr>\n",
       "  </thead>\n",
       "  <tbody>\n",
       "    <tr>\n",
       "      <th>0</th>\n",
       "      <td>0_refs</td>\n",
       "      <td>49</td>\n",
       "      <td>5</td>\n",
       "    </tr>\n",
       "    <tr>\n",
       "      <th>1</th>\n",
       "      <td>1_marr</td>\n",
       "      <td>10453</td>\n",
       "      <td>3206</td>\n",
       "    </tr>\n",
       "    <tr>\n",
       "      <th>2</th>\n",
       "      <td>2_sngl</td>\n",
       "      <td>12623</td>\n",
       "      <td>3341</td>\n",
       "    </tr>\n",
       "    <tr>\n",
       "      <th>3</th>\n",
       "      <td>3_noan</td>\n",
       "      <td>239</td>\n",
       "      <td>84</td>\n",
       "    </tr>\n",
       "  </tbody>\n",
       "</table>\n",
       "</div>"
      ],
      "text/plain": [
       "     marr  def_0  def_1\n",
       "0  0_refs     49      5\n",
       "1  1_marr  10453   3206\n",
       "2  2_sngl  12623   3341\n",
       "3  3_noan    239     84"
      ]
     },
     "execution_count": 14,
     "metadata": {},
     "output_type": "execute_result"
    }
   ],
   "source": [
    "# создадим таблицу\n",
    "contingency_tab = pd.DataFrame(columns=['marr', 'def_0', 'def_1'])\n",
    "contingency_tab.marr = ['0_refs', '1_marr', '2_sngl', '3_noan']\n",
    "\n",
    "# заполним таблицу\n",
    "contingency_tab.def_0 = map(lambda x: len(marr_0[marr_0 == x]), range(4)) # вернули кредит\n",
    "contingency_tab.def_1 = map(lambda x: len(marr_1[marr_1 == x]), range(4)) # вернули кредит\n",
    "\n",
    "# посмотрим на таблицу\n",
    "print u'\\nТаблица сопряженности для признаков marriage / default'\n",
    "contingency_tab\n"
   ]
  },
  {
   "cell_type": "markdown",
   "metadata": {},
   "source": [
    "проверим условия корректной работы критерия V Крамера: объём выборки очевидно превышает 40, количество элементов ни в одной из ячеек не меньше 5.\n",
    "\n",
    "Условия работы критерия V Крамера выполняются. Рассчитаем этот критерий."
   ]
  },
  {
   "cell_type": "code",
   "execution_count": 43,
   "metadata": {},
   "outputs": [
    {
     "name": "stdout",
     "output_type": "stream",
     "text": [
      "Коэффициент корреляции V Крамера для признаков marriage / default: 0.034478\n"
     ]
    }
   ],
   "source": [
    "# выделим данные для расчета критерия\n",
    "data = [[49, 5], [10453, 3206], [12623, 3341], [239, 84]]\n",
    "\n",
    "# создадим распределение хи-квадрат\n",
    "res = stats.chi2_contingency(data)\n",
    "\n",
    "chi2 = res[0] # значение статистики хи-квадрат для таблицы сопряженности\n",
    "\n",
    "# рассчитаем критерий\n",
    "phi_c = np.sqrt(chi2 / (np.sum(data) * (np.min([len(data), len(data[0])]) - 1)))\n",
    "\n",
    "print u'Коэффициент корреляции V Крамера для признаков marriage / default: %f' % phi_c"
   ]
  },
  {
   "cell_type": "markdown",
   "metadata": {},
   "source": [
    "### Выводы по 4 заданию:\n",
    "Критерий V Крамера показал наличие небольшой корреляции между семейным положением и статусом кредита на уровне 0.034."
   ]
  },
  {
   "cell_type": "markdown",
   "metadata": {},
   "source": [
    "# Задание 5. Возраст (AGE)\n",
    "\n",
    "Относительно двух групп людей вернувших и не вернувших кредит проверьте следующие гипотезы: \n",
    "\n",
    "a) о равенстве медианных значений возрастов людей \n",
    "\n",
    "b) о равенстве распределений с помощью одного из подходящих непараметрических критериев проверки равенства средних. \n",
    "\n",
    "Значимы ли полученные результаты с практической точки зрения ?"
   ]
  },
  {
   "cell_type": "code",
   "execution_count": 5,
   "metadata": {},
   "outputs": [
    {
     "data": {
      "image/png": "[encoded data removed]",
      "text/plain": [
       "<matplotlib.figure.Figure at 0xd426128>"
      ]
     },
     "metadata": {},
     "output_type": "display_data"
    }
   ],
   "source": [
    "# загрузим данные\n",
    "age_0 = raw.AGE[raw.default == 0]\n",
    "age_1 = raw.AGE[raw.default == 1]\n",
    "\n",
    "# посмотрим на данные\n",
    "plt.figure(figsize=(12, 8))\n",
    "plt.subplot(1,2,1)\n",
    "plt.title(u'\\nСвязь возраста\\n и возврата\\невозврата кредита\\n', \n",
    "             fontsize=14)\n",
    "plt.hist(age_0, bins = 20, color='g', label = 'default = 0')\n",
    "plt.hist(age_1, bins = 20, color='r', label = 'default = 1')\n",
    "plt.xlabel(u'Возраст')\n",
    "plt.ylabel(u'Default')\n",
    "plt.legend()\n",
    "plt.show()"
   ]
  },
  {
   "cell_type": "markdown",
   "metadata": {},
   "source": [
    "Визуальый анализ показывает достаточно большое сходство распределений. Мода обоих находится в районе 25-30 лет и затем более или менее равномерно убыват до 70 лет, после чего практически сходит на нет. Можно предположить, что медианы распределений также будут довольно близки.\n",
    "\n",
    "Проверим это точно."
   ]
  },
  {
   "cell_type": "markdown",
   "metadata": {},
   "source": [
    "## a) гипотеза о равенстве медианных значений возрастов людей"
   ]
  },
  {
   "cell_type": "markdown",
   "metadata": {},
   "source": [
    "_Гипотеза_ $H_0\\colon med(X_1) = med(X_2)$\n",
    "\n",
    "_Альтернатива_ $H_1\\colon med(X_1)\\neq med(X_2)$\n",
    "\n",
    "_Критерий_$\\colon$ разность медиан методом бутстрепа\n",
    "\n",
    "_Условия применимости критерия_$\\colon$ независимые выборки"
   ]
  },
  {
   "cell_type": "code",
   "execution_count": 6,
   "metadata": {},
   "outputs": [
    {
     "name": "stdout",
     "output_type": "stream",
     "text": [
      "\n",
      "95% доверительный интервал для медианы кредитного лимита при def=0:\n",
      "[ 34.  34.]\n",
      "\n",
      "95% доверительный интервал для медианы кредитного лимита при def=1:\n",
      "[ 34.  35.]\n",
      "95% доверительный интервал для разности медиан:  [-1.  0.]\n"
     ]
    }
   ],
   "source": [
    "# использовать интервальную оценку медианы\n",
    "np.random.seed(0)\n",
    "\n",
    "age_0_median = map(np.median, get_bootstrap_samples(age_0.values, 1000))\n",
    "age_1_median = map(np.median, get_bootstrap_samples(age_1.values, 1000))\n",
    "\n",
    "print '\\n95% доверительный интервал для медианы кредитного лимита при def=0:'\n",
    "print stat_intervals(age_0_median, 0.05)\n",
    "print '\\n95% доверительный интервал для медианы кредитного лимита при def=1:'\n",
    "print stat_intervals(age_1_median, 0.05)\n",
    "\n",
    "delta_median_score = map(lambda x: x[0] - x[1], zip(age_0_median,\n",
    "                                                   age_1_median))\n",
    "\n",
    "print '95% доверительный интервал для разности медиан: ', stat_intervals(delta_median_score,\n",
    "                                                                        0.05)"
   ]
  },
  {
   "cell_type": "markdown",
   "metadata": {},
   "source": [
    "доверительный интервал содержит 0, так что мы не можем отвергнуть гипотезу о равенстве медиан"
   ]
  },
  {
   "cell_type": "markdown",
   "metadata": {},
   "source": [
    "# b) гипотеза о равенстве распределений"
   ]
  },
  {
   "cell_type": "markdown",
   "metadata": {},
   "source": [
    "_Гипотеза_ $H_0\\colon F_{X_1}(x) = F_{X_2}(x)$\n",
    "\n",
    "_Альтернатива_ $H_1\\colon F_{X_1}(x) = F_{X_2}(x + \\Delta), \\Delta\\neq 0$ \n",
    "\n",
    "_Критерий_$\\colon$ знаковых рангов Манна-Уитни\n",
    "\n",
    "_Условия применимости критерия_$\\colon$ независимые выборки"
   ]
  },
  {
   "cell_type": "code",
   "execution_count": 55,
   "metadata": {
    "scrolled": true
   },
   "outputs": [
    {
     "data": {
      "text/plain": [
       "MannwhitneyuResult(statistic=76966879.5, pvalue=0.18625177174493079)"
      ]
     },
     "execution_count": 55,
     "metadata": {},
     "output_type": "execute_result"
    }
   ],
   "source": [
    "stats.mannwhitneyu(age_0, age_1)"
   ]
  },
  {
   "cell_type": "markdown",
   "metadata": {},
   "source": [
    "Ранговый критерий Манна-Уитни не отвергает гипотезу о равенстве распределений на уровне значимости 0.05 с достигаемым уровнем значимости $p = 0.1863$"
   ]
  },
  {
   "cell_type": "markdown",
   "metadata": {},
   "source": [
    "_Гипотеза_ $H_0\\colon F_{X_1}(x) = F_{X_2}(x)$\n",
    "\n",
    "_Альтернатива_ $H_1\\colon F_{X_1}(x) = F_{X_2}(x + \\Delta), \\Delta\\neq 0$ \n",
    "\n",
    "_Критерий_$\\colon$ перестановочный критерий для независимых выборок\n",
    "\n",
    "_Условия применимости критерия_$\\colon$ независимые выборки"
   ]
  },
  {
   "cell_type": "code",
   "execution_count": 8,
   "metadata": {
    "collapsed": true
   },
   "outputs": [],
   "source": [
    "# Проверим эту же гипотезу с помощью перестановочного критерия для независимых выборок\n",
    "def permutation_t_stat_ind(sample1, sample2):\n",
    "    return np.mean(sample1) - np.mean(sample2)\n",
    "\n",
    "def get_random_combinations(n1, n2, max_combinations):\n",
    "    index = range(n1 + n2)\n",
    "    indices = set([tuple(index)])\n",
    "    for i in range(max_combinations - 1):\n",
    "        np.random.shuffle(index)\n",
    "        indices.add(tuple(index))\n",
    "    return [(index[:n1], index[n1:]) for index in indices]\n",
    "\n",
    "def permutation_zero_dist_ind(sample1, sample2, max_combinations = None):\n",
    "    joined_sample = np.hstack((sample1, sample2))\n",
    "    n1 = len(sample1)\n",
    "    n = len(joined_sample)\n",
    "    \n",
    "    if max_combinations:\n",
    "        indices = get_random_combinations(n1, len(sample2), max_combinations)\n",
    "    else:\n",
    "        indices = [(list(index), filter(lambda i: i not in index, range(n))) \\\n",
    "                    for index in itertools.combinations(range(n), n1)]\n",
    "    \n",
    "    distr = [joined_sample[list(i[0])].mean() - joined_sample[list(i[1])].mean() \\\n",
    "             for i in indices]\n",
    "    return distr"
   ]
  },
  {
   "cell_type": "code",
   "execution_count": 9,
   "metadata": {},
   "outputs": [
    {
     "data": {
      "image/png": "[encoded data removed]",
      "text/plain": [
       "<matplotlib.figure.Figure at 0xaabacc0>"
      ]
     },
     "metadata": {},
     "output_type": "display_data"
    }
   ],
   "source": [
    "pylab.hist(permutation_zero_dist_ind(age_0, age_1, max_combinations = 1000))\n",
    "pylab.show()"
   ]
  },
  {
   "cell_type": "code",
   "execution_count": 10,
   "metadata": {
    "collapsed": true
   },
   "outputs": [],
   "source": [
    "def permutation_test(sample, mean, max_permutations = None, alternative = 'two-sided'):\n",
    "    if alternative not in ('two-sided', 'less', 'greater'):\n",
    "        raise ValueError(\"alternative not recognized\\n\"\n",
    "                         \"should be 'two-sided', 'less' or 'greater'\")\n",
    "    \n",
    "    t_stat = permutation_t_stat_ind(sample, mean)\n",
    "    \n",
    "    zero_distr = permutation_zero_dist_ind(sample, mean, max_permutations)\n",
    "    \n",
    "    if alternative == 'two-sided':\n",
    "        return sum([1. if abs(x) >= abs(t_stat) else 0. for x in zero_distr]) / len(zero_distr)\n",
    "    \n",
    "    if alternative == 'less':\n",
    "        return sum([1. if x <= t_stat else 0. for x in zero_distr]) / len(zero_distr)\n",
    "\n",
    "    if alternative == 'greater':\n",
    "        return sum([1. if x >= t_stat else 0. for x in zero_distr]) / len(zero_distr)"
   ]
  },
  {
   "cell_type": "code",
   "execution_count": 13,
   "metadata": {
    "scrolled": false
   },
   "outputs": [
    {
     "name": "stdout",
     "output_type": "stream",
     "text": [
      "p-value: 0.015800\n"
     ]
    }
   ],
   "source": [
    "print 'p-value: %f' % permutation_test(age_0, age_1, max_permutations = 10000)"
   ]
  },
  {
   "cell_type": "markdown",
   "metadata": {},
   "source": [
    "Перестановочный критерий отвергает гипотезу о равенстве распределений с достигаемым уровнем занчимости 0.0158\n",
    "\n",
    "При статистической значимости, практическая значимость этого различия не очевидна."
   ]
  },
  {
   "cell_type": "markdown",
   "metadata": {},
   "source": [
    "### Выводы по заданию 5:\n",
    "Анализ средних значений возраста в группах def=0 и def=1 показал статистически занчимое отличие только при применении перестановочного критерия. Результаты анализа критериями Манна-Уитни и построение доверительных интервалов для разности медиан не опровергли гипотезу о равенстве средних. Так что практическая значимость отличия представляется незначительной."
   ]
  }
 ],
 "metadata": {
  "kernelspec": {
   "display_name": "Python 2",
   "language": "python",
   "name": "python2"
  },
  "language_info": {
   "codemirror_mode": {
    "name": "ipython",
    "version": 2
   },
   "file_extension": ".py",
   "mimetype": "text/x-python",
   "name": "python",
   "nbconvert_exporter": "python",
   "pygments_lexer": "ipython2",
   "version": "2.7.13"
  }
 },
 "nbformat": 4,
 "nbformat_minor": 2
}
