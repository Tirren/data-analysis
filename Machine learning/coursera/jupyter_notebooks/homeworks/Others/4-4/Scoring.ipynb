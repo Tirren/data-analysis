{
 "cells": [
  {
   "cell_type": "markdown",
   "metadata": {},
   "source": [
    "# Анализ данных в задаче кредитного скоринга"
   ]
  },
  {
   "cell_type": "code",
   "execution_count": 401,
   "metadata": {},
   "outputs": [],
   "source": [
    "import numpy as np\n",
    "import pandas as pd\n",
    "from scipy import stats\n",
    "import statsmodels.stats.api as sms"
   ]
  },
  {
   "cell_type": "code",
   "execution_count": 402,
   "metadata": {},
   "outputs": [
    {
     "name": "stdout",
     "output_type": "stream",
     "text": [
      "Populating the interactive namespace from numpy and matplotlib\n"
     ]
    },
    {
     "name": "stderr",
     "output_type": "stream",
     "text": [
      "WARNING: pylab import has clobbered these variables: ['axes', 'legend']\n",
      "`%matplotlib` prevents importing * from pylab and numpy\n"
     ]
    }
   ],
   "source": [
    "%pylab inline"
   ]
  },
  {
   "cell_type": "markdown",
   "metadata": {},
   "source": [
    "### Загрузим и подготовим данные\n",
    "- LIMIT_BAL: размер кредитного лимита (в том числе и на семью клиента)\n",
    "- SEX: пол клиента (1 = мужской, 2 = женский )\n",
    "- EDUCATION: образование (0 = доктор, 1 = магистр; 2 = бакалавр; 3 = выпускник школы; 4 = начальное образование; 5= прочее; 6 = нет данных ).\n",
    "- MARRIAGE: (0 = отказываюсь отвечать; 1 = замужем/женат; 2 = холост; 3 = нет данных).\n",
    "- AGE: возраст в годах\n",
    "- PAY_0 - PAY_6 : История прошлых платежей по кредиту. PAY_6 - платеж в апреле, ... Pay_0 - платеж в сентябре. Платеж = (0 = исправный платеж, 1=задержка в один месяц, 2=задержка в 2 месяца ...)\n",
    "- BILL_AMT1 - BILL_AMT6: задолженность, BILL_AMT6 - на апрель, BILL_AMT1 - на сентябрь\n",
    "- PAY_AMT1 - PAY_AMT6: сумма уплаченная в PAY_AMT6 - апреле, ..., PAY_AMT1 - сентябре\n",
    "- default - индикатор невозврата денежных средств"
   ]
  },
  {
   "cell_type": "code",
   "execution_count": 403,
   "metadata": {
    "collapsed": true
   },
   "outputs": [],
   "source": [
    "data = pd.read_csv('credit_card_default_analysis.csv', sep = ',', header = 0)"
   ]
  },
  {
   "cell_type": "code",
   "execution_count": 404,
   "metadata": {},
   "outputs": [
    {
     "data": {
      "text/html": [
       "<div>\n",
       "<style>\n",
       "    .dataframe thead tr:only-child th {\n",
       "        text-align: right;\n",
       "    }\n",
       "\n",
       "    .dataframe thead th {\n",
       "        text-align: left;\n",
       "    }\n",
       "\n",
       "    .dataframe tbody tr th {\n",
       "        vertical-align: top;\n",
       "    }\n",
       "</style>\n",
       "<table border=\"1\" class=\"dataframe\">\n",
       "  <thead>\n",
       "    <tr style=\"text-align: right;\">\n",
       "      <th></th>\n",
       "      <th>ID</th>\n",
       "      <th>LIMIT_BAL</th>\n",
       "      <th>SEX</th>\n",
       "      <th>EDUCATION</th>\n",
       "      <th>MARRIAGE</th>\n",
       "      <th>AGE</th>\n",
       "      <th>PAY_0</th>\n",
       "      <th>PAY_2</th>\n",
       "      <th>PAY_3</th>\n",
       "      <th>PAY_4</th>\n",
       "      <th>...</th>\n",
       "      <th>BILL_AMT4</th>\n",
       "      <th>BILL_AMT5</th>\n",
       "      <th>BILL_AMT6</th>\n",
       "      <th>PAY_AMT1</th>\n",
       "      <th>PAY_AMT2</th>\n",
       "      <th>PAY_AMT3</th>\n",
       "      <th>PAY_AMT4</th>\n",
       "      <th>PAY_AMT5</th>\n",
       "      <th>PAY_AMT6</th>\n",
       "      <th>default</th>\n",
       "    </tr>\n",
       "  </thead>\n",
       "  <tbody>\n",
       "    <tr>\n",
       "      <th>0</th>\n",
       "      <td>1</td>\n",
       "      <td>20000</td>\n",
       "      <td>2</td>\n",
       "      <td>2</td>\n",
       "      <td>1</td>\n",
       "      <td>24</td>\n",
       "      <td>2</td>\n",
       "      <td>2</td>\n",
       "      <td>0</td>\n",
       "      <td>0</td>\n",
       "      <td>...</td>\n",
       "      <td>0</td>\n",
       "      <td>0</td>\n",
       "      <td>0</td>\n",
       "      <td>0</td>\n",
       "      <td>689</td>\n",
       "      <td>0</td>\n",
       "      <td>0</td>\n",
       "      <td>0</td>\n",
       "      <td>0</td>\n",
       "      <td>1</td>\n",
       "    </tr>\n",
       "    <tr>\n",
       "      <th>1</th>\n",
       "      <td>2</td>\n",
       "      <td>120000</td>\n",
       "      <td>2</td>\n",
       "      <td>2</td>\n",
       "      <td>2</td>\n",
       "      <td>26</td>\n",
       "      <td>0</td>\n",
       "      <td>2</td>\n",
       "      <td>0</td>\n",
       "      <td>0</td>\n",
       "      <td>...</td>\n",
       "      <td>3272</td>\n",
       "      <td>3455</td>\n",
       "      <td>3261</td>\n",
       "      <td>0</td>\n",
       "      <td>1000</td>\n",
       "      <td>1000</td>\n",
       "      <td>1000</td>\n",
       "      <td>0</td>\n",
       "      <td>2000</td>\n",
       "      <td>1</td>\n",
       "    </tr>\n",
       "    <tr>\n",
       "      <th>2</th>\n",
       "      <td>3</td>\n",
       "      <td>90000</td>\n",
       "      <td>2</td>\n",
       "      <td>2</td>\n",
       "      <td>2</td>\n",
       "      <td>34</td>\n",
       "      <td>0</td>\n",
       "      <td>0</td>\n",
       "      <td>0</td>\n",
       "      <td>0</td>\n",
       "      <td>...</td>\n",
       "      <td>14331</td>\n",
       "      <td>14948</td>\n",
       "      <td>15549</td>\n",
       "      <td>1518</td>\n",
       "      <td>1500</td>\n",
       "      <td>1000</td>\n",
       "      <td>1000</td>\n",
       "      <td>1000</td>\n",
       "      <td>5000</td>\n",
       "      <td>0</td>\n",
       "    </tr>\n",
       "    <tr>\n",
       "      <th>3</th>\n",
       "      <td>4</td>\n",
       "      <td>50000</td>\n",
       "      <td>2</td>\n",
       "      <td>2</td>\n",
       "      <td>1</td>\n",
       "      <td>37</td>\n",
       "      <td>0</td>\n",
       "      <td>0</td>\n",
       "      <td>0</td>\n",
       "      <td>0</td>\n",
       "      <td>...</td>\n",
       "      <td>28314</td>\n",
       "      <td>28959</td>\n",
       "      <td>29547</td>\n",
       "      <td>2000</td>\n",
       "      <td>2019</td>\n",
       "      <td>1200</td>\n",
       "      <td>1100</td>\n",
       "      <td>1069</td>\n",
       "      <td>1000</td>\n",
       "      <td>0</td>\n",
       "    </tr>\n",
       "    <tr>\n",
       "      <th>4</th>\n",
       "      <td>5</td>\n",
       "      <td>50000</td>\n",
       "      <td>1</td>\n",
       "      <td>2</td>\n",
       "      <td>1</td>\n",
       "      <td>57</td>\n",
       "      <td>0</td>\n",
       "      <td>0</td>\n",
       "      <td>0</td>\n",
       "      <td>0</td>\n",
       "      <td>...</td>\n",
       "      <td>20940</td>\n",
       "      <td>19146</td>\n",
       "      <td>19131</td>\n",
       "      <td>2000</td>\n",
       "      <td>36681</td>\n",
       "      <td>10000</td>\n",
       "      <td>9000</td>\n",
       "      <td>689</td>\n",
       "      <td>679</td>\n",
       "      <td>0</td>\n",
       "    </tr>\n",
       "  </tbody>\n",
       "</table>\n",
       "<p>5 rows × 25 columns</p>\n",
       "</div>"
      ],
      "text/plain": [
       "   ID  LIMIT_BAL  SEX  EDUCATION  MARRIAGE  AGE  PAY_0  PAY_2  PAY_3  PAY_4  \\\n",
       "0   1      20000    2          2         1   24      2      2      0      0   \n",
       "1   2     120000    2          2         2   26      0      2      0      0   \n",
       "2   3      90000    2          2         2   34      0      0      0      0   \n",
       "3   4      50000    2          2         1   37      0      0      0      0   \n",
       "4   5      50000    1          2         1   57      0      0      0      0   \n",
       "\n",
       "    ...     BILL_AMT4  BILL_AMT5  BILL_AMT6  PAY_AMT1  PAY_AMT2  PAY_AMT3  \\\n",
       "0   ...             0          0          0         0       689         0   \n",
       "1   ...          3272       3455       3261         0      1000      1000   \n",
       "2   ...         14331      14948      15549      1518      1500      1000   \n",
       "3   ...         28314      28959      29547      2000      2019      1200   \n",
       "4   ...         20940      19146      19131      2000     36681     10000   \n",
       "\n",
       "   PAY_AMT4  PAY_AMT5  PAY_AMT6  default  \n",
       "0         0         0         0        1  \n",
       "1      1000         0      2000        1  \n",
       "2      1000      1000      5000        0  \n",
       "3      1100      1069      1000        0  \n",
       "4      9000       689       679        0  \n",
       "\n",
       "[5 rows x 25 columns]"
      ]
     },
     "execution_count": 404,
     "metadata": {},
     "output_type": "execute_result"
    }
   ],
   "source": [
    "data.head()"
   ]
  },
  {
   "cell_type": "code",
   "execution_count": 405,
   "metadata": {},
   "outputs": [
    {
     "data": {
      "text/html": [
       "<div>\n",
       "<style>\n",
       "    .dataframe thead tr:only-child th {\n",
       "        text-align: right;\n",
       "    }\n",
       "\n",
       "    .dataframe thead th {\n",
       "        text-align: left;\n",
       "    }\n",
       "\n",
       "    .dataframe tbody tr th {\n",
       "        vertical-align: top;\n",
       "    }\n",
       "</style>\n",
       "<table border=\"1\" class=\"dataframe\">\n",
       "  <thead>\n",
       "    <tr style=\"text-align: right;\">\n",
       "      <th></th>\n",
       "      <th>ID</th>\n",
       "      <th>LIMIT_BAL</th>\n",
       "      <th>SEX</th>\n",
       "      <th>EDUCATION</th>\n",
       "      <th>MARRIAGE</th>\n",
       "      <th>AGE</th>\n",
       "      <th>PAY_0</th>\n",
       "      <th>PAY_2</th>\n",
       "      <th>PAY_3</th>\n",
       "      <th>PAY_4</th>\n",
       "      <th>...</th>\n",
       "      <th>BILL_AMT4</th>\n",
       "      <th>BILL_AMT5</th>\n",
       "      <th>BILL_AMT6</th>\n",
       "      <th>PAY_AMT1</th>\n",
       "      <th>PAY_AMT2</th>\n",
       "      <th>PAY_AMT3</th>\n",
       "      <th>PAY_AMT4</th>\n",
       "      <th>PAY_AMT5</th>\n",
       "      <th>PAY_AMT6</th>\n",
       "      <th>default</th>\n",
       "    </tr>\n",
       "  </thead>\n",
       "  <tbody>\n",
       "    <tr>\n",
       "      <th>count</th>\n",
       "      <td>30000.000000</td>\n",
       "      <td>30000.000000</td>\n",
       "      <td>30000.000000</td>\n",
       "      <td>30000.000000</td>\n",
       "      <td>30000.000000</td>\n",
       "      <td>30000.000000</td>\n",
       "      <td>30000.000000</td>\n",
       "      <td>30000.000000</td>\n",
       "      <td>30000.000000</td>\n",
       "      <td>30000.000000</td>\n",
       "      <td>...</td>\n",
       "      <td>30000.000000</td>\n",
       "      <td>30000.000000</td>\n",
       "      <td>30000.000000</td>\n",
       "      <td>30000.000000</td>\n",
       "      <td>3.000000e+04</td>\n",
       "      <td>30000.00000</td>\n",
       "      <td>30000.000000</td>\n",
       "      <td>30000.000000</td>\n",
       "      <td>30000.000000</td>\n",
       "      <td>30000.000000</td>\n",
       "    </tr>\n",
       "    <tr>\n",
       "      <th>mean</th>\n",
       "      <td>15000.500000</td>\n",
       "      <td>167484.322667</td>\n",
       "      <td>1.603733</td>\n",
       "      <td>1.853133</td>\n",
       "      <td>1.551867</td>\n",
       "      <td>35.485500</td>\n",
       "      <td>0.356767</td>\n",
       "      <td>0.320033</td>\n",
       "      <td>0.304067</td>\n",
       "      <td>0.258767</td>\n",
       "      <td>...</td>\n",
       "      <td>43262.948967</td>\n",
       "      <td>40311.400967</td>\n",
       "      <td>38871.760400</td>\n",
       "      <td>5663.580500</td>\n",
       "      <td>5.921163e+03</td>\n",
       "      <td>5225.68150</td>\n",
       "      <td>4826.076867</td>\n",
       "      <td>4799.387633</td>\n",
       "      <td>5215.502567</td>\n",
       "      <td>0.221200</td>\n",
       "    </tr>\n",
       "    <tr>\n",
       "      <th>std</th>\n",
       "      <td>8660.398374</td>\n",
       "      <td>129747.661567</td>\n",
       "      <td>0.489129</td>\n",
       "      <td>0.790349</td>\n",
       "      <td>0.521970</td>\n",
       "      <td>9.217904</td>\n",
       "      <td>0.760594</td>\n",
       "      <td>0.801727</td>\n",
       "      <td>0.790589</td>\n",
       "      <td>0.761113</td>\n",
       "      <td>...</td>\n",
       "      <td>64332.856134</td>\n",
       "      <td>60797.155770</td>\n",
       "      <td>59554.107537</td>\n",
       "      <td>16563.280354</td>\n",
       "      <td>2.304087e+04</td>\n",
       "      <td>17606.96147</td>\n",
       "      <td>15666.159744</td>\n",
       "      <td>15278.305679</td>\n",
       "      <td>17777.465775</td>\n",
       "      <td>0.415062</td>\n",
       "    </tr>\n",
       "    <tr>\n",
       "      <th>min</th>\n",
       "      <td>1.000000</td>\n",
       "      <td>10000.000000</td>\n",
       "      <td>1.000000</td>\n",
       "      <td>0.000000</td>\n",
       "      <td>0.000000</td>\n",
       "      <td>21.000000</td>\n",
       "      <td>0.000000</td>\n",
       "      <td>0.000000</td>\n",
       "      <td>0.000000</td>\n",
       "      <td>0.000000</td>\n",
       "      <td>...</td>\n",
       "      <td>-170000.000000</td>\n",
       "      <td>-81334.000000</td>\n",
       "      <td>-339603.000000</td>\n",
       "      <td>0.000000</td>\n",
       "      <td>0.000000e+00</td>\n",
       "      <td>0.00000</td>\n",
       "      <td>0.000000</td>\n",
       "      <td>0.000000</td>\n",
       "      <td>0.000000</td>\n",
       "      <td>0.000000</td>\n",
       "    </tr>\n",
       "    <tr>\n",
       "      <th>25%</th>\n",
       "      <td>7500.750000</td>\n",
       "      <td>50000.000000</td>\n",
       "      <td>1.000000</td>\n",
       "      <td>1.000000</td>\n",
       "      <td>1.000000</td>\n",
       "      <td>28.000000</td>\n",
       "      <td>0.000000</td>\n",
       "      <td>0.000000</td>\n",
       "      <td>0.000000</td>\n",
       "      <td>0.000000</td>\n",
       "      <td>...</td>\n",
       "      <td>2326.750000</td>\n",
       "      <td>1763.000000</td>\n",
       "      <td>1256.000000</td>\n",
       "      <td>1000.000000</td>\n",
       "      <td>8.330000e+02</td>\n",
       "      <td>390.00000</td>\n",
       "      <td>296.000000</td>\n",
       "      <td>252.500000</td>\n",
       "      <td>117.750000</td>\n",
       "      <td>0.000000</td>\n",
       "    </tr>\n",
       "    <tr>\n",
       "      <th>50%</th>\n",
       "      <td>15000.500000</td>\n",
       "      <td>140000.000000</td>\n",
       "      <td>2.000000</td>\n",
       "      <td>2.000000</td>\n",
       "      <td>2.000000</td>\n",
       "      <td>34.000000</td>\n",
       "      <td>0.000000</td>\n",
       "      <td>0.000000</td>\n",
       "      <td>0.000000</td>\n",
       "      <td>0.000000</td>\n",
       "      <td>...</td>\n",
       "      <td>19052.000000</td>\n",
       "      <td>18104.500000</td>\n",
       "      <td>17071.000000</td>\n",
       "      <td>2100.000000</td>\n",
       "      <td>2.009000e+03</td>\n",
       "      <td>1800.00000</td>\n",
       "      <td>1500.000000</td>\n",
       "      <td>1500.000000</td>\n",
       "      <td>1500.000000</td>\n",
       "      <td>0.000000</td>\n",
       "    </tr>\n",
       "    <tr>\n",
       "      <th>75%</th>\n",
       "      <td>22500.250000</td>\n",
       "      <td>240000.000000</td>\n",
       "      <td>2.000000</td>\n",
       "      <td>2.000000</td>\n",
       "      <td>2.000000</td>\n",
       "      <td>41.000000</td>\n",
       "      <td>0.000000</td>\n",
       "      <td>0.000000</td>\n",
       "      <td>0.000000</td>\n",
       "      <td>0.000000</td>\n",
       "      <td>...</td>\n",
       "      <td>54506.000000</td>\n",
       "      <td>50190.500000</td>\n",
       "      <td>49198.250000</td>\n",
       "      <td>5006.000000</td>\n",
       "      <td>5.000000e+03</td>\n",
       "      <td>4505.00000</td>\n",
       "      <td>4013.250000</td>\n",
       "      <td>4031.500000</td>\n",
       "      <td>4000.000000</td>\n",
       "      <td>0.000000</td>\n",
       "    </tr>\n",
       "    <tr>\n",
       "      <th>max</th>\n",
       "      <td>30000.000000</td>\n",
       "      <td>1000000.000000</td>\n",
       "      <td>2.000000</td>\n",
       "      <td>6.000000</td>\n",
       "      <td>3.000000</td>\n",
       "      <td>79.000000</td>\n",
       "      <td>8.000000</td>\n",
       "      <td>8.000000</td>\n",
       "      <td>8.000000</td>\n",
       "      <td>8.000000</td>\n",
       "      <td>...</td>\n",
       "      <td>891586.000000</td>\n",
       "      <td>927171.000000</td>\n",
       "      <td>961664.000000</td>\n",
       "      <td>873552.000000</td>\n",
       "      <td>1.684259e+06</td>\n",
       "      <td>896040.00000</td>\n",
       "      <td>621000.000000</td>\n",
       "      <td>426529.000000</td>\n",
       "      <td>528666.000000</td>\n",
       "      <td>1.000000</td>\n",
       "    </tr>\n",
       "  </tbody>\n",
       "</table>\n",
       "<p>8 rows × 25 columns</p>\n",
       "</div>"
      ],
      "text/plain": [
       "                 ID       LIMIT_BAL           SEX     EDUCATION      MARRIAGE  \\\n",
       "count  30000.000000    30000.000000  30000.000000  30000.000000  30000.000000   \n",
       "mean   15000.500000   167484.322667      1.603733      1.853133      1.551867   \n",
       "std     8660.398374   129747.661567      0.489129      0.790349      0.521970   \n",
       "min        1.000000    10000.000000      1.000000      0.000000      0.000000   \n",
       "25%     7500.750000    50000.000000      1.000000      1.000000      1.000000   \n",
       "50%    15000.500000   140000.000000      2.000000      2.000000      2.000000   \n",
       "75%    22500.250000   240000.000000      2.000000      2.000000      2.000000   \n",
       "max    30000.000000  1000000.000000      2.000000      6.000000      3.000000   \n",
       "\n",
       "                AGE         PAY_0         PAY_2         PAY_3         PAY_4  \\\n",
       "count  30000.000000  30000.000000  30000.000000  30000.000000  30000.000000   \n",
       "mean      35.485500      0.356767      0.320033      0.304067      0.258767   \n",
       "std        9.217904      0.760594      0.801727      0.790589      0.761113   \n",
       "min       21.000000      0.000000      0.000000      0.000000      0.000000   \n",
       "25%       28.000000      0.000000      0.000000      0.000000      0.000000   \n",
       "50%       34.000000      0.000000      0.000000      0.000000      0.000000   \n",
       "75%       41.000000      0.000000      0.000000      0.000000      0.000000   \n",
       "max       79.000000      8.000000      8.000000      8.000000      8.000000   \n",
       "\n",
       "           ...           BILL_AMT4      BILL_AMT5      BILL_AMT6  \\\n",
       "count      ...        30000.000000   30000.000000   30000.000000   \n",
       "mean       ...        43262.948967   40311.400967   38871.760400   \n",
       "std        ...        64332.856134   60797.155770   59554.107537   \n",
       "min        ...      -170000.000000  -81334.000000 -339603.000000   \n",
       "25%        ...         2326.750000    1763.000000    1256.000000   \n",
       "50%        ...        19052.000000   18104.500000   17071.000000   \n",
       "75%        ...        54506.000000   50190.500000   49198.250000   \n",
       "max        ...       891586.000000  927171.000000  961664.000000   \n",
       "\n",
       "            PAY_AMT1      PAY_AMT2      PAY_AMT3       PAY_AMT4  \\\n",
       "count   30000.000000  3.000000e+04   30000.00000   30000.000000   \n",
       "mean     5663.580500  5.921163e+03    5225.68150    4826.076867   \n",
       "std     16563.280354  2.304087e+04   17606.96147   15666.159744   \n",
       "min         0.000000  0.000000e+00       0.00000       0.000000   \n",
       "25%      1000.000000  8.330000e+02     390.00000     296.000000   \n",
       "50%      2100.000000  2.009000e+03    1800.00000    1500.000000   \n",
       "75%      5006.000000  5.000000e+03    4505.00000    4013.250000   \n",
       "max    873552.000000  1.684259e+06  896040.00000  621000.000000   \n",
       "\n",
       "            PAY_AMT5       PAY_AMT6       default  \n",
       "count   30000.000000   30000.000000  30000.000000  \n",
       "mean     4799.387633    5215.502567      0.221200  \n",
       "std     15278.305679   17777.465775      0.415062  \n",
       "min         0.000000       0.000000      0.000000  \n",
       "25%       252.500000     117.750000      0.000000  \n",
       "50%      1500.000000    1500.000000      0.000000  \n",
       "75%      4031.500000    4000.000000      0.000000  \n",
       "max    426529.000000  528666.000000      1.000000  \n",
       "\n",
       "[8 rows x 25 columns]"
      ]
     },
     "execution_count": 405,
     "metadata": {},
     "output_type": "execute_result"
    }
   ],
   "source": [
    "data.describe()"
   ]
  },
  {
   "cell_type": "code",
   "execution_count": 406,
   "metadata": {
    "collapsed": true
   },
   "outputs": [],
   "source": [
    "# разделим выборку на вернувших и невернувших\n",
    "dt = data[data.default == 1]\n",
    "df = data[data.default == 0]"
   ]
  },
  {
   "cell_type": "code",
   "execution_count": 407,
   "metadata": {
    "collapsed": true
   },
   "outputs": [],
   "source": [
    "# в однострочных комментариях даны пояснения действий\n",
    "\n",
    "\"\"\"\n",
    "в многострочных - выводы\n",
    "\"\"\"\n",
    "pass"
   ]
  },
  {
   "cell_type": "markdown",
   "metadata": {},
   "source": [
    "## Задание 1\n",
    "Размер кредитного лимита (LIMIT_BAL). В двух группах, тех людей, кто вернул кредит (default = 0) и тех, кто его не вернул (default = 1) проверьте гипотезы: \n",
    "- о равенстве медианных значений кредитного лимита с помощью подходящей интервальной оценки \n",
    "- о равенстве распределений с помощью одного из подходящих непараметрических критериев проверки равенства средних. Значимы ли полученные результаты с практической точки зрения ?"
   ]
  },
  {
   "cell_type": "markdown",
   "metadata": {},
   "source": [
    "#### Графики"
   ]
  },
  {
   "cell_type": "code",
   "execution_count": 408,
   "metadata": {},
   "outputs": [
    {
     "data": {
      "image/png": "[encoded data removed]",
      "text/plain": [
       "<matplotlib.figure.Figure at 0x1503eba8>"
      ]
     },
     "metadata": {},
     "output_type": "display_data"
    }
   ],
   "source": [
    "# посмотрим на данные разными способами\n",
    "# для начала - гистограммы\n",
    "fig, axes = plt.subplots(2, 1, sharex=True, figsize=(8,6))\n",
    "axes[0].hist(dt.LIMIT_BAL, color = 'r', bins=15, label='default')\n",
    "axes[0].legend()\n",
    "\n",
    "axes[1].hist(df.LIMIT_BAL, color = 'b', bins=15, label='repay')\n",
    "axes[1].legend()\n",
    "\n",
    "plt.subplots_adjust(hspace = 0)\n",
    "\n",
    "\"\"\"\n",
    "распределения унимодальны, сильно скошены и имеют тяжелый правый хвост\n",
    "\"\"\"\n",
    "pass"
   ]
  },
  {
   "cell_type": "code",
   "execution_count": 409,
   "metadata": {},
   "outputs": [
    {
     "data": {
      "image/png": "[encoded data removed]",
      "text/plain": [
       "<matplotlib.figure.Figure at 0x164db978>"
      ]
     },
     "metadata": {},
     "output_type": "display_data"
    }
   ],
   "source": [
    "# построим \"ящики с усами\"\n",
    "fig, axes = plt.subplots(figsize=(20,6))\n",
    "axes.boxplot([dt.LIMIT_BAL, df.LIMIT_BAL], vert=False, labels=['dt', 'df'])\n",
    "axes.set_xticks(np.arange(0, data.LIMIT_BAL.max() + 50000, 50000))\n",
    "axes.grid()\n",
    "\n",
    "\"\"\"\n",
    "на boxplot тяжелый правый хвост выражен сильными выбросами за 1,5 интерквантильных размаха\n",
    "собственно интерквантильные размахи и медианы отличаются не очень сильно\n",
    "\"\"\"\n",
    "pass"
   ]
  },
  {
   "cell_type": "code",
   "execution_count": 410,
   "metadata": {},
   "outputs": [
    {
     "data": {
      "text/html": [
       "<div>\n",
       "<style>\n",
       "    .dataframe thead tr:only-child th {\n",
       "        text-align: right;\n",
       "    }\n",
       "\n",
       "    .dataframe thead th {\n",
       "        text-align: left;\n",
       "    }\n",
       "\n",
       "    .dataframe tbody tr th {\n",
       "        vertical-align: top;\n",
       "    }\n",
       "</style>\n",
       "<table border=\"1\" class=\"dataframe\">\n",
       "  <thead>\n",
       "    <tr style=\"text-align: right;\">\n",
       "      <th></th>\n",
       "      <th>count</th>\n",
       "      <th>mean</th>\n",
       "      <th>std</th>\n",
       "      <th>min</th>\n",
       "      <th>25%</th>\n",
       "      <th>50%</th>\n",
       "      <th>75%</th>\n",
       "      <th>max</th>\n",
       "    </tr>\n",
       "  </thead>\n",
       "  <tbody>\n",
       "    <tr>\n",
       "      <th>dt</th>\n",
       "      <td>6636.0</td>\n",
       "      <td>130109.656420</td>\n",
       "      <td>115378.540571</td>\n",
       "      <td>10000.0</td>\n",
       "      <td>50000.0</td>\n",
       "      <td>90000.0</td>\n",
       "      <td>200000.0</td>\n",
       "      <td>740000.0</td>\n",
       "    </tr>\n",
       "    <tr>\n",
       "      <th>df</th>\n",
       "      <td>23364.0</td>\n",
       "      <td>178099.726074</td>\n",
       "      <td>131628.359660</td>\n",
       "      <td>10000.0</td>\n",
       "      <td>70000.0</td>\n",
       "      <td>150000.0</td>\n",
       "      <td>250000.0</td>\n",
       "      <td>1000000.0</td>\n",
       "    </tr>\n",
       "  </tbody>\n",
       "</table>\n",
       "</div>"
      ],
      "text/plain": [
       "      count           mean            std      min      25%       50%  \\\n",
       "dt   6636.0  130109.656420  115378.540571  10000.0  50000.0   90000.0   \n",
       "df  23364.0  178099.726074  131628.359660  10000.0  70000.0  150000.0   \n",
       "\n",
       "         75%        max  \n",
       "dt  200000.0   740000.0  \n",
       "df  250000.0  1000000.0  "
      ]
     },
     "execution_count": 410,
     "metadata": {},
     "output_type": "execute_result"
    }
   ],
   "source": [
    "# посмотрим на набор статистик\n",
    "\"\"\"\n",
    "точечная оценка медианы лимита для вернувших кредит - 150 000, для невернувших - 90 000\n",
    "\"\"\"\n",
    "pd.DataFrame([dt.LIMIT_BAL.describe(), df.LIMIT_BAL.describe()], index=['dt', 'df'])\n"
   ]
  },
  {
   "cell_type": "code",
   "execution_count": 411,
   "metadata": {},
   "outputs": [
    {
     "data": {
      "image/png": "[encoded data removed]",
      "text/plain": [
       "<matplotlib.figure.Figure at 0x1552dda0>"
      ]
     },
     "metadata": {},
     "output_type": "display_data"
    }
   ],
   "source": [
    "# посмотрим на взаимосвязь переменных\n",
    "pd.plotting.scatter_matrix(data[['LIMIT_BAL', 'default']], alpha=0.2, \n",
    "                                 figsize=(10, 10), diagonal='hist', marker='o')\n",
    "pylab.show()\n",
    "\n",
    "\"\"\"\n",
    "предварительно можно предположить, что клиенты с большими лимитами реже объявляют дефолт\n",
    "\"\"\"\n",
    "pass"
   ]
  },
  {
   "cell_type": "markdown",
   "metadata": {},
   "source": [
    "#### Гипотеза о равенстве медиан"
   ]
  },
  {
   "cell_type": "code",
   "execution_count": 412,
   "metadata": {
    "collapsed": true
   },
   "outputs": [],
   "source": [
    "# чтобы оценить доверительный интервал медианы кредитного лимита, необходимо понять распределение медианы\n",
    "# сделаем это с помощью бутстрепа\n",
    "\n",
    "# функции из учебного ноутбука stat.bootstrap_intervals\n",
    "def get_bootstrap_samples(data, n_samples):\n",
    "    indices = np.random.randint(0, len(data), (n_samples, len(data)))\n",
    "    samples = data[indices]\n",
    "    return samples\n",
    "def stat_intervals(stat, alpha):\n",
    "    boundaries = np.percentile(stat, [100 * alpha / 2., 100 * (1 - alpha / 2.)])\n",
    "    return boundaries"
   ]
  },
  {
   "cell_type": "code",
   "execution_count": 413,
   "metadata": {},
   "outputs": [
    {
     "name": "stdout",
     "output_type": "stream",
     "text": [
      "95% доверительный интервал медианы лимита для невернувших кредит: [ 80000.  90000.]\n",
      "95% доверительный интервал медианы лимита для вернувших кредит: [ 150000.  150000.]\n"
     ]
    }
   ],
   "source": [
    "# генерируем тысячу выборок...\n",
    "np.random.seed(42)\n",
    "\n",
    "dt_median = map(np.median, get_bootstrap_samples(np.array(dt.LIMIT_BAL), 1000))\n",
    "df_median = map(np.median, get_bootstrap_samples(np.array(df.LIMIT_BAL), 1000))\n",
    "\n",
    "# ...и вычисляем доверительный интервал\n",
    "print \"95% доверительный интервал медианы лимита для невернувших кредит:\",  stat_intervals(dt_median, 0.05)\n",
    "print \"95% доверительный интервал медианы лимита для вернувших кредит:\",  stat_intervals(df_median, 0.05)\n",
    "\n",
    "\"\"\"\n",
    "из полученного результата делаем вывод, что медианные значения не равны\n",
    "\"\"\"\n",
    "pass"
   ]
  },
  {
   "cell_type": "markdown",
   "metadata": {},
   "source": [
    "#### Гипотеза о равенстве распределений"
   ]
  },
  {
   "cell_type": "code",
   "execution_count": 414,
   "metadata": {},
   "outputs": [
    {
     "name": "stdout",
     "output_type": "stream",
     "text": [
      "MannwhitneyuResult(statistic=59257217.5, pvalue=1.2255485818223303e-189)\n"
     ]
    }
   ],
   "source": [
    "# нулевая гипотеза - \"распределения равны\", проверяется против двусторонней альтенативы - \"распределения отличаются\"\n",
    "# так как задача двухвыборочная с независимыми выборками, для проверки используем критерий Манна-Уитни\n",
    "print stats.mannwhitneyu(dt.LIMIT_BAL, df.LIMIT_BAL, alternative='two-sided')\n",
    "\n",
    "\"\"\"\n",
    "значение p-value очень мало - нулевая гипотеза отвергается на уровне значимости 0,05\n",
    "\n",
    "Практическая значимость для меня не очевидна. Мы убедились, невернувшие кредит имеют в среднем меньшие лимиты, чем вернувшие\n",
    "Но лимит был ранее установлен банком, на основании оценки платежеспособности клиента. Поэтому тот факт, что у вернувших\n",
    "кредит бОльшие лимиты, чем у невернувших, говорит лишь о том,что система оценки кредитоспособности работает хорошо.\n",
    "Но если всем начать устанавливать высокие лимиты, то это будет уже плохо )\n",
    "\"\"\"\n",
    "pass"
   ]
  },
  {
   "cell_type": "markdown",
   "metadata": {},
   "source": [
    "## Задание 2\n",
    "**Пол (SEX):** Проверьте гипотезу о том, что гендерный состав группы людей вернувших и не вернувших кредит отличается. Хорошо, если вы предоставите несколько различных решений этой задачи (с помощью доверительного интервала и подходящего статистического критерия)"
   ]
  },
  {
   "cell_type": "markdown",
   "metadata": {},
   "source": [
    "#### Графики"
   ]
  },
  {
   "cell_type": "code",
   "execution_count": 415,
   "metadata": {},
   "outputs": [
    {
     "data": {
      "image/png": "[encoded data removed]",
      "text/plain": [
       "<matplotlib.figure.Figure at 0x171087b8>"
      ]
     },
     "metadata": {},
     "output_type": "display_data"
    }
   ],
   "source": [
    "# посмотрим на гендерные соотношения среди вернувших и невернувших кредит \n",
    "sex_def_count = pd.DataFrame([df.SEX.value_counts(), dt.SEX.value_counts()], index=['df', 'dt'])\n",
    "sex_def_count.columns = ['women', 'men']\n",
    "sex_def_count.plot(kind='bar')\n",
    "\n",
    "\"\"\"\n",
    "по результатам визуального анализа можно предположить, что гендерный состав выборок не одинаковый\n",
    "\"\"\"\n",
    "pass"
   ]
  },
  {
   "cell_type": "markdown",
   "metadata": {},
   "source": [
    "#### Решение с помощью доверительного интервала\n",
    "Необходимо исследовать гендерный состав, который заключается в соотношении количества мужчин и женщин. Наша выборка явно из распределения Бернулли, т.к. имеет только два значения. Рассмотрим долю, например, мужчин, что даст представление о гендерном составе в целом\n",
    "Так как имеем две выборки - вернувшие и невернувшие кредит, используем алгоритм доверительного интервала для двух долей. Выборки независимые"
   ]
  },
  {
   "cell_type": "code",
   "execution_count": 416,
   "metadata": {
    "collapsed": true
   },
   "outputs": [],
   "source": [
    "from statsmodels.stats.proportion import proportion_confint"
   ]
  },
  {
   "cell_type": "code",
   "execution_count": 417,
   "metadata": {},
   "outputs": [],
   "source": [
    "df_man = df.loc[:,'SEX'] # гендерные признаки вернувших кредит (default false)\n",
    "dt_man = dt.loc[:,'SEX'] # гендерные признаки невернувших кредит (default true)"
   ]
  },
  {
   "cell_type": "code",
   "execution_count": 418,
   "metadata": {},
   "outputs": [],
   "source": [
    "# сначала посмотрим на доверительные интервалы для доли мужчин в каждой выборке отдельно\n",
    "conf_int_man_dt = proportion_confint(sum([abs(x-2) for x in dt_man]), dt_man.shape[0], method = 'wilson')\n",
    "conf_int_man_df = proportion_confint(sum([abs(x-2) for x in df_man]), df_man.shape[0], method = 'wilson')"
   ]
  },
  {
   "cell_type": "code",
   "execution_count": 419,
   "metadata": {},
   "outputs": [
    {
     "name": "stdout",
     "output_type": "stream",
     "text": [
      "доверительный интервал доли мужчин среди невернувших кредит [0.421062, 0.444898]\n",
      "доверительный интервал доли мужчин среди вернувших кредит [0.379627, 0.392110]\n"
     ]
    }
   ],
   "source": [
    "print 'доверительный интервал доли мужчин среди невернувших кредит [%f, %f]' % conf_int_man_dt\n",
    "print 'доверительный интервал доли мужчин среди вернувших кредит [%f, %f]' % conf_int_man_df\n",
    "\"\"\"\n",
    "очевидно, что мужчин среди невернувших кредит доля мужчин больше\n",
    "доверительные интервалы не пересекаются, так что на этом можно было бы закончить, но мы продолжим...\n",
    "\"\"\"\n",
    "pass"
   ]
  },
  {
   "cell_type": "code",
   "execution_count": 420,
   "metadata": {
    "collapsed": true
   },
   "outputs": [],
   "source": [
    "# посчитаем доверительный интервал для разности долей\n",
    "# функция из учебного ноутбука stat.two_proporions_conf_int_upd\n",
    "def proportions_confint_diff_ind(sample1, sample2, alpha = 0.05):    \n",
    "    z = stats.norm.ppf(1 - alpha / 2.)   \n",
    "    p1 = float(sum(sample1)) / len(sample1)\n",
    "    p2 = float(sum(sample2)) / len(sample2)\n",
    "    \n",
    "    left_boundary = (p1 - p2) - z * np.sqrt(p1 * (1 - p1)/ len(sample1) + p2 * (1 - p2)/ len(sample2))\n",
    "    right_boundary = (p1 - p2) + z * np.sqrt(p1 * (1 - p1)/ len(sample1) + p2 * (1 - p2)/ len(sample2))\n",
    "    \n",
    "    return (left_boundary, right_boundary)"
   ]
  },
  {
   "cell_type": "code",
   "execution_count": 421,
   "metadata": {},
   "outputs": [
    {
     "name": "stdout",
     "output_type": "stream",
     "text": [
      "(0.033634932749628671, 0.060548077974896725)\n"
     ]
    }
   ],
   "source": [
    "print proportions_confint_diff_ind([abs(x-2) for x in dt_man], [abs(x-2) for x in df_man])\n",
    "\"\"\"\n",
    "ноль ожидаемо не попал в доверительный интервал разности, что свидетельствует о том, что гендерный состав выборок разнится\n",
    "\"\"\"\n",
    "pass"
   ]
  },
  {
   "cell_type": "markdown",
   "metadata": {},
   "source": [
    "#### Решение с помощью статистического критерия\n",
    "Как уже было сказано выше, наши выборки имеют распределение Бернулли. Будем использовать Z-критерий для доли для двух независимых выборок"
   ]
  },
  {
   "cell_type": "code",
   "execution_count": 422,
   "metadata": {},
   "outputs": [
    {
     "data": {
      "image/png": "[encoded data removed]",
      "text/plain": [
       "<matplotlib.figure.Figure at 0x1e5c8b00>"
      ]
     },
     "metadata": {},
     "output_type": "display_data"
    },
    {
     "name": "stdout",
     "output_type": "stream",
     "text": [
      "Wall time: 1.52 s\n"
     ]
    }
   ],
   "source": [
    "%%time\n",
    "# для начала нарисуем наши рапределения, чтобы визуально убедиться в из непохожести\n",
    "\n",
    "# распределения доли мужчин среди вернувших и невернувших кредит\n",
    "dt_bin = stats.binom(len(dt_man), np.array([abs(x-2) for x in dt_man]).mean())\n",
    "df_bin = stats.binom(len(df_man), np.array([abs(x-2) for x in df_man]).mean())\n",
    "\n",
    "# диаграммы \n",
    "n=300\n",
    "fig, axes = plt.subplots(1, 2, sharey=True, figsize=(10,6))\n",
    "x1 = np.linspace(np.array([abs(x-2) for x in dt_man]).sum()-n, np.array([abs(x-2) for x in dt_man]).sum()+n, n+1)\n",
    "axes[0].bar(x1, dt_bin.pmf(x1), align = 'center')\n",
    "axes[0].set_xlim(2700, 3050) \n",
    "axes[0].set_title('PMF man - default true')\n",
    "\n",
    "\n",
    "x2 = np.linspace(np.array([abs(x-2) for x in df_man]).sum()-n, np.array([abs(x-2) for x in df_man]).sum()+n, n+1)\n",
    "axes[1].bar(x2, df_bin.pmf(x2), align = 'center')\n",
    "axes[1].set_xlim(8700, 9300) \n",
    "axes[1].set_title('PMF man - default false')\n",
    "\n",
    "\n",
    "pylab.show()"
   ]
  },
  {
   "cell_type": "code",
   "execution_count": 423,
   "metadata": {},
   "outputs": [],
   "source": [
    "# расчет z-статистики и p-value для двух долей в независимых выборках\n",
    "def binom_z_stat_2prop_ind(sample1, sample2, alternative='two-sided'):\n",
    "    \n",
    "    if alternative not in ('two-sided', 'less', 'greater'):\n",
    "        raise ValueError(\"alternative not recognized\\n\"\n",
    "                         \"should be 'two-sided', 'less' or 'greater'\")\n",
    "    \n",
    "    n1 = float(len(sample1))\n",
    "    n2 = float(len(sample2))\n",
    "    p1 = float(sum(sample1)) / n1\n",
    "    p2 = float(sum(sample2)) / n2\n",
    "    \n",
    "    P = (p1 * n1 + p2 * n2) / (n1 + n2)\n",
    "    z = (p1 - p2) / sqrt(P * (1 - P) * (1 / n1 + 1 / n2))\n",
    "    \n",
    "    # нулевое распределение - стандартное нормальное \n",
    "    if alternative == 'two-sided':\n",
    "        p = 2 * stats.norm.sf(abs(z))\n",
    "    else:\n",
    "        p = stats.norm.sf(z)\n",
    "\n",
    "    return {'p-value':p, 'statistic':z}\n"
   ]
  },
  {
   "cell_type": "code",
   "execution_count": 424,
   "metadata": {},
   "outputs": [
    {
     "name": "stdout",
     "output_type": "stream",
     "text": [
      "{'p-value': 4.4728043358141128e-12, 'statistic': 6.9213750885628968}\n"
     ]
    }
   ],
   "source": [
    "# проверяем нулевую гипотезу о равенстве распределений против двусторонней альтернативы\n",
    "print binom_z_stat_2prop_ind([abs(x-2) for x in dt_man], [abs(x-2) for x in df_man])\n",
    "\"\"\"\n",
    "столь малый p-value убедительно свидетельствует о различии гендерного состава в выборках\n",
    "\n",
    "Так вышло, что мужчины чаще не возвращают кредит... Этот факт необходимо как-то учитывать при оценке заемщика\n",
    "\"\"\"\n",
    "pass"
   ]
  },
  {
   "cell_type": "markdown",
   "metadata": {},
   "source": [
    "## Задание 3\n",
    "**Образование (EDUCATION):** Проверьте гипотезу о том, что образование не влияет на то, вернет ли человек долг. Предложите способ наглядного представления разницы в ожидаемых и наблюдаемых значениях количества человек вернувших и не вернувших долг. Например, составьте таблицу сопряженности \"образование\" на \"возврат долга\", где значением ячейки была бы разность между наблюдаемым и ожидаемым количеством человек. Как бы вы предложили модифицировать таблицу так, чтобы привести значения ячеек к одному масштабу не потеряв в интерпретируемости? Наличие какого образования является наилучшим индикатором того, что человек отдаст долг? Наоборт, не отдаст долг?"
   ]
  },
  {
   "cell_type": "markdown",
   "metadata": {},
   "source": [
    "#### Графики"
   ]
  },
  {
   "cell_type": "markdown",
   "metadata": {},
   "source": [
    "Для начала вспомним легенду:\n",
    "\n",
    "EDUCATION: образование (0 = доктор, 1 = магистр; 2 = бакалавр; 3 = выпускник школы; 4 = начальное образование; 5= прочее; 6 = нет данных )"
   ]
  },
  {
   "cell_type": "code",
   "execution_count": 425,
   "metadata": {
    "collapsed": true
   },
   "outputs": [],
   "source": [
    "from statsmodels.stats.proportion import proportion_confint"
   ]
  },
  {
   "cell_type": "code",
   "execution_count": 426,
   "metadata": {},
   "outputs": [
    {
     "data": {
      "image/png": "[encoded data removed]",
      "text/plain": [
       "<matplotlib.figure.Figure at 0x192c7898>"
      ]
     },
     "metadata": {},
     "output_type": "display_data"
    }
   ],
   "source": [
    "# визуально оценим структуру образования в общей выборке\n",
    "legend = ['PhD', 'master', 'bachelor', 'graduate', 'primary education', 'other', 'na']\n",
    "ed_count = pd.DataFrame(data.EDUCATION.value_counts(sort=False)).T\n",
    "ed_count.columns = legend\n",
    "ed_count.plot(kind='bar', use_index=False, table=True)\n",
    "\n",
    "\"\"\"\n",
    "Большую часть выборки составляют бакалавры, магистры, выпускники школ\n",
    "\"\"\"\n",
    "pass"
   ]
  },
  {
   "cell_type": "code",
   "execution_count": 427,
   "metadata": {},
   "outputs": [
    {
     "data": {
      "image/png": "[encoded data removed]",
      "text/plain": [
       "<matplotlib.figure.Figure at 0x1a3629e8>"
      ]
     },
     "metadata": {},
     "output_type": "display_data"
    }
   ],
   "source": [
    "# теперь поделим на вернувших и невернувших кредит \n",
    "sex_def_count = pd.DataFrame([df.EDUCATION.value_counts(), dt.EDUCATION.value_counts()], index=['df', 'dt'])\n",
    "sex_def_count.columns = legend\n",
    "sex_def_count.plot(kind='bar', table=True)\n",
    "\n",
    "\"\"\"\n",
    "предварительный анализ мало что дает - соотношения примерно одинаковые\n",
    "можно предположить, что образование не слишком-то влияет на возврат кредита\n",
    "\"\"\"\n",
    "pass"
   ]
  },
  {
   "cell_type": "markdown",
   "metadata": {},
   "source": [
    "#### Строим таблицу сопряженности"
   ]
  },
  {
   "cell_type": "code",
   "execution_count": 428,
   "metadata": {},
   "outputs": [
    {
     "name": "stdout",
     "output_type": "stream",
     "text": [
      "default        0     1\n",
      "EDUCATION             \n",
      "0             14     0\n",
      "1           8549  2036\n",
      "2          10700  3330\n",
      "3           3680  1237\n",
      "4            116     7\n",
      "5            262    18\n",
      "6             43     8\n"
     ]
    }
   ],
   "source": [
    "# строим таблицу сопряженности\n",
    "c_tab_ed = pd.crosstab(data['EDUCATION'], data['default'])\n",
    "print c_tab_ed"
   ]
  },
  {
   "cell_type": "code",
   "execution_count": 429,
   "metadata": {},
   "outputs": [
    {
     "name": "stdout",
     "output_type": "stream",
     "text": [
      "         0       1\n",
      "0     11.0     3.0\n",
      "1   8244.0  2341.0\n",
      "2  10927.0  3103.0\n",
      "3   3829.0  1088.0\n",
      "4     96.0    27.0\n",
      "5    218.0    62.0\n",
      "6     40.0    11.0\n"
     ]
    }
   ],
   "source": [
    "# определим ожидаемые значения\n",
    "exp_val = pd.DataFrame(np.round([c_tab_ed.sum(axis=1)*c_tab_ed.sum(axis=0)[0]/float(c_tab_ed.sum().sum()), \\\n",
    "                                 c_tab_ed.sum(axis=1)*c_tab_ed.sum(axis=0)[1]/float(c_tab_ed.sum().sum())])).T\n",
    "print exp_val"
   ]
  },
  {
   "cell_type": "code",
   "execution_count": 430,
   "metadata": {},
   "outputs": [
    {
     "name": "stdout",
     "output_type": "stream",
     "text": [
      "default        0      1\n",
      "EDUCATION              \n",
      "0            3.0   -3.0\n",
      "1          305.0 -305.0\n",
      "2         -227.0  227.0\n",
      "3         -149.0  149.0\n",
      "4           20.0  -20.0\n",
      "5           44.0  -44.0\n",
      "6            3.0   -3.0\n"
     ]
    }
   ],
   "source": [
    "# таблица разниц между наблюдаемыми и ожидаемыми значениями \n",
    "dif_tab = c_tab_ed - exp_val\n",
    "print dif_tab\n",
    "\"\"\"\n",
    "отклонения по модулю равны\n",
    "\"\"\"\n",
    "pass"
   ]
  },
  {
   "cell_type": "code",
   "execution_count": 431,
   "metadata": {},
   "outputs": [
    {
     "name": "stdout",
     "output_type": "stream",
     "text": [
      "EDUCATION\n",
      "0   -0.018720\n",
      "1   -1.817589\n",
      "2    1.351279\n",
      "3    0.886670\n",
      "4   -0.119981\n",
      "5   -0.262938\n",
      "6   -0.018720\n",
      "Name: 1, dtype: float64\n"
     ]
    }
   ],
   "source": [
    "# с учетом равенства отклонений по модулю, возьмем, например, колонку с отклонением по невернувшим\n",
    "# для приведения к одному масштабу используем центрирование и нормирование\n",
    "var_tab = (dif_tab[1] - dif_tab[1].mean())/dif_tab[1].std()\n",
    "print var_tab\n",
    "\"\"\"\n",
    "результат показывает вклад каждой категории в дисперсию\n",
    " - чем больше значение по модулю, тем больше наблюдаемое значение отклоняется от ожидаемого\n",
    " - знак указывает на сторону отклонения: минус - невернувших кредит оказалось меньше ожидаемого количества, плюс - больше\n",
    " - значение близкое к единице, говорит о том, что отклонени конкретной категории близко к отлонению по выборке в целом\n",
    "\n",
    "\"\"\"\n",
    "pass"
   ]
  },
  {
   "cell_type": "code",
   "execution_count": 432,
   "metadata": {},
   "outputs": [
    {
     "data": {
      "text/plain": [
       "<matplotlib.axes._subplots.AxesSubplot at 0x1e49af60>"
      ]
     },
     "execution_count": 432,
     "metadata": {},
     "output_type": "execute_result"
    },
    {
     "data": {
      "image/png": "[encoded data removed]",
      "text/plain": [
       "<matplotlib.figure.Figure at 0x1a77a1d0>"
      ]
     },
     "metadata": {},
     "output_type": "display_data"
    }
   ],
   "source": [
    "# графическое представление отклонений\n",
    "var_tab.plot(kind='bar')\n"
   ]
  },
  {
   "cell_type": "markdown",
   "metadata": {},
   "source": [
    "#### Проверка гипотезы о влиянии образования на возврат долга"
   ]
  },
  {
   "cell_type": "code",
   "execution_count": 433,
   "metadata": {},
   "outputs": [
    {
     "name": "stdout",
     "output_type": "stream",
     "text": [
      "      0      1\n",
      "0  True  False\n",
      "1  True   True\n",
      "2  True   True\n",
      "3  True   True\n",
      "4  True   True\n",
      "5  True   True\n",
      "6  True   True\n"
     ]
    }
   ],
   "source": [
    "# воспользуемся коэффициентом V Крамера\n",
    "# сначала убедимся, что не более 20% ожидаемых значений меньше 5\n",
    "print exp_val > 5\n",
    "\n",
    "\"\"\"\n",
    "значение меньше 5 только в одной ячейке, так что критерий хи^2 для таблиц сопряжения применим\n",
    "\"\"\"\n",
    "pass"
   ]
  },
  {
   "cell_type": "code",
   "execution_count": 434,
   "metadata": {},
   "outputs": [
    {
     "name": "stdout",
     "output_type": "stream",
     "text": [
      "0.0737600971325\n"
     ]
    }
   ],
   "source": [
    "chi2, p, dof, ex = stats.chi2_contingency(c_tab_ed)\n",
    "fi_c = np.sqrt(chi2 / (sum(sum(np.array(c_tab_ed))) * (min(c_tab_ed.shape[0], c_tab_ed.shape[1]) - 1)))\n",
    "print fi_c\n",
    "\"\"\"\n",
    "коэффициент Крамера принимает значения в интервале от 0 до 1; \n",
    "наше значение значительно ближе к нулю, что говорит об отсутствии корреляции между образованием и возвратом долга\n",
    "\"\"\"\n",
    "pass"
   ]
  },
  {
   "cell_type": "markdown",
   "metadata": {},
   "source": [
    "#### Отдаст / не отдаст"
   ]
  },
  {
   "cell_type": "markdown",
   "metadata": {},
   "source": [
    "Лучше всех себя проявили доктора наук - нет ни одного дефолта. Но их только 14 из 30-ти тысяч. Построим доверительные интервалы для долей"
   ]
  },
  {
   "cell_type": "code",
   "execution_count": 435,
   "metadata": {
    "collapsed": true
   },
   "outputs": [],
   "source": [
    "# сначала определим, каков доверительный интервал дефолта для всей выборки\n",
    "prop_conf_dt = proportion_confint(sum(data.default), len(data.default), method = 'wilson')"
   ]
  },
  {
   "cell_type": "code",
   "execution_count": 436,
   "metadata": {},
   "outputs": [
    {
     "name": "stdout",
     "output_type": "stream",
     "text": [
      "доверительный интервал дефолта для всей выборки [0.216539, 0.225932], ширина 0.009393\n"
     ]
    }
   ],
   "source": [
    "print 'доверительный интервал дефолта для всей выборки [%f, %f], ширина %f' % (prop_conf_dt[0],\n",
    "                                                                               prop_conf_dt[1],\n",
    "                                                                               prop_conf_dt[1] - prop_conf_dt[0])"
   ]
  },
  {
   "cell_type": "code",
   "execution_count": 437,
   "metadata": {},
   "outputs": [
    {
     "name": "stdout",
     "output_type": "stream",
     "text": [
      "[[ 0.      0.      0.2153  0.2153]\n",
      " [ 1.      0.185   0.2     0.015 ]\n",
      " [ 2.      0.2304  0.2445  0.0141]\n",
      " [ 3.      0.2396  0.2639  0.0243]\n",
      " [ 4.      0.0278  0.1128  0.085 ]\n",
      " [ 5.      0.041   0.0993  0.0583]\n",
      " [ 6.      0.0817  0.2801  0.1984]]\n"
     ]
    }
   ],
   "source": [
    "# теперь посмотрим на доверительные интерваля для каждой категории образования\n",
    "conf_ints = np.zeros([len(legend), 4])\n",
    "for i in range(len(legend)):\n",
    "    conf_int = proportion_confint(sum(data[data.EDUCATION==i].default), \\\n",
    "                                  len(data[data.EDUCATION==i].default), method = 'wilson')\n",
    "    conf_ints[i] = (i, conf_int[0], conf_int[1], conf_int[1] - conf_int[0])\n",
    "print np.round(conf_ints, 4)\n",
    "\"\"\"\n",
    "у категорий 0 и 6 (доктора наук и na) очень широкие интервалы, что является следствием их малого количества в выборке,\n",
    "поэтому их не рассматриваем\n",
    "Статистически, самые надежные заемщики имеют образование категории 5 (other), а самые ненадежные - 3 (graduate)\n",
    "\n",
    "Несмотря на отсутсвие корреляции, на мой взгляд, практическая значимость есть. В основных категориях - 1-3, есть явные лидер\n",
    "по возвращаемости - магистры, а бакалавры и выпускники оказались правее доверительного интервала по выборке в целом.\n",
    "Эту информацию можно использовать на этапе оценки заемщика, например, устанавливать магистрам более высокие лимиты.\n",
    "\"\"\"\n",
    "pass"
   ]
  },
  {
   "cell_type": "markdown",
   "metadata": {},
   "source": [
    "## Задание 4\n",
    "**Семейное положение (MARRIAGE):** Проверьте, как связан семейный статус с индикатором дефолта: нужно предложить меру, по которой можно измерить возможную связь этих переменных и посчитать ее значение."
   ]
  },
  {
   "cell_type": "markdown",
   "metadata": {},
   "source": [
    "Необходимо определить влияние категориального и бинарного признака. Будем испозтвать коэффициент V Крамера\n",
    "\n",
    "Вспомним легенду: MARRIAGE: (0 = отказываюсь отвечать; 1 = замужем/женат; 2 = холост; 3 = нет данных)."
   ]
  },
  {
   "cell_type": "markdown",
   "metadata": {},
   "source": [
    "#### Графики"
   ]
  },
  {
   "cell_type": "code",
   "execution_count": 438,
   "metadata": {},
   "outputs": [
    {
     "data": {
      "image/png": "[encoded data removed]",
      "text/plain": [
       "<matplotlib.figure.Figure at 0x19fa7cc0>"
      ]
     },
     "metadata": {},
     "output_type": "display_data"
    }
   ],
   "source": [
    "data.MARRIAGE.value_counts(sort=False).plot(kind='bar')\n",
    "\"\"\"\n",
    "в выборке в основном женатые/замужние и холостые (примерно поровну), остальных не очень много\n",
    "\"\"\"\n",
    "pass"
   ]
  },
  {
   "cell_type": "code",
   "execution_count": 439,
   "metadata": {},
   "outputs": [
    {
     "name": "stdout",
     "output_type": "stream",
     "text": [
      "default       0     1\n",
      "MARRIAGE             \n",
      "0            49     5\n",
      "1         10453  3206\n",
      "2         12623  3341\n",
      "3           239    84\n"
     ]
    }
   ],
   "source": [
    "# строим таблицу сопряженности\n",
    "c_tab_mr = pd.crosstab(data['MARRIAGE'], data['default'])\n",
    "print c_tab_mr"
   ]
  },
  {
   "cell_type": "code",
   "execution_count": 440,
   "metadata": {},
   "outputs": [
    {
     "name": "stdout",
     "output_type": "stream",
     "text": [
      "0.0344782036628\n"
     ]
    }
   ],
   "source": [
    "# рассчитываем коэффициент V Крамера\n",
    "chi2, p, dof, ex = stats.chi2_contingency(c_tab_mr)\n",
    "fi_c = np.sqrt(chi2 / (sum(sum(np.array(c_tab_mr))) * (min(c_tab_mr.shape[0], c_tab_mr.shape[1]) - 1)))\n",
    "print fi_c\n",
    "\"\"\"\n",
    "коэффициент Крамера принимает значения в интервале от 0 до 1; \n",
    "наше значение значительно ближе к нулю, что говорит об отсутствии корреляции между семейным положением и возвратом долга\n",
    "\n",
    "Можно говорить об отсутствии практической значимости информации о семейном положении для прогнозирования возврата долга,\n",
    "т.к. корреляции нет.\n",
    "\"\"\"\n",
    "pass"
   ]
  },
  {
   "cell_type": "markdown",
   "metadata": {},
   "source": [
    "## Задание 5\n",
    "**Возраст (AGE):** Относительно двух групп людей вернувших и не вернувших кредит проверьте следующие гипотезы: a) о равенстве медианных значений возрастов людей b) о равенстве распределений с помощью одного из подходящих непараметрических критериев проверки равенства средних. Значимы ли полученные результаты с практической точки зрения ?"
   ]
  },
  {
   "cell_type": "markdown",
   "metadata": {},
   "source": [
    "#### Графики"
   ]
  },
  {
   "cell_type": "code",
   "execution_count": 441,
   "metadata": {},
   "outputs": [
    {
     "data": {
      "image/png": "[encoded data removed]",
      "text/plain": [
       "<matplotlib.figure.Figure at 0x138da710>"
      ]
     },
     "metadata": {},
     "output_type": "display_data"
    }
   ],
   "source": [
    "# посмотрим на данные разными способами\n",
    "# для начала - гистограммы\n",
    "fig, axes = plt.subplots(2, 1, sharex=True, figsize=(8,6))\n",
    "axes[0].hist(dt.AGE, color = 'r', bins=15, label='default')\n",
    "axes[0].legend()\n",
    "\n",
    "axes[1].hist(df.AGE, color = 'b', bins=15, label='repay')\n",
    "axes[1].legend()\n",
    "\n",
    "plt.subplots_adjust(hspace = 0)\n",
    "\n",
    "\"\"\"\n",
    "распределение скошенное, унимодальное, с тяжелым правым хвостом\n",
    "\"\"\"\n",
    "pass"
   ]
  },
  {
   "cell_type": "code",
   "execution_count": 442,
   "metadata": {},
   "outputs": [
    {
     "data": {
      "image/png": "[encoded data removed]",
      "text/plain": [
       "<matplotlib.figure.Figure at 0x1fac2d68>"
      ]
     },
     "metadata": {},
     "output_type": "display_data"
    }
   ],
   "source": [
    "# построим \"ящики с усами\"\n",
    "fig, axes = plt.subplots(figsize=(20,6))\n",
    "axes.boxplot([dt.AGE, df.AGE], vert=False, labels=['dt', 'df'])\n",
    "axes.grid()\n",
    "\n",
    "\"\"\"\n",
    "на boxplot тяжелый правый хвост выражен сильными выбросами за 1,5 интерквантильных размаха\n",
    "интерквантильные размахи похожи, а точечная оценка медиан - одинаковая (см. таблицу ниже)\n",
    "\"\"\"\n",
    "pass"
   ]
  },
  {
   "cell_type": "code",
   "execution_count": 443,
   "metadata": {},
   "outputs": [
    {
     "data": {
      "text/html": [
       "<div>\n",
       "<style>\n",
       "    .dataframe thead tr:only-child th {\n",
       "        text-align: right;\n",
       "    }\n",
       "\n",
       "    .dataframe thead th {\n",
       "        text-align: left;\n",
       "    }\n",
       "\n",
       "    .dataframe tbody tr th {\n",
       "        vertical-align: top;\n",
       "    }\n",
       "</style>\n",
       "<table border=\"1\" class=\"dataframe\">\n",
       "  <thead>\n",
       "    <tr style=\"text-align: right;\">\n",
       "      <th></th>\n",
       "      <th>count</th>\n",
       "      <th>mean</th>\n",
       "      <th>std</th>\n",
       "      <th>min</th>\n",
       "      <th>25%</th>\n",
       "      <th>50%</th>\n",
       "      <th>75%</th>\n",
       "      <th>max</th>\n",
       "    </tr>\n",
       "  </thead>\n",
       "  <tbody>\n",
       "    <tr>\n",
       "      <th>dt</th>\n",
       "      <td>6636.0</td>\n",
       "      <td>35.725738</td>\n",
       "      <td>9.693438</td>\n",
       "      <td>21.0</td>\n",
       "      <td>28.0</td>\n",
       "      <td>34.0</td>\n",
       "      <td>42.0</td>\n",
       "      <td>75.0</td>\n",
       "    </tr>\n",
       "    <tr>\n",
       "      <th>df</th>\n",
       "      <td>23364.0</td>\n",
       "      <td>35.417266</td>\n",
       "      <td>9.077355</td>\n",
       "      <td>21.0</td>\n",
       "      <td>28.0</td>\n",
       "      <td>34.0</td>\n",
       "      <td>41.0</td>\n",
       "      <td>79.0</td>\n",
       "    </tr>\n",
       "  </tbody>\n",
       "</table>\n",
       "</div>"
      ],
      "text/plain": [
       "      count       mean       std   min   25%   50%   75%   max\n",
       "dt   6636.0  35.725738  9.693438  21.0  28.0  34.0  42.0  75.0\n",
       "df  23364.0  35.417266  9.077355  21.0  28.0  34.0  41.0  79.0"
      ]
     },
     "execution_count": 443,
     "metadata": {},
     "output_type": "execute_result"
    }
   ],
   "source": [
    "# посмотрим на набор статистик\n",
    "\"\"\"\n",
    "точечная оценка медианы возраста для вернувших и невернувших кредит - 34 года\n",
    "\"\"\"\n",
    "pd.DataFrame([dt.AGE.describe(), df.AGE.describe()], index=['dt', 'df'])\n"
   ]
  },
  {
   "cell_type": "markdown",
   "metadata": {},
   "source": [
    "#### Гипотеза о равенстве медианных значений возрастов"
   ]
  },
  {
   "cell_type": "code",
   "execution_count": 444,
   "metadata": {},
   "outputs": [
    {
     "name": "stdout",
     "output_type": "stream",
     "text": [
      "95% доверительный интервал для невернувших кредит: [ 34.  35.]\n",
      "95% доверительный интервал для вернувших кредит: [ 34.  34.]\n"
     ]
    }
   ],
   "source": [
    "# снова воспользуемся бутстрепом \n",
    "# генерируем тысячу выборок...\n",
    "np.random.seed(42)\n",
    "\n",
    "dt_median = map(np.median, get_bootstrap_samples(np.array(dt.AGE), 1000))\n",
    "df_median = map(np.median, get_bootstrap_samples(np.array(df.AGE), 1000))\n",
    "\n",
    "# ...и вычисляем доверительный интервал\n",
    "print \"95% доверительный интервал для невернувших кредит:\",  stat_intervals(dt_median, 0.05)\n",
    "print \"95% доверительный интервал для вернувших кредит:\",  stat_intervals(df_median, 0.05)\n",
    "\n",
    "\"\"\"\n",
    "с учетом идентичности точечной оценки, интервалы прогнозируемо оказались одинаковы\n",
    "гипотеза о равенстве медианных значений возрастов подтверждается\n",
    "\"\"\"\n",
    "pass"
   ]
  },
  {
   "cell_type": "markdown",
   "metadata": {},
   "source": [
    "#### Гипотеза о равенстве распределений"
   ]
  },
  {
   "cell_type": "code",
   "execution_count": 445,
   "metadata": {},
   "outputs": [
    {
     "name": "stdout",
     "output_type": "stream",
     "text": [
      "MannwhitneyuResult(statistic=78076624.5, pvalue=0.37250354348986159)\n"
     ]
    }
   ],
   "source": [
    "# нулевая гипотеза - \"распределения равны\", проверяется против двусторонней альтенативы - \"распределения отличаются\"\n",
    "# так как задача двухвыборочная с независимыми выборками, для проверки используем критерий Манна-Уитни\n",
    "print stats.mannwhitneyu(dt.AGE, df.AGE, alternative='two-sided')\n",
    "\n",
    "\"\"\"\n",
    "значение p-value большое - на уровне значимости 0,05 нулевую гипотезу отвергнуть нельзя\n",
    "\n",
    "Практическая значимость для меня не очевидна. Мы убедились, что с равной вероятностью и вернувшим, и невернувшим кредит\n",
    "будет либо более 34 лет, либо менее. Не понятно, как это может нам помочь принять решение на этапе оценки заемщика...\n",
    "\"\"\"\n",
    "pass"
   ]
  }
 ],
 "metadata": {
  "kernelspec": {
   "display_name": "Python 2",
   "language": "python",
   "name": "python2"
  },
  "language_info": {
   "codemirror_mode": {
    "name": "ipython",
    "version": 2
   },
   "file_extension": ".py",
   "mimetype": "text/x-python",
   "name": "python",
   "nbconvert_exporter": "python",
   "pygments_lexer": "ipython2",
   "version": "2.7.13"
  }
 },
 "nbformat": 4,
 "nbformat_minor": 1
}
